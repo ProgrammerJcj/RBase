{
 "cells": [
  {
   "cell_type": "markdown",
   "id": "2d289eb3",
   "metadata": {},
   "source": [
    "# Mushroom\n",
    "\n",
    "https://archive.ics.uci.edu/ml/datasets/Mushroom\n",
    "- 8124종류의 버섯의 특징과 독의 유무를 정리해논 데이터셋\n",
    "- 버섯 모양의 특징을 기반으로 독의 유무를 판단\n",
    "\n",
    "한 줄(row)이 버섯 한 종류.  \n",
    "1번째 컬럼은 독의 유무 : 독(p), 식용(e)<br>\n",
    "2번째 컬럼은 버섯의 머리모양 : b(벨형태), c(원뿔), x(볼록), f(평평), k(혹), s(오목)<br>\n",
    "4번째 컬럼은 버섯위 머리 색 : n(갈색), b(황갈색), c(연한갈색), g(회색)<br>\n",
    "\n",
    "* 자세한 내용은 위의 사이트에서 확인\n"
   ]
  },
  {
   "cell_type": "markdown",
   "id": "51beb806",
   "metadata": {},
   "source": [
    "인공신경망, 의사결정나무, RandomForest, SVM, 로지스틱 회귀분석\n"
   ]
  },
  {
   "cell_type": "code",
   "execution_count": 113,
   "id": "ade686c2",
   "metadata": {},
   "outputs": [
    {
     "data": {
      "text/html": [
       "<table>\n",
       "<thead><tr><th scope=col>V1</th><th scope=col>V2</th><th scope=col>V3</th><th scope=col>V4</th><th scope=col>V5</th><th scope=col>V6</th><th scope=col>V7</th><th scope=col>V8</th><th scope=col>V9</th><th scope=col>V10</th><th scope=col>...</th><th scope=col>V14</th><th scope=col>V15</th><th scope=col>V16</th><th scope=col>V17</th><th scope=col>V18</th><th scope=col>V19</th><th scope=col>V20</th><th scope=col>V21</th><th scope=col>V22</th><th scope=col>V23</th></tr></thead>\n",
       "<tbody>\n",
       "\t<tr><td>p  </td><td>x  </td><td>s  </td><td>n  </td><td>t  </td><td>p  </td><td>f  </td><td>c  </td><td>n  </td><td>k  </td><td>...</td><td>s  </td><td>w  </td><td>w  </td><td>p  </td><td>w  </td><td>o  </td><td>p  </td><td>k  </td><td>s  </td><td>u  </td></tr>\n",
       "\t<tr><td>e  </td><td>x  </td><td>s  </td><td>y  </td><td>t  </td><td>a  </td><td>f  </td><td>c  </td><td>b  </td><td>k  </td><td>...</td><td>s  </td><td>w  </td><td>w  </td><td>p  </td><td>w  </td><td>o  </td><td>p  </td><td>n  </td><td>n  </td><td>g  </td></tr>\n",
       "\t<tr><td>e  </td><td>b  </td><td>s  </td><td>w  </td><td>t  </td><td>l  </td><td>f  </td><td>c  </td><td>b  </td><td>n  </td><td>...</td><td>s  </td><td>w  </td><td>w  </td><td>p  </td><td>w  </td><td>o  </td><td>p  </td><td>n  </td><td>n  </td><td>m  </td></tr>\n",
       "\t<tr><td>p  </td><td>x  </td><td>y  </td><td>w  </td><td>t  </td><td>p  </td><td>f  </td><td>c  </td><td>n  </td><td>n  </td><td>...</td><td>s  </td><td>w  </td><td>w  </td><td>p  </td><td>w  </td><td>o  </td><td>p  </td><td>k  </td><td>s  </td><td>u  </td></tr>\n",
       "\t<tr><td>e  </td><td>x  </td><td>s  </td><td>g  </td><td>f  </td><td>n  </td><td>f  </td><td>w  </td><td>b  </td><td>k  </td><td>...</td><td>s  </td><td>w  </td><td>w  </td><td>p  </td><td>w  </td><td>o  </td><td>e  </td><td>n  </td><td>a  </td><td>g  </td></tr>\n",
       "\t<tr><td>e  </td><td>x  </td><td>y  </td><td>y  </td><td>t  </td><td>a  </td><td>f  </td><td>c  </td><td>b  </td><td>n  </td><td>...</td><td>s  </td><td>w  </td><td>w  </td><td>p  </td><td>w  </td><td>o  </td><td>p  </td><td>k  </td><td>n  </td><td>g  </td></tr>\n",
       "</tbody>\n",
       "</table>\n"
      ],
      "text/latex": [
       "\\begin{tabular}{r|lllllllllllllllllllllll}\n",
       " V1 & V2 & V3 & V4 & V5 & V6 & V7 & V8 & V9 & V10 & ... & V14 & V15 & V16 & V17 & V18 & V19 & V20 & V21 & V22 & V23\\\\\n",
       "\\hline\n",
       "\t p   & x   & s   & n   & t   & p   & f   & c   & n   & k   & ... & s   & w   & w   & p   & w   & o   & p   & k   & s   & u  \\\\\n",
       "\t e   & x   & s   & y   & t   & a   & f   & c   & b   & k   & ... & s   & w   & w   & p   & w   & o   & p   & n   & n   & g  \\\\\n",
       "\t e   & b   & s   & w   & t   & l   & f   & c   & b   & n   & ... & s   & w   & w   & p   & w   & o   & p   & n   & n   & m  \\\\\n",
       "\t p   & x   & y   & w   & t   & p   & f   & c   & n   & n   & ... & s   & w   & w   & p   & w   & o   & p   & k   & s   & u  \\\\\n",
       "\t e   & x   & s   & g   & f   & n   & f   & w   & b   & k   & ... & s   & w   & w   & p   & w   & o   & e   & n   & a   & g  \\\\\n",
       "\t e   & x   & y   & y   & t   & a   & f   & c   & b   & n   & ... & s   & w   & w   & p   & w   & o   & p   & k   & n   & g  \\\\\n",
       "\\end{tabular}\n"
      ],
      "text/markdown": [
       "\n",
       "| V1 | V2 | V3 | V4 | V5 | V6 | V7 | V8 | V9 | V10 | ... | V14 | V15 | V16 | V17 | V18 | V19 | V20 | V21 | V22 | V23 |\n",
       "|---|---|---|---|---|---|---|---|---|---|---|---|---|---|---|---|---|---|---|---|---|\n",
       "| p   | x   | s   | n   | t   | p   | f   | c   | n   | k   | ... | s   | w   | w   | p   | w   | o   | p   | k   | s   | u   |\n",
       "| e   | x   | s   | y   | t   | a   | f   | c   | b   | k   | ... | s   | w   | w   | p   | w   | o   | p   | n   | n   | g   |\n",
       "| e   | b   | s   | w   | t   | l   | f   | c   | b   | n   | ... | s   | w   | w   | p   | w   | o   | p   | n   | n   | m   |\n",
       "| p   | x   | y   | w   | t   | p   | f   | c   | n   | n   | ... | s   | w   | w   | p   | w   | o   | p   | k   | s   | u   |\n",
       "| e   | x   | s   | g   | f   | n   | f   | w   | b   | k   | ... | s   | w   | w   | p   | w   | o   | e   | n   | a   | g   |\n",
       "| e   | x   | y   | y   | t   | a   | f   | c   | b   | n   | ... | s   | w   | w   | p   | w   | o   | p   | k   | n   | g   |\n",
       "\n"
      ],
      "text/plain": [
       "  V1 V2 V3 V4 V5 V6 V7 V8 V9 V10 ... V14 V15 V16 V17 V18 V19 V20 V21 V22 V23\n",
       "1 p  x  s  n  t  p  f  c  n  k   ... s   w   w   p   w   o   p   k   s   u  \n",
       "2 e  x  s  y  t  a  f  c  b  k   ... s   w   w   p   w   o   p   n   n   g  \n",
       "3 e  b  s  w  t  l  f  c  b  n   ... s   w   w   p   w   o   p   n   n   m  \n",
       "4 p  x  y  w  t  p  f  c  n  n   ... s   w   w   p   w   o   p   k   s   u  \n",
       "5 e  x  s  g  f  n  f  w  b  k   ... s   w   w   p   w   o   e   n   a   g  \n",
       "6 e  x  y  y  t  a  f  c  b  n   ... s   w   w   p   w   o   p   k   n   g  "
      ]
     },
     "metadata": {},
     "output_type": "display_data"
    },
    {
     "data": {
      "text/html": [
       "<table>\n",
       "<thead><tr><th></th><th scope=col>V1</th><th scope=col>V2</th><th scope=col>V3</th><th scope=col>V4</th><th scope=col>V5</th><th scope=col>V6</th><th scope=col>V7</th><th scope=col>V8</th><th scope=col>V9</th><th scope=col>V10</th><th scope=col>...</th><th scope=col>V14</th><th scope=col>V15</th><th scope=col>V16</th><th scope=col>V17</th><th scope=col>V18</th><th scope=col>V19</th><th scope=col>V20</th><th scope=col>V21</th><th scope=col>V22</th><th scope=col>V23</th></tr></thead>\n",
       "<tbody>\n",
       "\t<tr><th scope=row>8119</th><td>p  </td><td>k  </td><td>y  </td><td>n  </td><td>f  </td><td>f  </td><td>f  </td><td>c  </td><td>n  </td><td>b  </td><td>...</td><td>s  </td><td>p  </td><td>w  </td><td>p  </td><td>w  </td><td>o  </td><td>e  </td><td>w  </td><td>v  </td><td>d  </td></tr>\n",
       "\t<tr><th scope=row>8120</th><td>e  </td><td>k  </td><td>s  </td><td>n  </td><td>f  </td><td>n  </td><td>a  </td><td>c  </td><td>b  </td><td>y  </td><td>...</td><td>s  </td><td>o  </td><td>o  </td><td>p  </td><td>o  </td><td>o  </td><td>p  </td><td>b  </td><td>c  </td><td>l  </td></tr>\n",
       "\t<tr><th scope=row>8121</th><td>e  </td><td>x  </td><td>s  </td><td>n  </td><td>f  </td><td>n  </td><td>a  </td><td>c  </td><td>b  </td><td>y  </td><td>...</td><td>s  </td><td>o  </td><td>o  </td><td>p  </td><td>n  </td><td>o  </td><td>p  </td><td>b  </td><td>v  </td><td>l  </td></tr>\n",
       "\t<tr><th scope=row>8122</th><td>e  </td><td>f  </td><td>s  </td><td>n  </td><td>f  </td><td>n  </td><td>a  </td><td>c  </td><td>b  </td><td>n  </td><td>...</td><td>s  </td><td>o  </td><td>o  </td><td>p  </td><td>o  </td><td>o  </td><td>p  </td><td>b  </td><td>c  </td><td>l  </td></tr>\n",
       "\t<tr><th scope=row>8123</th><td>p  </td><td>k  </td><td>y  </td><td>n  </td><td>f  </td><td>y  </td><td>f  </td><td>c  </td><td>n  </td><td>b  </td><td>...</td><td>k  </td><td>w  </td><td>w  </td><td>p  </td><td>w  </td><td>o  </td><td>e  </td><td>w  </td><td>v  </td><td>l  </td></tr>\n",
       "\t<tr><th scope=row>8124</th><td>e  </td><td>x  </td><td>s  </td><td>n  </td><td>f  </td><td>n  </td><td>a  </td><td>c  </td><td>b  </td><td>y  </td><td>...</td><td>s  </td><td>o  </td><td>o  </td><td>p  </td><td>o  </td><td>o  </td><td>p  </td><td>o  </td><td>c  </td><td>l  </td></tr>\n",
       "</tbody>\n",
       "</table>\n"
      ],
      "text/latex": [
       "\\begin{tabular}{r|lllllllllllllllllllllll}\n",
       "  & V1 & V2 & V3 & V4 & V5 & V6 & V7 & V8 & V9 & V10 & ... & V14 & V15 & V16 & V17 & V18 & V19 & V20 & V21 & V22 & V23\\\\\n",
       "\\hline\n",
       "\t8119 & p   & k   & y   & n   & f   & f   & f   & c   & n   & b   & ... & s   & p   & w   & p   & w   & o   & e   & w   & v   & d  \\\\\n",
       "\t8120 & e   & k   & s   & n   & f   & n   & a   & c   & b   & y   & ... & s   & o   & o   & p   & o   & o   & p   & b   & c   & l  \\\\\n",
       "\t8121 & e   & x   & s   & n   & f   & n   & a   & c   & b   & y   & ... & s   & o   & o   & p   & n   & o   & p   & b   & v   & l  \\\\\n",
       "\t8122 & e   & f   & s   & n   & f   & n   & a   & c   & b   & n   & ... & s   & o   & o   & p   & o   & o   & p   & b   & c   & l  \\\\\n",
       "\t8123 & p   & k   & y   & n   & f   & y   & f   & c   & n   & b   & ... & k   & w   & w   & p   & w   & o   & e   & w   & v   & l  \\\\\n",
       "\t8124 & e   & x   & s   & n   & f   & n   & a   & c   & b   & y   & ... & s   & o   & o   & p   & o   & o   & p   & o   & c   & l  \\\\\n",
       "\\end{tabular}\n"
      ],
      "text/markdown": [
       "\n",
       "| <!--/--> | V1 | V2 | V3 | V4 | V5 | V6 | V7 | V8 | V9 | V10 | ... | V14 | V15 | V16 | V17 | V18 | V19 | V20 | V21 | V22 | V23 |\n",
       "|---|---|---|---|---|---|---|---|---|---|---|---|---|---|---|---|---|---|---|---|---|---|\n",
       "| 8119 | p   | k   | y   | n   | f   | f   | f   | c   | n   | b   | ... | s   | p   | w   | p   | w   | o   | e   | w   | v   | d   |\n",
       "| 8120 | e   | k   | s   | n   | f   | n   | a   | c   | b   | y   | ... | s   | o   | o   | p   | o   | o   | p   | b   | c   | l   |\n",
       "| 8121 | e   | x   | s   | n   | f   | n   | a   | c   | b   | y   | ... | s   | o   | o   | p   | n   | o   | p   | b   | v   | l   |\n",
       "| 8122 | e   | f   | s   | n   | f   | n   | a   | c   | b   | n   | ... | s   | o   | o   | p   | o   | o   | p   | b   | c   | l   |\n",
       "| 8123 | p   | k   | y   | n   | f   | y   | f   | c   | n   | b   | ... | k   | w   | w   | p   | w   | o   | e   | w   | v   | l   |\n",
       "| 8124 | e   | x   | s   | n   | f   | n   | a   | c   | b   | y   | ... | s   | o   | o   | p   | o   | o   | p   | o   | c   | l   |\n",
       "\n"
      ],
      "text/plain": [
       "     V1 V2 V3 V4 V5 V6 V7 V8 V9 V10 ... V14 V15 V16 V17 V18 V19 V20 V21 V22 V23\n",
       "8119 p  k  y  n  f  f  f  c  n  b   ... s   p   w   p   w   o   e   w   v   d  \n",
       "8120 e  k  s  n  f  n  a  c  b  y   ... s   o   o   p   o   o   p   b   c   l  \n",
       "8121 e  x  s  n  f  n  a  c  b  y   ... s   o   o   p   n   o   p   b   v   l  \n",
       "8122 e  f  s  n  f  n  a  c  b  n   ... s   o   o   p   o   o   p   b   c   l  \n",
       "8123 p  k  y  n  f  y  f  c  n  b   ... k   w   w   p   w   o   e   w   v   l  \n",
       "8124 e  x  s  n  f  n  a  c  b  y   ... s   o   o   p   o   o   p   o   c   l  "
      ]
     },
     "metadata": {},
     "output_type": "display_data"
    }
   ],
   "source": [
    "mushroom <- read.csv(\"../RFile/mushroom.csv\", header = F)\n",
    "head(mushroom)\n",
    "tail(mushroom)\n",
    "\n",
    "\n",
    "\n",
    "\n",
    "\n"
   ]
  },
  {
   "cell_type": "code",
   "execution_count": 114,
   "id": "4d62aa9a",
   "metadata": {},
   "outputs": [],
   "source": [
    "\n",
    "for(i in 2:23){\n",
    "    mushroom[,i]<-as.numeric(mushroom[,i])\n",
    "}"
   ]
  },
  {
   "cell_type": "code",
   "execution_count": 115,
   "id": "b67a7130",
   "metadata": {},
   "outputs": [
    {
     "data": {
      "text/html": [
       "0"
      ],
      "text/latex": [
       "0"
      ],
      "text/markdown": [
       "0"
      ],
      "text/plain": [
       "[1] 0"
      ]
     },
     "metadata": {},
     "output_type": "display_data"
    }
   ],
   "source": [
    "sum(is.na(mushroom))"
   ]
  },
  {
   "cell_type": "code",
   "execution_count": 116,
   "id": "f8146482",
   "metadata": {},
   "outputs": [
    {
     "name": "stdout",
     "output_type": "stream",
     "text": [
      "'data.frame':\t8124 obs. of  23 variables:\n",
      " $ V1 : Factor w/ 2 levels \"e\",\"p\": 2 1 1 2 1 1 1 1 2 1 ...\n",
      " $ V2 : num  6 6 1 6 6 6 1 1 6 1 ...\n",
      " $ V3 : num  3 3 3 4 3 4 3 4 4 3 ...\n",
      " $ V4 : num  5 10 9 9 4 10 9 9 9 10 ...\n",
      " $ V5 : num  2 2 2 2 1 2 2 2 2 2 ...\n",
      " $ V6 : num  7 1 4 7 6 1 1 4 7 1 ...\n",
      " $ V7 : num  2 2 2 2 2 2 2 2 2 2 ...\n",
      " $ V8 : num  1 1 1 1 2 1 1 1 1 1 ...\n",
      " $ V9 : num  2 1 1 2 1 1 1 1 2 1 ...\n",
      " $ V10: num  5 5 6 6 5 6 3 6 8 3 ...\n",
      " $ V11: num  1 1 1 1 2 1 1 1 1 1 ...\n",
      " $ V12: num  4 3 3 4 4 3 3 3 4 3 ...\n",
      " $ V13: num  3 3 3 3 3 3 3 3 3 3 ...\n",
      " $ V14: num  3 3 3 3 3 3 3 3 3 3 ...\n",
      " $ V15: num  8 8 8 8 8 8 8 8 8 8 ...\n",
      " $ V16: num  8 8 8 8 8 8 8 8 8 8 ...\n",
      " $ V17: num  1 1 1 1 1 1 1 1 1 1 ...\n",
      " $ V18: num  3 3 3 3 3 3 3 3 3 3 ...\n",
      " $ V19: num  2 2 2 2 2 2 2 2 2 2 ...\n",
      " $ V20: num  5 5 5 5 1 5 5 5 5 5 ...\n",
      " $ V21: num  3 4 4 3 4 3 3 4 3 3 ...\n",
      " $ V22: num  4 3 3 4 1 3 3 4 5 4 ...\n",
      " $ V23: num  6 2 4 6 2 2 4 4 2 4 ...\n"
     ]
    }
   ],
   "source": [
    "str(mushroom)"
   ]
  },
  {
   "cell_type": "code",
   "execution_count": 117,
   "id": "533e51c4",
   "metadata": {},
   "outputs": [],
   "source": [
    "library(caret)"
   ]
  },
  {
   "cell_type": "code",
   "execution_count": 118,
   "id": "4de667ce",
   "metadata": {},
   "outputs": [
    {
     "ename": "ERROR",
     "evalue": "Error in parse(text = x, srcfile = src): <text>:2:14: 예상하지 못한 입력입니다.\n1: # Sampling\n2: set.seed(1234\\\n                ^\n",
     "output_type": "error",
     "traceback": [
      "Error in parse(text = x, srcfile = src): <text>:2:14: 예상하지 못한 입력입니다.\n1: # Sampling\n2: set.seed(1234\\\n                ^\nTraceback:\n"
     ]
    }
   ],
   "source": [
    "# Sampling\n",
    "set.seed(1234\\\n",
    "         ]''\n",
    "samp <- createDataPartition(mushroom$V1, p=0.8, list = F)\n",
    "# 학습용 데이터 만들기\n",
    "data.tr <- mushroom[samp,]\n",
    "# 검증용 데이터 만들기\n",
    "data.test <- mushroom[-samp,]\n",
    "# 문제 및 정답 만들기\n",
    "x <- subset(data.test, select = -V1)\n",
    "y <- data.test$V1\n",
    "\n",
    "\n"
   ]
  },
  {
   "cell_type": "code",
   "execution_count": 119,
   "id": "a5817262",
   "metadata": {},
   "outputs": [],
   "source": [
    " 인공신경망 <- function(){\n",
    "      result <- c()\n",
    "     for(i in 1:5){\n",
    "\n",
    "    # 인공 신경망\n",
    "    library(nnet)\n",
    "\n",
    "    # Model 만들기\n",
    "    model.nnet <- nnet(V1 ~ ., data=data.tr, size=3)\n",
    "    # size:은닉층 갯수로 sample수보다 작아야 함. (Hyper Parameter)\n",
    "\n",
    "    # 검증\n",
    "\n",
    "    pred <- predict(model.nnet, x, type = \"class\") # class : 분류된것(객관식), raw : 주관식\n",
    "\n",
    "    # 예측력\n",
    "    mean(pred==y)\n",
    "     result <- append(result,mean(pred == y))\n",
    "    \n",
    "     }\n",
    "    mean(result)\n",
    "\n",
    "\n",
    "\n",
    "}\n"
   ]
  },
  {
   "cell_type": "code",
   "execution_count": 120,
   "id": "dccb5d4f",
   "metadata": {},
   "outputs": [],
   "source": [
    "의사결정나무 <- function(){\n",
    "\n",
    "# 의사결정나무\n",
    "library(party)\n",
    "\n",
    "# 학습시키기\n",
    "model.ctree <- ctree(V1 ~., data=data.tr)\n",
    "\n",
    "# 검증하기\n",
    "pred <- predict(model.ctree, x)\n",
    "\n",
    "# 예측율\n",
    "mean(pred == y)\n",
    "\n",
    "        \n",
    "}"
   ]
  },
  {
   "cell_type": "code",
   "execution_count": 121,
   "id": "40b20083",
   "metadata": {},
   "outputs": [],
   "source": [
    "랜덤포레스트 <- function(){\n",
    "\n",
    "# 렌덤포레스트\n",
    "library(randomForest)\n",
    "\n",
    "\n",
    "# 학습시키기\n",
    "model.rf <- randomForest(V1 ~ ., data = data.tr, ntree=100)\n",
    "\n",
    "# 검증하기\n",
    "pred <- predict(model.rf, x)\n",
    "\n",
    "# 예측율\n",
    "mean(pred == y)\n",
    "\n",
    "        \n",
    "}"
   ]
  },
  {
   "cell_type": "code",
   "execution_count": 122,
   "id": "248ba5b7",
   "metadata": {},
   "outputs": [],
   "source": [
    "SVM <- function(){\n",
    "# SVM\n",
    "library(e1071)\n",
    "\n",
    "# 학습시키기\n",
    "model.svm = svm(V1 ~., data=data.tr)\n",
    "\n",
    "# 검증하기\n",
    "pred <- predict(model.svm, x, type=\"class\")\n",
    "\n",
    "# 예측율\n",
    "mean(pred == y)\n",
    "        \n",
    "}"
   ]
  },
  {
   "cell_type": "code",
   "execution_count": 123,
   "id": "f111e096",
   "metadata": {},
   "outputs": [],
   "source": [
    "로지스틱회귀분석 <- function(){\n",
    "\n",
    "#로지스틱회귀분석\n",
    "library(nnet)\n",
    "\n",
    "# 학습시키기\n",
    "model <- multinom(V1 ~., data=data.tr)\n",
    "\n",
    "# 검증하기\n",
    "pred <- predict(model, x, type=\"class\")\n",
    "\n",
    "# 예측율\n",
    "mean(pred == y)\n",
    "        \n",
    "}"
   ]
  },
  {
   "cell_type": "code",
   "execution_count": 124,
   "id": "3358cbb5",
   "metadata": {},
   "outputs": [
    {
     "name": "stdout",
     "output_type": "stream",
     "text": [
      "# weights:  73\n",
      "initial  value 4494.531334 \n",
      "iter  10 value 2338.469479\n",
      "iter  20 value 1796.887091\n",
      "iter  30 value 1495.654786\n",
      "iter  40 value 1447.313081\n",
      "iter  50 value 1446.418852\n",
      "iter  60 value 1446.417022\n",
      "iter  60 value 1446.417008\n",
      "iter  60 value 1446.417008\n",
      "final  value 1446.417008 \n",
      "converged\n",
      "# weights:  73\n",
      "initial  value 4509.979976 \n",
      "iter  10 value 2517.924899\n",
      "iter  20 value 1272.666046\n",
      "iter  30 value 978.768651\n",
      "iter  40 value 838.952714\n",
      "iter  50 value 791.322259\n",
      "iter  60 value 742.596037\n",
      "iter  70 value 676.895363\n",
      "iter  80 value 659.408848\n",
      "iter  90 value 641.929550\n",
      "iter 100 value 636.083384\n",
      "final  value 636.083384 \n",
      "stopped after 100 iterations\n",
      "# weights:  73\n",
      "initial  value 4476.430891 \n",
      "iter  10 value 2497.627345\n",
      "iter  20 value 1801.647687\n",
      "iter  30 value 1186.296581\n",
      "iter  40 value 644.750852\n",
      "iter  50 value 530.278595\n",
      "iter  60 value 486.198843\n",
      "iter  70 value 478.211917\n",
      "iter  80 value 439.606911\n",
      "iter  90 value 438.289558\n",
      "iter 100 value 435.840758\n",
      "final  value 435.840758 \n",
      "stopped after 100 iterations\n",
      "# weights:  73\n",
      "initial  value 4849.023128 \n",
      "iter  10 value 3895.047208\n",
      "iter  20 value 2572.851662\n",
      "iter  30 value 1559.254215\n",
      "iter  40 value 1142.269573\n",
      "iter  50 value 1097.485121\n",
      "iter  60 value 1095.223568\n",
      "iter  70 value 1086.699161\n",
      "iter  80 value 1071.567623\n",
      "iter  90 value 1070.723174\n",
      "iter 100 value 1069.615166\n",
      "final  value 1069.615166 \n",
      "stopped after 100 iterations\n",
      "# weights:  73\n",
      "initial  value 4967.719602 \n",
      "iter  10 value 2570.392150\n",
      "iter  20 value 1838.679368\n",
      "iter  30 value 1330.603289\n",
      "iter  40 value 1150.205510\n",
      "iter  50 value 1103.879134\n",
      "iter  60 value 1100.064831\n",
      "iter  70 value 1100.041124\n",
      "iter  80 value 1100.039524\n",
      "final  value 1100.038171 \n",
      "converged\n"
     ]
    },
    {
     "name": "stderr",
     "output_type": "stream",
     "text": [
      "Warning message in svm.default(x, y, scale = scale, ..., na.action = na.action):\n",
      "“Variable(s) ‘V17’ constant. Cannot scale data.”"
     ]
    },
    {
     "name": "stdout",
     "output_type": "stream",
     "text": [
      "# weights:  24 (23 variable)\n",
      "initial  value 4505.456674 \n",
      "iter  10 value 2098.799126\n",
      "iter  20 value 1560.699730\n",
      "iter  30 value 996.999366\n",
      "iter  40 value 875.881825\n",
      "iter  50 value 869.164778\n",
      "final  value 869.164548 \n",
      "converged\n"
     ]
    },
    {
     "data": {
      "text/html": [
       "<table>\n",
       "<thead><tr><th></th><th scope=col>예측력</th></tr></thead>\n",
       "<tbody>\n",
       "\t<tr><th scope=row>인공신경망</th><td>0.9495074</td></tr>\n",
       "\t<tr><th scope=row>의사결정나무</th><td>1.0000000</td></tr>\n",
       "\t<tr><th scope=row>RandomForest</th><td>1.0000000</td></tr>\n",
       "\t<tr><th scope=row>SVM</th><td>1.0000000</td></tr>\n",
       "\t<tr><th scope=row>로지스틱회귀분석</th><td>0.9716749</td></tr>\n",
       "</tbody>\n",
       "</table>\n"
      ],
      "text/latex": [
       "\\begin{tabular}{r|l}\n",
       "  & 예측력\\\\\n",
       "\\hline\n",
       "\t인공신경망 & 0.9495074\\\\\n",
       "\t의사결정나무 & 1.0000000\\\\\n",
       "\tRandomForest & 1.0000000\\\\\n",
       "\tSVM & 1.0000000\\\\\n",
       "\t로지스틱회귀분석 & 0.9716749\\\\\n",
       "\\end{tabular}\n"
      ],
      "text/markdown": [
       "\n",
       "| <!--/--> | 예측력 |\n",
       "|---|---|\n",
       "| 인공신경망 | 0.9495074 |\n",
       "| 의사결정나무 | 1.0000000 |\n",
       "| RandomForest | 1.0000000 |\n",
       "| SVM | 1.0000000 |\n",
       "| 로지스틱회귀분석 | 0.9716749 |\n",
       "\n"
      ],
      "text/plain": [
       "                 예측력   \n",
       "인공신경망       0.9495074\n",
       "의사결정나무     1.0000000\n",
       "RandomForest     1.0000000\n",
       "SVM              1.0000000\n",
       "로지스틱회귀분석 0.9716749"
      ]
     },
     "metadata": {},
     "output_type": "display_data"
    }
   ],
   "source": [
    "ML_예측력 <- data.frame(예측력=c(인공신경망(),의사결정나무(),랜덤포레스트(),SVM(),로지스틱회귀분석()))\n",
    "rownames(ML_예측력) <- c('인공신경망', '의사결정나무', 'RandomForest', 'SVM', '로지스틱회귀분석')\n",
    "ML_예측력"
   ]
  },
  {
   "cell_type": "code",
   "execution_count": null,
   "id": "9842c697",
   "metadata": {},
   "outputs": [],
   "source": []
  },
  {
   "cell_type": "code",
   "execution_count": null,
   "id": "a325e4c5",
   "metadata": {},
   "outputs": [],
   "source": []
  },
  {
   "cell_type": "code",
   "execution_count": null,
   "id": "9ded3fea",
   "metadata": {},
   "outputs": [],
   "source": []
  },
  {
   "cell_type": "code",
   "execution_count": null,
   "id": "72ea29fa",
   "metadata": {},
   "outputs": [],
   "source": []
  },
  {
   "cell_type": "code",
   "execution_count": null,
   "id": "f3c5efe1",
   "metadata": {},
   "outputs": [],
   "source": []
  },
  {
   "cell_type": "code",
   "execution_count": null,
   "id": "d63ca855",
   "metadata": {},
   "outputs": [],
   "source": []
  },
  {
   "cell_type": "code",
   "execution_count": null,
   "id": "335e3650",
   "metadata": {},
   "outputs": [],
   "source": []
  },
  {
   "cell_type": "code",
   "execution_count": null,
   "id": "538ec2fb",
   "metadata": {},
   "outputs": [],
   "source": []
  },
  {
   "cell_type": "code",
   "execution_count": null,
   "id": "583e0953",
   "metadata": {},
   "outputs": [],
   "source": []
  }
 ],
 "metadata": {
  "kernelspec": {
   "display_name": "R",
   "language": "R",
   "name": "ir"
  },
  "language_info": {
   "codemirror_mode": "r",
   "file_extension": ".r",
   "mimetype": "text/x-r-source",
   "name": "R",
   "pygments_lexer": "r",
   "version": "3.6.1"
  }
 },
 "nbformat": 4,
 "nbformat_minor": 5
}
