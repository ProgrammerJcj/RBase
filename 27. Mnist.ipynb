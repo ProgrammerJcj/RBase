{
 "cells": [
  {
   "cell_type": "code",
   "execution_count": 1,
   "id": "263877fa",
   "metadata": {},
   "outputs": [
    {
     "data": {
      "text/html": [
       "<table>\n",
       "<thead><tr><th scope=col>V1</th><th scope=col>V2</th><th scope=col>V3</th><th scope=col>V4</th><th scope=col>V5</th><th scope=col>V6</th><th scope=col>V7</th><th scope=col>V8</th><th scope=col>V9</th><th scope=col>V10</th><th scope=col>...</th><th scope=col>V776</th><th scope=col>V777</th><th scope=col>V778</th><th scope=col>V779</th><th scope=col>V780</th><th scope=col>V781</th><th scope=col>V782</th><th scope=col>V783</th><th scope=col>V784</th><th scope=col>V785</th></tr></thead>\n",
       "<tbody>\n",
       "\t<tr><td>5  </td><td>0  </td><td>0  </td><td>0  </td><td>0  </td><td>0  </td><td>0  </td><td>0  </td><td>0  </td><td>0  </td><td>...</td><td>0  </td><td>0  </td><td>0  </td><td>0  </td><td>0  </td><td>0  </td><td>0  </td><td>0  </td><td>0  </td><td>0  </td></tr>\n",
       "\t<tr><td>0  </td><td>0  </td><td>0  </td><td>0  </td><td>0  </td><td>0  </td><td>0  </td><td>0  </td><td>0  </td><td>0  </td><td>...</td><td>0  </td><td>0  </td><td>0  </td><td>0  </td><td>0  </td><td>0  </td><td>0  </td><td>0  </td><td>0  </td><td>0  </td></tr>\n",
       "\t<tr><td>4  </td><td>0  </td><td>0  </td><td>0  </td><td>0  </td><td>0  </td><td>0  </td><td>0  </td><td>0  </td><td>0  </td><td>...</td><td>0  </td><td>0  </td><td>0  </td><td>0  </td><td>0  </td><td>0  </td><td>0  </td><td>0  </td><td>0  </td><td>0  </td></tr>\n",
       "\t<tr><td>1  </td><td>0  </td><td>0  </td><td>0  </td><td>0  </td><td>0  </td><td>0  </td><td>0  </td><td>0  </td><td>0  </td><td>...</td><td>0  </td><td>0  </td><td>0  </td><td>0  </td><td>0  </td><td>0  </td><td>0  </td><td>0  </td><td>0  </td><td>0  </td></tr>\n",
       "\t<tr><td>9  </td><td>0  </td><td>0  </td><td>0  </td><td>0  </td><td>0  </td><td>0  </td><td>0  </td><td>0  </td><td>0  </td><td>...</td><td>0  </td><td>0  </td><td>0  </td><td>0  </td><td>0  </td><td>0  </td><td>0  </td><td>0  </td><td>0  </td><td>0  </td></tr>\n",
       "\t<tr><td>2  </td><td>0  </td><td>0  </td><td>0  </td><td>0  </td><td>0  </td><td>0  </td><td>0  </td><td>0  </td><td>0  </td><td>...</td><td>0  </td><td>0  </td><td>0  </td><td>0  </td><td>0  </td><td>0  </td><td>0  </td><td>0  </td><td>0  </td><td>0  </td></tr>\n",
       "</tbody>\n",
       "</table>\n"
      ],
      "text/latex": [
       "\\begin{tabular}{r|lllllllllllllllllllllllllllllllllllllllllllllllllllllllllllllllllllllllllllllllllllllllllllllllllllllllllllllllllllllllllllllllllllllllllllllllllllllllllllllllllllllllllllllllllllllllllllllllllllllllllllllllllllllllllllllllllllllllllllllllllllllllllllllllllllllllllllllllllllllllllllllllllllllllllllllllllllllllllllllllllllllllllllllllllllllllllllllllllllllllllllllllllllllllllllllllllllllllllllllllllllllllllllllllllllllllllllllllllllllllllllllllllllllllllllllllllllllllllllllllllllllllllllllllllllllllllllllllllllllllllllllllllllllllllllllllllllllllllllllllllllllllllllllllllllllllllllllllllllllllllllllllllllllllllllllllllllllllllllllllllllllllllllllllllllllllllllllllllllllllllllllllllllllllllllllllllllllllllllllllllllllllllllllllllllllllllllllllllllllllllllllllllllllllllllllllll}\n",
       " V1 & V2 & V3 & V4 & V5 & V6 & V7 & V8 & V9 & V10 & ... & V776 & V777 & V778 & V779 & V780 & V781 & V782 & V783 & V784 & V785\\\\\n",
       "\\hline\n",
       "\t 5   & 0   & 0   & 0   & 0   & 0   & 0   & 0   & 0   & 0   & ... & 0   & 0   & 0   & 0   & 0   & 0   & 0   & 0   & 0   & 0  \\\\\n",
       "\t 0   & 0   & 0   & 0   & 0   & 0   & 0   & 0   & 0   & 0   & ... & 0   & 0   & 0   & 0   & 0   & 0   & 0   & 0   & 0   & 0  \\\\\n",
       "\t 4   & 0   & 0   & 0   & 0   & 0   & 0   & 0   & 0   & 0   & ... & 0   & 0   & 0   & 0   & 0   & 0   & 0   & 0   & 0   & 0  \\\\\n",
       "\t 1   & 0   & 0   & 0   & 0   & 0   & 0   & 0   & 0   & 0   & ... & 0   & 0   & 0   & 0   & 0   & 0   & 0   & 0   & 0   & 0  \\\\\n",
       "\t 9   & 0   & 0   & 0   & 0   & 0   & 0   & 0   & 0   & 0   & ... & 0   & 0   & 0   & 0   & 0   & 0   & 0   & 0   & 0   & 0  \\\\\n",
       "\t 2   & 0   & 0   & 0   & 0   & 0   & 0   & 0   & 0   & 0   & ... & 0   & 0   & 0   & 0   & 0   & 0   & 0   & 0   & 0   & 0  \\\\\n",
       "\\end{tabular}\n"
      ],
      "text/markdown": [
       "\n",
       "| V1 | V2 | V3 | V4 | V5 | V6 | V7 | V8 | V9 | V10 | ... | V776 | V777 | V778 | V779 | V780 | V781 | V782 | V783 | V784 | V785 |\n",
       "|---|---|---|---|---|---|---|---|---|---|---|---|---|---|---|---|---|---|---|---|---|\n",
       "| 5   | 0   | 0   | 0   | 0   | 0   | 0   | 0   | 0   | 0   | ... | 0   | 0   | 0   | 0   | 0   | 0   | 0   | 0   | 0   | 0   |\n",
       "| 0   | 0   | 0   | 0   | 0   | 0   | 0   | 0   | 0   | 0   | ... | 0   | 0   | 0   | 0   | 0   | 0   | 0   | 0   | 0   | 0   |\n",
       "| 4   | 0   | 0   | 0   | 0   | 0   | 0   | 0   | 0   | 0   | ... | 0   | 0   | 0   | 0   | 0   | 0   | 0   | 0   | 0   | 0   |\n",
       "| 1   | 0   | 0   | 0   | 0   | 0   | 0   | 0   | 0   | 0   | ... | 0   | 0   | 0   | 0   | 0   | 0   | 0   | 0   | 0   | 0   |\n",
       "| 9   | 0   | 0   | 0   | 0   | 0   | 0   | 0   | 0   | 0   | ... | 0   | 0   | 0   | 0   | 0   | 0   | 0   | 0   | 0   | 0   |\n",
       "| 2   | 0   | 0   | 0   | 0   | 0   | 0   | 0   | 0   | 0   | ... | 0   | 0   | 0   | 0   | 0   | 0   | 0   | 0   | 0   | 0   |\n",
       "\n"
      ],
      "text/plain": [
       "  V1 V2 V3 V4 V5 V6 V7 V8 V9 V10 ... V776 V777 V778 V779 V780 V781 V782 V783\n",
       "1 5  0  0  0  0  0  0  0  0  0   ... 0    0    0    0    0    0    0    0   \n",
       "2 0  0  0  0  0  0  0  0  0  0   ... 0    0    0    0    0    0    0    0   \n",
       "3 4  0  0  0  0  0  0  0  0  0   ... 0    0    0    0    0    0    0    0   \n",
       "4 1  0  0  0  0  0  0  0  0  0   ... 0    0    0    0    0    0    0    0   \n",
       "5 9  0  0  0  0  0  0  0  0  0   ... 0    0    0    0    0    0    0    0   \n",
       "6 2  0  0  0  0  0  0  0  0  0   ... 0    0    0    0    0    0    0    0   \n",
       "  V784 V785\n",
       "1 0    0   \n",
       "2 0    0   \n",
       "3 0    0   \n",
       "4 0    0   \n",
       "5 0    0   \n",
       "6 0    0   "
      ]
     },
     "metadata": {},
     "output_type": "display_data"
    }
   ],
   "source": [
    "# 손글씨 인식\n",
    "mnist <- read.csv(\"../RFile/train_10k.csv\", header = F)\n",
    "head(mnist)"
   ]
  },
  {
   "cell_type": "code",
   "execution_count": 2,
   "id": "9116de10",
   "metadata": {},
   "outputs": [
    {
     "name": "stdout",
     "output_type": "stream",
     "text": [
      "'data.frame':\t10000 obs. of  785 variables:\n",
      " $ V1  : int  5 0 4 1 9 2 1 3 1 4 ...\n",
      " $ V2  : int  0 0 0 0 0 0 0 0 0 0 ...\n",
      " $ V3  : int  0 0 0 0 0 0 0 0 0 0 ...\n",
      " $ V4  : int  0 0 0 0 0 0 0 0 0 0 ...\n",
      " $ V5  : int  0 0 0 0 0 0 0 0 0 0 ...\n",
      " $ V6  : int  0 0 0 0 0 0 0 0 0 0 ...\n",
      " $ V7  : int  0 0 0 0 0 0 0 0 0 0 ...\n",
      " $ V8  : int  0 0 0 0 0 0 0 0 0 0 ...\n",
      " $ V9  : int  0 0 0 0 0 0 0 0 0 0 ...\n",
      " $ V10 : int  0 0 0 0 0 0 0 0 0 0 ...\n",
      " $ V11 : int  0 0 0 0 0 0 0 0 0 0 ...\n",
      " $ V12 : int  0 0 0 0 0 0 0 0 0 0 ...\n",
      " $ V13 : int  0 0 0 0 0 0 0 0 0 0 ...\n",
      " $ V14 : int  0 0 0 0 0 0 0 0 0 0 ...\n",
      " $ V15 : int  0 0 0 0 0 0 0 0 0 0 ...\n",
      " $ V16 : int  0 0 0 0 0 0 0 0 0 0 ...\n",
      " $ V17 : int  0 0 0 0 0 0 0 0 0 0 ...\n",
      " $ V18 : int  0 0 0 0 0 0 0 0 0 0 ...\n",
      " $ V19 : int  0 0 0 0 0 0 0 0 0 0 ...\n",
      " $ V20 : int  0 0 0 0 0 0 0 0 0 0 ...\n",
      " $ V21 : int  0 0 0 0 0 0 0 0 0 0 ...\n",
      " $ V22 : int  0 0 0 0 0 0 0 0 0 0 ...\n",
      " $ V23 : int  0 0 0 0 0 0 0 0 0 0 ...\n",
      " $ V24 : int  0 0 0 0 0 0 0 0 0 0 ...\n",
      " $ V25 : int  0 0 0 0 0 0 0 0 0 0 ...\n",
      " $ V26 : int  0 0 0 0 0 0 0 0 0 0 ...\n",
      " $ V27 : int  0 0 0 0 0 0 0 0 0 0 ...\n",
      " $ V28 : int  0 0 0 0 0 0 0 0 0 0 ...\n",
      " $ V29 : int  0 0 0 0 0 0 0 0 0 0 ...\n",
      " $ V30 : int  0 0 0 0 0 0 0 0 0 0 ...\n",
      " $ V31 : int  0 0 0 0 0 0 0 0 0 0 ...\n",
      " $ V32 : int  0 0 0 0 0 0 0 0 0 0 ...\n",
      " $ V33 : int  0 0 0 0 0 0 0 0 0 0 ...\n",
      " $ V34 : int  0 0 0 0 0 0 0 0 0 0 ...\n",
      " $ V35 : int  0 0 0 0 0 0 0 0 0 0 ...\n",
      " $ V36 : int  0 0 0 0 0 0 0 0 0 0 ...\n",
      " $ V37 : int  0 0 0 0 0 0 0 0 0 0 ...\n",
      " $ V38 : int  0 0 0 0 0 0 0 0 0 0 ...\n",
      " $ V39 : int  0 0 0 0 0 0 0 0 0 0 ...\n",
      " $ V40 : int  0 0 0 0 0 0 0 0 0 0 ...\n",
      " $ V41 : int  0 0 0 0 0 0 0 0 0 0 ...\n",
      " $ V42 : int  0 0 0 0 0 0 0 0 0 0 ...\n",
      " $ V43 : int  0 0 0 0 0 0 0 0 0 0 ...\n",
      " $ V44 : int  0 0 0 0 0 0 0 0 0 0 ...\n",
      " $ V45 : int  0 0 0 0 0 0 0 0 0 0 ...\n",
      " $ V46 : int  0 0 0 0 0 0 0 0 0 0 ...\n",
      " $ V47 : int  0 0 0 0 0 0 0 0 0 0 ...\n",
      " $ V48 : int  0 0 0 0 0 0 0 0 0 0 ...\n",
      " $ V49 : int  0 0 0 0 0 0 0 0 0 0 ...\n",
      " $ V50 : int  0 0 0 0 0 0 0 0 0 0 ...\n",
      " $ V51 : int  0 0 0 0 0 0 0 0 0 0 ...\n",
      " $ V52 : int  0 0 0 0 0 0 0 0 0 0 ...\n",
      " $ V53 : int  0 0 0 0 0 0 0 0 0 0 ...\n",
      " $ V54 : int  0 0 0 0 0 0 0 0 0 0 ...\n",
      " $ V55 : int  0 0 0 0 0 0 0 0 0 0 ...\n",
      " $ V56 : int  0 0 0 0 0 0 0 0 0 0 ...\n",
      " $ V57 : int  0 0 0 0 0 0 0 0 0 0 ...\n",
      " $ V58 : int  0 0 0 0 0 0 0 0 0 0 ...\n",
      " $ V59 : int  0 0 0 0 0 0 0 0 0 0 ...\n",
      " $ V60 : int  0 0 0 0 0 0 0 0 0 0 ...\n",
      " $ V61 : int  0 0 0 0 0 0 0 0 0 0 ...\n",
      " $ V62 : int  0 0 0 0 0 0 0 0 0 0 ...\n",
      " $ V63 : int  0 0 0 0 0 0 0 0 0 0 ...\n",
      " $ V64 : int  0 0 0 0 0 0 0 0 0 0 ...\n",
      " $ V65 : int  0 0 0 0 0 0 0 0 0 0 ...\n",
      " $ V66 : int  0 0 0 0 0 0 0 0 0 0 ...\n",
      " $ V67 : int  0 0 0 0 0 0 0 0 0 0 ...\n",
      " $ V68 : int  0 0 0 0 0 0 0 0 0 0 ...\n",
      " $ V69 : int  0 0 0 0 0 0 0 0 0 0 ...\n",
      " $ V70 : int  0 0 0 0 0 0 0 0 0 0 ...\n",
      " $ V71 : int  0 0 0 0 0 0 0 0 0 0 ...\n",
      " $ V72 : int  0 0 0 0 0 0 0 0 0 0 ...\n",
      " $ V73 : int  0 0 0 0 0 0 0 0 0 0 ...\n",
      " $ V74 : int  0 0 0 0 0 0 0 0 0 0 ...\n",
      " $ V75 : int  0 0 0 0 0 0 0 0 0 0 ...\n",
      " $ V76 : int  0 0 0 0 0 0 0 0 0 0 ...\n",
      " $ V77 : int  0 0 0 0 0 0 0 0 0 0 ...\n",
      " $ V78 : int  0 0 0 0 0 0 0 0 0 0 ...\n",
      " $ V79 : int  0 0 0 0 0 0 0 0 0 0 ...\n",
      " $ V80 : int  0 0 0 0 0 0 0 0 0 0 ...\n",
      " $ V81 : int  0 0 0 0 0 0 0 0 0 0 ...\n",
      " $ V82 : int  0 0 0 0 0 0 0 0 0 0 ...\n",
      " $ V83 : int  0 0 0 0 0 0 0 0 0 0 ...\n",
      " $ V84 : int  0 0 0 0 0 0 0 0 0 0 ...\n",
      " $ V85 : int  0 0 0 0 0 0 0 0 0 0 ...\n",
      " $ V86 : int  0 0 0 0 0 0 0 0 0 0 ...\n",
      " $ V87 : int  0 0 0 0 0 0 0 0 0 0 ...\n",
      " $ V88 : int  0 0 0 0 0 0 0 0 0 0 ...\n",
      " $ V89 : int  0 0 0 0 0 0 0 0 0 0 ...\n",
      " $ V90 : int  0 0 0 0 0 0 0 0 0 0 ...\n",
      " $ V91 : int  0 0 0 0 0 0 0 0 0 0 ...\n",
      " $ V92 : int  0 0 0 0 0 0 0 0 0 0 ...\n",
      " $ V93 : int  0 0 0 0 0 0 0 0 0 0 ...\n",
      " $ V94 : int  0 0 0 0 0 0 0 0 0 0 ...\n",
      " $ V95 : int  0 0 0 0 0 0 0 0 0 0 ...\n",
      " $ V96 : int  0 0 0 0 0 0 0 0 0 0 ...\n",
      " $ V97 : int  0 0 0 0 0 0 0 0 0 0 ...\n",
      " $ V98 : int  0 0 0 0 0 0 0 0 0 0 ...\n",
      " $ V99 : int  0 0 0 0 0 0 0 0 0 0 ...\n",
      "  [list output truncated]\n"
     ]
    }
   ],
   "source": [
    "str(mnist)"
   ]
  },
  {
   "cell_type": "code",
   "execution_count": 3,
   "id": "62282092",
   "metadata": {},
   "outputs": [
    {
     "name": "stdout",
     "output_type": "stream",
     "text": [
      "'data.frame':\t10000 obs. of  51 variables:\n",
      " $ V100: int  0 0 0 0 0 0 0 0 0 0 ...\n",
      " $ V101: int  0 0 0 0 0 0 0 0 0 0 ...\n",
      " $ V102: int  0 0 0 0 0 0 0 0 0 0 ...\n",
      " $ V103: int  0 0 0 0 0 0 0 0 0 0 ...\n",
      " $ V104: int  0 0 0 0 0 0 0 0 0 0 ...\n",
      " $ V105: int  0 0 0 0 0 0 0 0 0 0 ...\n",
      " $ V106: int  0 0 0 0 0 0 0 0 0 0 ...\n",
      " $ V107: int  0 0 0 0 0 0 0 0 0 0 ...\n",
      " $ V108: int  0 0 0 0 0 0 0 0 0 0 ...\n",
      " $ V109: int  0 0 0 0 0 0 0 0 0 0 ...\n",
      " $ V110: int  0 0 0 0 0 0 0 0 0 0 ...\n",
      " $ V111: int  0 0 0 0 0 0 0 0 0 0 ...\n",
      " $ V112: int  0 0 0 0 0 0 0 0 0 0 ...\n",
      " $ V113: int  0 0 0 0 0 0 0 0 0 0 ...\n",
      " $ V114: int  0 0 0 0 0 0 0 0 0 0 ...\n",
      " $ V115: int  0 0 0 0 0 0 0 0 0 0 ...\n",
      " $ V116: int  0 0 0 0 0 0 0 0 0 0 ...\n",
      " $ V117: int  0 0 0 0 0 0 0 0 0 0 ...\n",
      " $ V118: int  0 0 0 0 0 0 0 0 0 0 ...\n",
      " $ V119: int  0 0 0 0 0 0 0 0 0 0 ...\n",
      " $ V120: int  0 0 0 0 0 0 0 0 0 0 ...\n",
      " $ V121: int  0 0 0 0 0 0 0 0 0 0 ...\n",
      " $ V122: int  0 0 0 0 0 0 0 0 0 0 ...\n",
      " $ V123: int  0 0 0 0 0 0 0 0 0 0 ...\n",
      " $ V124: int  0 0 0 0 0 0 0 0 0 0 ...\n",
      " $ V125: int  0 0 0 0 0 0 0 0 0 0 ...\n",
      " $ V126: int  0 0 0 0 0 0 145 0 0 0 ...\n",
      " $ V127: int  0 0 0 0 0 0 255 0 0 0 ...\n",
      " $ V128: int  0 0 0 0 0 0 211 0 0 0 ...\n",
      " $ V129: int  0 51 0 0 0 0 31 0 0 0 ...\n",
      " $ V130: int  0 159 0 0 0 0 0 0 0 0 ...\n",
      " $ V131: int  0 253 0 0 0 0 0 0 0 0 ...\n",
      " $ V132: int  0 159 0 0 0 0 0 0 0 0 ...\n",
      " $ V133: int  0 50 0 0 0 0 0 0 0 0 ...\n",
      " $ V134: int  0 0 0 0 0 0 0 0 0 0 ...\n",
      " $ V135: int  0 0 0 0 0 0 0 0 0 0 ...\n",
      " $ V136: int  0 0 0 0 0 0 0 0 0 189 ...\n",
      " $ V137: int  0 0 0 0 0 0 0 0 0 190 ...\n",
      " $ V138: int  0 0 0 0 0 0 0 0 0 0 ...\n",
      " $ V139: int  0 0 0 0 0 0 0 0 0 0 ...\n",
      " $ V140: int  0 0 0 0 0 0 0 0 0 0 ...\n",
      " $ V141: int  0 0 0 0 0 0 0 0 0 0 ...\n",
      " $ V142: int  0 0 0 0 0 0 0 0 0 0 ...\n",
      " $ V143: int  0 0 0 0 0 0 0 0 0 0 ...\n",
      " $ V144: int  0 0 0 0 0 0 0 0 0 0 ...\n",
      " $ V145: int  0 0 0 0 0 0 0 0 0 0 ...\n",
      " $ V146: int  0 0 0 0 0 0 0 0 0 0 ...\n",
      " $ V147: int  0 0 0 0 0 0 0 0 0 0 ...\n",
      " $ V148: int  0 0 0 0 0 0 0 0 0 0 ...\n",
      " $ V149: int  0 0 0 0 0 0 0 0 0 0 ...\n",
      " $ V150: int  0 0 0 0 0 0 0 0 0 0 ...\n"
     ]
    }
   ],
   "source": [
    "str(mnist[,100:150])"
   ]
  },
  {
   "cell_type": "code",
   "execution_count": 4,
   "id": "7637fa10",
   "metadata": {},
   "outputs": [
    {
     "data": {
      "text/html": [
       "784"
      ],
      "text/latex": [
       "784"
      ],
      "text/markdown": [
       "784"
      ],
      "text/plain": [
       "[1] 784"
      ]
     },
     "metadata": {},
     "output_type": "display_data"
    }
   ],
   "source": [
    "28^2"
   ]
  },
  {
   "cell_type": "code",
   "execution_count": 5,
   "id": "f1d6287b",
   "metadata": {},
   "outputs": [
    {
     "name": "stdout",
     "output_type": "stream",
     "text": [
      "                            \n",
      "                            \n",
      "                            \n",
      "                            \n",
      "                            \n",
      "            ************    \n",
      "        ****************    \n",
      "       ****************     \n",
      "       ***********          \n",
      "        ******* **          \n",
      "         *****              \n",
      "           ****             \n",
      "           ****             \n",
      "            ******          \n",
      "             ******         \n",
      "              ******        \n",
      "               *****        \n",
      "                 ****       \n",
      "              *******       \n",
      "            ********        \n",
      "          *********         \n",
      "        **********          \n",
      "      **********            \n",
      "    **********              \n",
      "    ********                \n",
      "                            \n",
      "                            \n",
      "                            \n"
     ]
    }
   ],
   "source": [
    "# Data 내용 확인하기\n",
    "num1 = seq(2,785,28)\n",
    "num2 = seq(29, 785, 28)\n",
    "cnt= 0\n",
    "for(j in 1:28){\n",
    "    n1 = as.numeric(num1[j])\n",
    "    n2 = as.numeric(num2[j])\n",
    "    for(i in seq(n1, n2, 1)){\n",
    "        if(mnist[1,i]){\n",
    "            cat(\"*\")\n",
    "        }else{\n",
    "            cat(\" \")\n",
    "        }\n",
    "        cnt = cnt+1\n",
    "        if(cnt>27){\n",
    "            cat('\\n')\n",
    "            cnt = 0\n",
    "        }\n",
    "    }\n",
    "}"
   ]
  },
  {
   "cell_type": "code",
   "execution_count": 6,
   "id": "9e917cf2",
   "metadata": {},
   "outputs": [
    {
     "name": "stderr",
     "output_type": "stream",
     "text": [
      "\n",
      "Attaching package: ‘dplyr’\n",
      "\n",
      "The following objects are masked from ‘package:stats’:\n",
      "\n",
      "    filter, lag\n",
      "\n",
      "The following objects are masked from ‘package:base’:\n",
      "\n",
      "    intersect, setdiff, setequal, union\n",
      "\n"
     ]
    }
   ],
   "source": [
    "# 숫자 순서대로 정렬하기\n",
    "library(dplyr)"
   ]
  },
  {
   "cell_type": "code",
   "execution_count": 7,
   "id": "18e46a3c",
   "metadata": {},
   "outputs": [
    {
     "data": {
      "text/html": [
       "<table>\n",
       "<thead><tr><th scope=col>V1</th><th scope=col>V2</th><th scope=col>V3</th><th scope=col>V4</th><th scope=col>V5</th><th scope=col>V6</th><th scope=col>V7</th><th scope=col>V8</th><th scope=col>V9</th><th scope=col>V10</th><th scope=col>...</th><th scope=col>V776</th><th scope=col>V777</th><th scope=col>V778</th><th scope=col>V779</th><th scope=col>V780</th><th scope=col>V781</th><th scope=col>V782</th><th scope=col>V783</th><th scope=col>V784</th><th scope=col>V785</th></tr></thead>\n",
       "<tbody>\n",
       "\t<tr><td>0  </td><td>0  </td><td>0  </td><td>0  </td><td>0  </td><td>0  </td><td>0  </td><td>0  </td><td>0  </td><td>0  </td><td>...</td><td>0  </td><td>0  </td><td>0  </td><td>0  </td><td>0  </td><td>0  </td><td>0  </td><td>0  </td><td>0  </td><td>0  </td></tr>\n",
       "\t<tr><td>0  </td><td>0  </td><td>0  </td><td>0  </td><td>0  </td><td>0  </td><td>0  </td><td>0  </td><td>0  </td><td>0  </td><td>...</td><td>0  </td><td>0  </td><td>0  </td><td>0  </td><td>0  </td><td>0  </td><td>0  </td><td>0  </td><td>0  </td><td>0  </td></tr>\n",
       "\t<tr><td>0  </td><td>0  </td><td>0  </td><td>0  </td><td>0  </td><td>0  </td><td>0  </td><td>0  </td><td>0  </td><td>0  </td><td>...</td><td>0  </td><td>0  </td><td>0  </td><td>0  </td><td>0  </td><td>0  </td><td>0  </td><td>0  </td><td>0  </td><td>0  </td></tr>\n",
       "\t<tr><td>0  </td><td>0  </td><td>0  </td><td>0  </td><td>0  </td><td>0  </td><td>0  </td><td>0  </td><td>0  </td><td>0  </td><td>...</td><td>0  </td><td>0  </td><td>0  </td><td>0  </td><td>0  </td><td>0  </td><td>0  </td><td>0  </td><td>0  </td><td>0  </td></tr>\n",
       "\t<tr><td>0  </td><td>0  </td><td>0  </td><td>0  </td><td>0  </td><td>0  </td><td>0  </td><td>0  </td><td>0  </td><td>0  </td><td>...</td><td>0  </td><td>0  </td><td>0  </td><td>0  </td><td>0  </td><td>0  </td><td>0  </td><td>0  </td><td>0  </td><td>0  </td></tr>\n",
       "\t<tr><td>0  </td><td>0  </td><td>0  </td><td>0  </td><td>0  </td><td>0  </td><td>0  </td><td>0  </td><td>0  </td><td>0  </td><td>...</td><td>0  </td><td>0  </td><td>0  </td><td>0  </td><td>0  </td><td>0  </td><td>0  </td><td>0  </td><td>0  </td><td>0  </td></tr>\n",
       "</tbody>\n",
       "</table>\n"
      ],
      "text/latex": [
       "\\begin{tabular}{r|lllllllllllllllllllllllllllllllllllllllllllllllllllllllllllllllllllllllllllllllllllllllllllllllllllllllllllllllllllllllllllllllllllllllllllllllllllllllllllllllllllllllllllllllllllllllllllllllllllllllllllllllllllllllllllllllllllllllllllllllllllllllllllllllllllllllllllllllllllllllllllllllllllllllllllllllllllllllllllllllllllllllllllllllllllllllllllllllllllllllllllllllllllllllllllllllllllllllllllllllllllllllllllllllllllllllllllllllllllllllllllllllllllllllllllllllllllllllllllllllllllllllllllllllllllllllllllllllllllllllllllllllllllllllllllllllllllllllllllllllllllllllllllllllllllllllllllllllllllllllllllllllllllllllllllllllllllllllllllllllllllllllllllllllllllllllllllllllllllllllllllllllllllllllllllllllllllllllllllllllllllllllllllllllllllllllllllllllllllllllllllllllllllllllllllllllll}\n",
       " V1 & V2 & V3 & V4 & V5 & V6 & V7 & V8 & V9 & V10 & ... & V776 & V777 & V778 & V779 & V780 & V781 & V782 & V783 & V784 & V785\\\\\n",
       "\\hline\n",
       "\t 0   & 0   & 0   & 0   & 0   & 0   & 0   & 0   & 0   & 0   & ... & 0   & 0   & 0   & 0   & 0   & 0   & 0   & 0   & 0   & 0  \\\\\n",
       "\t 0   & 0   & 0   & 0   & 0   & 0   & 0   & 0   & 0   & 0   & ... & 0   & 0   & 0   & 0   & 0   & 0   & 0   & 0   & 0   & 0  \\\\\n",
       "\t 0   & 0   & 0   & 0   & 0   & 0   & 0   & 0   & 0   & 0   & ... & 0   & 0   & 0   & 0   & 0   & 0   & 0   & 0   & 0   & 0  \\\\\n",
       "\t 0   & 0   & 0   & 0   & 0   & 0   & 0   & 0   & 0   & 0   & ... & 0   & 0   & 0   & 0   & 0   & 0   & 0   & 0   & 0   & 0  \\\\\n",
       "\t 0   & 0   & 0   & 0   & 0   & 0   & 0   & 0   & 0   & 0   & ... & 0   & 0   & 0   & 0   & 0   & 0   & 0   & 0   & 0   & 0  \\\\\n",
       "\t 0   & 0   & 0   & 0   & 0   & 0   & 0   & 0   & 0   & 0   & ... & 0   & 0   & 0   & 0   & 0   & 0   & 0   & 0   & 0   & 0  \\\\\n",
       "\\end{tabular}\n"
      ],
      "text/markdown": [
       "\n",
       "| V1 | V2 | V3 | V4 | V5 | V6 | V7 | V8 | V9 | V10 | ... | V776 | V777 | V778 | V779 | V780 | V781 | V782 | V783 | V784 | V785 |\n",
       "|---|---|---|---|---|---|---|---|---|---|---|---|---|---|---|---|---|---|---|---|---|\n",
       "| 0   | 0   | 0   | 0   | 0   | 0   | 0   | 0   | 0   | 0   | ... | 0   | 0   | 0   | 0   | 0   | 0   | 0   | 0   | 0   | 0   |\n",
       "| 0   | 0   | 0   | 0   | 0   | 0   | 0   | 0   | 0   | 0   | ... | 0   | 0   | 0   | 0   | 0   | 0   | 0   | 0   | 0   | 0   |\n",
       "| 0   | 0   | 0   | 0   | 0   | 0   | 0   | 0   | 0   | 0   | ... | 0   | 0   | 0   | 0   | 0   | 0   | 0   | 0   | 0   | 0   |\n",
       "| 0   | 0   | 0   | 0   | 0   | 0   | 0   | 0   | 0   | 0   | ... | 0   | 0   | 0   | 0   | 0   | 0   | 0   | 0   | 0   | 0   |\n",
       "| 0   | 0   | 0   | 0   | 0   | 0   | 0   | 0   | 0   | 0   | ... | 0   | 0   | 0   | 0   | 0   | 0   | 0   | 0   | 0   | 0   |\n",
       "| 0   | 0   | 0   | 0   | 0   | 0   | 0   | 0   | 0   | 0   | ... | 0   | 0   | 0   | 0   | 0   | 0   | 0   | 0   | 0   | 0   |\n",
       "\n"
      ],
      "text/plain": [
       "  V1 V2 V3 V4 V5 V6 V7 V8 V9 V10 ... V776 V777 V778 V779 V780 V781 V782 V783\n",
       "1 0  0  0  0  0  0  0  0  0  0   ... 0    0    0    0    0    0    0    0   \n",
       "2 0  0  0  0  0  0  0  0  0  0   ... 0    0    0    0    0    0    0    0   \n",
       "3 0  0  0  0  0  0  0  0  0  0   ... 0    0    0    0    0    0    0    0   \n",
       "4 0  0  0  0  0  0  0  0  0  0   ... 0    0    0    0    0    0    0    0   \n",
       "5 0  0  0  0  0  0  0  0  0  0   ... 0    0    0    0    0    0    0    0   \n",
       "6 0  0  0  0  0  0  0  0  0  0   ... 0    0    0    0    0    0    0    0   \n",
       "  V784 V785\n",
       "1 0    0   \n",
       "2 0    0   \n",
       "3 0    0   \n",
       "4 0    0   \n",
       "5 0    0   \n",
       "6 0    0   "
      ]
     },
     "metadata": {},
     "output_type": "display_data"
    },
    {
     "data": {
      "text/html": [
       "<table>\n",
       "<thead><tr><th></th><th scope=col>V1</th><th scope=col>V2</th><th scope=col>V3</th><th scope=col>V4</th><th scope=col>V5</th><th scope=col>V6</th><th scope=col>V7</th><th scope=col>V8</th><th scope=col>V9</th><th scope=col>V10</th><th scope=col>...</th><th scope=col>V776</th><th scope=col>V777</th><th scope=col>V778</th><th scope=col>V779</th><th scope=col>V780</th><th scope=col>V781</th><th scope=col>V782</th><th scope=col>V783</th><th scope=col>V784</th><th scope=col>V785</th></tr></thead>\n",
       "<tbody>\n",
       "\t<tr><th scope=row>9995</th><td>9  </td><td>0  </td><td>0  </td><td>0  </td><td>0  </td><td>0  </td><td>0  </td><td>0  </td><td>0  </td><td>0  </td><td>...</td><td>0  </td><td>0  </td><td>0  </td><td>0  </td><td>0  </td><td>0  </td><td>0  </td><td>0  </td><td>0  </td><td>0  </td></tr>\n",
       "\t<tr><th scope=row>9996</th><td>9  </td><td>0  </td><td>0  </td><td>0  </td><td>0  </td><td>0  </td><td>0  </td><td>0  </td><td>0  </td><td>0  </td><td>...</td><td>0  </td><td>0  </td><td>0  </td><td>0  </td><td>0  </td><td>0  </td><td>0  </td><td>0  </td><td>0  </td><td>0  </td></tr>\n",
       "\t<tr><th scope=row>9997</th><td>9  </td><td>0  </td><td>0  </td><td>0  </td><td>0  </td><td>0  </td><td>0  </td><td>0  </td><td>0  </td><td>0  </td><td>...</td><td>0  </td><td>0  </td><td>0  </td><td>0  </td><td>0  </td><td>0  </td><td>0  </td><td>0  </td><td>0  </td><td>0  </td></tr>\n",
       "\t<tr><th scope=row>9998</th><td>9  </td><td>0  </td><td>0  </td><td>0  </td><td>0  </td><td>0  </td><td>0  </td><td>0  </td><td>0  </td><td>0  </td><td>...</td><td>0  </td><td>0  </td><td>0  </td><td>0  </td><td>0  </td><td>0  </td><td>0  </td><td>0  </td><td>0  </td><td>0  </td></tr>\n",
       "\t<tr><th scope=row>9999</th><td>9  </td><td>0  </td><td>0  </td><td>0  </td><td>0  </td><td>0  </td><td>0  </td><td>0  </td><td>0  </td><td>0  </td><td>...</td><td>0  </td><td>0  </td><td>0  </td><td>0  </td><td>0  </td><td>0  </td><td>0  </td><td>0  </td><td>0  </td><td>0  </td></tr>\n",
       "\t<tr><th scope=row>10000</th><td>9  </td><td>0  </td><td>0  </td><td>0  </td><td>0  </td><td>0  </td><td>0  </td><td>0  </td><td>0  </td><td>0  </td><td>...</td><td>0  </td><td>0  </td><td>0  </td><td>0  </td><td>0  </td><td>0  </td><td>0  </td><td>0  </td><td>0  </td><td>0  </td></tr>\n",
       "</tbody>\n",
       "</table>\n"
      ],
      "text/latex": [
       "\\begin{tabular}{r|lllllllllllllllllllllllllllllllllllllllllllllllllllllllllllllllllllllllllllllllllllllllllllllllllllllllllllllllllllllllllllllllllllllllllllllllllllllllllllllllllllllllllllllllllllllllllllllllllllllllllllllllllllllllllllllllllllllllllllllllllllllllllllllllllllllllllllllllllllllllllllllllllllllllllllllllllllllllllllllllllllllllllllllllllllllllllllllllllllllllllllllllllllllllllllllllllllllllllllllllllllllllllllllllllllllllllllllllllllllllllllllllllllllllllllllllllllllllllllllllllllllllllllllllllllllllllllllllllllllllllllllllllllllllllllllllllllllllllllllllllllllllllllllllllllllllllllllllllllllllllllllllllllllllllllllllllllllllllllllllllllllllllllllllllllllllllllllllllllllllllllllllllllllllllllllllllllllllllllllllllllllllllllllllllllllllllllllllllllllllllllllllllllllllllllllllll}\n",
       "  & V1 & V2 & V3 & V4 & V5 & V6 & V7 & V8 & V9 & V10 & ... & V776 & V777 & V778 & V779 & V780 & V781 & V782 & V783 & V784 & V785\\\\\n",
       "\\hline\n",
       "\t9995 & 9   & 0   & 0   & 0   & 0   & 0   & 0   & 0   & 0   & 0   & ... & 0   & 0   & 0   & 0   & 0   & 0   & 0   & 0   & 0   & 0  \\\\\n",
       "\t9996 & 9   & 0   & 0   & 0   & 0   & 0   & 0   & 0   & 0   & 0   & ... & 0   & 0   & 0   & 0   & 0   & 0   & 0   & 0   & 0   & 0  \\\\\n",
       "\t9997 & 9   & 0   & 0   & 0   & 0   & 0   & 0   & 0   & 0   & 0   & ... & 0   & 0   & 0   & 0   & 0   & 0   & 0   & 0   & 0   & 0  \\\\\n",
       "\t9998 & 9   & 0   & 0   & 0   & 0   & 0   & 0   & 0   & 0   & 0   & ... & 0   & 0   & 0   & 0   & 0   & 0   & 0   & 0   & 0   & 0  \\\\\n",
       "\t9999 & 9   & 0   & 0   & 0   & 0   & 0   & 0   & 0   & 0   & 0   & ... & 0   & 0   & 0   & 0   & 0   & 0   & 0   & 0   & 0   & 0  \\\\\n",
       "\t10000 & 9   & 0   & 0   & 0   & 0   & 0   & 0   & 0   & 0   & 0   & ... & 0   & 0   & 0   & 0   & 0   & 0   & 0   & 0   & 0   & 0  \\\\\n",
       "\\end{tabular}\n"
      ],
      "text/markdown": [
       "\n",
       "| <!--/--> | V1 | V2 | V3 | V4 | V5 | V6 | V7 | V8 | V9 | V10 | ... | V776 | V777 | V778 | V779 | V780 | V781 | V782 | V783 | V784 | V785 |\n",
       "|---|---|---|---|---|---|---|---|---|---|---|---|---|---|---|---|---|---|---|---|---|---|\n",
       "| 9995 | 9   | 0   | 0   | 0   | 0   | 0   | 0   | 0   | 0   | 0   | ... | 0   | 0   | 0   | 0   | 0   | 0   | 0   | 0   | 0   | 0   |\n",
       "| 9996 | 9   | 0   | 0   | 0   | 0   | 0   | 0   | 0   | 0   | 0   | ... | 0   | 0   | 0   | 0   | 0   | 0   | 0   | 0   | 0   | 0   |\n",
       "| 9997 | 9   | 0   | 0   | 0   | 0   | 0   | 0   | 0   | 0   | 0   | ... | 0   | 0   | 0   | 0   | 0   | 0   | 0   | 0   | 0   | 0   |\n",
       "| 9998 | 9   | 0   | 0   | 0   | 0   | 0   | 0   | 0   | 0   | 0   | ... | 0   | 0   | 0   | 0   | 0   | 0   | 0   | 0   | 0   | 0   |\n",
       "| 9999 | 9   | 0   | 0   | 0   | 0   | 0   | 0   | 0   | 0   | 0   | ... | 0   | 0   | 0   | 0   | 0   | 0   | 0   | 0   | 0   | 0   |\n",
       "| 10000 | 9   | 0   | 0   | 0   | 0   | 0   | 0   | 0   | 0   | 0   | ... | 0   | 0   | 0   | 0   | 0   | 0   | 0   | 0   | 0   | 0   |\n",
       "\n"
      ],
      "text/plain": [
       "      V1 V2 V3 V4 V5 V6 V7 V8 V9 V10 ... V776 V777 V778 V779 V780 V781 V782\n",
       "9995  9  0  0  0  0  0  0  0  0  0   ... 0    0    0    0    0    0    0   \n",
       "9996  9  0  0  0  0  0  0  0  0  0   ... 0    0    0    0    0    0    0   \n",
       "9997  9  0  0  0  0  0  0  0  0  0   ... 0    0    0    0    0    0    0   \n",
       "9998  9  0  0  0  0  0  0  0  0  0   ... 0    0    0    0    0    0    0   \n",
       "9999  9  0  0  0  0  0  0  0  0  0   ... 0    0    0    0    0    0    0   \n",
       "10000 9  0  0  0  0  0  0  0  0  0   ... 0    0    0    0    0    0    0   \n",
       "      V783 V784 V785\n",
       "9995  0    0    0   \n",
       "9996  0    0    0   \n",
       "9997  0    0    0   \n",
       "9998  0    0    0   \n",
       "9999  0    0    0   \n",
       "10000 0    0    0   "
      ]
     },
     "metadata": {},
     "output_type": "display_data"
    }
   ],
   "source": [
    "mnist <- arrange(mnist,V1)\n",
    "head(mnist)\n",
    "tail(mnist)"
   ]
  },
  {
   "cell_type": "code",
   "execution_count": 8,
   "id": "a0309117",
   "metadata": {},
   "outputs": [
    {
     "data": {
      "text/plain": [
       "\n",
       "   0    1    2    3    4    5    6    7    8    9 \n",
       "1001 1127  991 1032  980  863 1014 1070  944  978 "
      ]
     },
     "metadata": {},
     "output_type": "display_data"
    }
   ],
   "source": [
    "table(mnist$V1)"
   ]
  },
  {
   "cell_type": "code",
   "execution_count": 9,
   "id": "8b351869",
   "metadata": {},
   "outputs": [],
   "source": [
    "# V1을 factor로 변경\n",
    "mnist$V1<-as.factor(mnist$V1)"
   ]
  },
  {
   "cell_type": "code",
   "execution_count": 10,
   "id": "e32ebc79",
   "metadata": {},
   "outputs": [
    {
     "name": "stderr",
     "output_type": "stream",
     "text": [
      "Loading required package: lattice\n",
      "Loading required package: ggplot2\n",
      "Registered S3 methods overwritten by 'ggplot2':\n",
      "  method         from \n",
      "  [.quosures     rlang\n",
      "  c.quosures     rlang\n",
      "  print.quosures rlang\n"
     ]
    }
   ],
   "source": [
    "library(caret)"
   ]
  },
  {
   "cell_type": "code",
   "execution_count": 11,
   "id": "e48ed65b",
   "metadata": {},
   "outputs": [],
   "source": [
    "# Sampling\n",
    "set.seed(1234)\n",
    "samp <- createDataPartition(mnist$V1, p=0.7, list = F)\n",
    "# 학습용 데이터 만들기\n",
    "data.tr <- mnist[samp,]\n",
    "# 검증용 데이터 만들기\n",
    "data.test <- mnist[-samp,]\n",
    "# 문제 및 정답 만들기\n",
    "x <- subset(data.test, select = -V1)\n",
    "y <- data.test$V1\n"
   ]
  },
  {
   "cell_type": "code",
   "execution_count": 12,
   "id": "40a7c65b",
   "metadata": {},
   "outputs": [],
   "source": [
    "#     # 인공 신경망\n",
    "#     library(nnet)\n",
    "\n",
    "#     # Model 만들기\n",
    "#     model.nnet <- nnet(V1 ~ ., data=data.tr, size=1)\n",
    "#     # size:은닉층 갯수로 sample수보다 작아야 함. (Hyper Parameter)\n",
    "\n",
    "#     # 검증\n",
    "\n",
    "#     pred <- predict(model.nnet, x, type = \"class\") # class : 분류된것(객관식), raw : 주관식\n",
    "#     pred\n",
    "#     # 예측력\n",
    "#     mean(pred == y)\n",
    "#     table(pred,y)"
   ]
  },
  {
   "cell_type": "code",
   "execution_count": 13,
   "id": "e62c7495",
   "metadata": {},
   "outputs": [
    {
     "name": "stderr",
     "output_type": "stream",
     "text": [
      "Loading required package: grid\n",
      "Loading required package: mvtnorm\n",
      "Loading required package: modeltools\n",
      "Loading required package: stats4\n",
      "Loading required package: strucchange\n",
      "Loading required package: zoo\n",
      "\n",
      "Attaching package: ‘zoo’\n",
      "\n",
      "The following objects are masked from ‘package:base’:\n",
      "\n",
      "    as.Date, as.Date.numeric\n",
      "\n",
      "Loading required package: sandwich\n"
     ]
    },
    {
     "data": {
      "text/html": [
       "0.7334000667334"
      ],
      "text/latex": [
       "0.7334000667334"
      ],
      "text/markdown": [
       "0.7334000667334"
      ],
      "text/plain": [
       "[1] 0.7334001"
      ]
     },
     "metadata": {},
     "output_type": "display_data"
    },
    {
     "data": {
      "text/plain": [
       "    y\n",
       "pred   0   1   2   3   4   5   6   7   8   9\n",
       "   0 266   0   8   4   3   6   9   1   9   1\n",
       "   1   0 296  13  15   1   5   1  21  10   4\n",
       "   2   8  15 217  10  14  13  20   6  14   8\n",
       "   3   0   7   4 188   9  37   4   4   3  14\n",
       "   4   0   0   0   4 181   8   3   3   4   5\n",
       "   5   7   2  10  47   8 129   5   4  12   7\n",
       "   6   6   0  14   3   9   6 239   0   4   2\n",
       "   7   7   3  11  14  26  20   7 255  10  22\n",
       "   8   6  13  19  16  14  31  16   8 213  16\n",
       "   9   0   2   1   8  29   3   0  19   4 214"
      ]
     },
     "metadata": {},
     "output_type": "display_data"
    }
   ],
   "source": [
    "# 의사결정나무\n",
    "library(party)\n",
    "\n",
    "# 학습시키기\n",
    "model.ctree <- ctree(V1 ~., data=data.tr)\n",
    "\n",
    "# 검증하기\n",
    "pred <- predict(model.ctree, x)\n",
    "\n",
    "# 예측율\n",
    "mean(pred == y)\n",
    "table(pred,y)"
   ]
  },
  {
   "cell_type": "code",
   "execution_count": 14,
   "id": "cc0792c9",
   "metadata": {},
   "outputs": [
    {
     "name": "stderr",
     "output_type": "stream",
     "text": [
      "randomForest 4.6-14\n",
      "Type rfNews() to see new features/changes/bug fixes.\n",
      "\n",
      "Attaching package: ‘randomForest’\n",
      "\n",
      "The following object is masked from ‘package:ggplot2’:\n",
      "\n",
      "    margin\n",
      "\n",
      "The following object is masked from ‘package:dplyr’:\n",
      "\n",
      "    combine\n",
      "\n"
     ]
    },
    {
     "data": {
      "text/html": [
       "0.949282615949283"
      ],
      "text/latex": [
       "0.949282615949283"
      ],
      "text/markdown": [
       "0.949282615949283"
      ],
      "text/plain": [
       "[1] 0.9492826"
      ]
     },
     "metadata": {},
     "output_type": "display_data"
    },
    {
     "data": {
      "text/plain": [
       "    y\n",
       "pred   0   1   2   3   4   5   6   7   8   9\n",
       "   0 293   0   1   2   1   2   1   1   0   2\n",
       "   1   0 331   0   1   1   0   2   1   4   1\n",
       "   2   0   6 282   3   0   0   0   6   5   2\n",
       "   3   0   0   3 281   0   9   0   0   2   3\n",
       "   4   0   0   2   0 280   1   0   4   4   4\n",
       "   5   0   0   0   5   0 237   2   0   2   0\n",
       "   6   3   0   4   1   0   4 299   0   2   0\n",
       "   7   0   1   2   4   0   2   0 306   1   3\n",
       "   8   4   0   2   7   0   0   0   0 259   1\n",
       "   9   0   0   1   5  12   3   0   3   4 277"
      ]
     },
     "metadata": {},
     "output_type": "display_data"
    }
   ],
   "source": [
    "# 렌덤포레스트\n",
    "library(randomForest)\n",
    "\n",
    "\n",
    "# 학습시키기\n",
    "model.rf <- randomForest(V1 ~ ., data = data.tr, ntree=100)\n",
    "\n",
    "# 검증하기\n",
    "pred <- predict(model.rf, x)\n",
    "\n",
    "# 예측율\n",
    "mean(pred == y)\n",
    "table(pred, y)"
   ]
  },
  {
   "cell_type": "code",
   "execution_count": 17,
   "id": "ba139747",
   "metadata": {},
   "outputs": [
    {
     "name": "stderr",
     "output_type": "stream",
     "text": [
      "Warning message in svm.default(x, y, scale = scale, ..., na.action = na.action):\n",
      "“Variable(s) ‘V2’ and ‘V3’ and ‘V4’ and ‘V5’ and ‘V6’ and ‘V7’ and ‘V8’ and ‘V9’ and ‘V10’ and ‘V11’ and ‘V12’ and ‘V13’ and ‘V14’ and ‘V15’ and ‘V16’ and ‘V17’ and ‘V18’ and ‘V19’ and ‘V20’ and ‘V21’ and ‘V22’ and ‘V23’ and ‘V24’ and ‘V25’ and ‘V26’ and ‘V27’ and ‘V28’ and ‘V29’ and ‘V30’ and ‘V31’ and ‘V32’ and ‘V33’ and ‘V34’ and ‘V35’ and ‘V36’ and ‘V37’ and ‘V54’ and ‘V55’ and ‘V56’ and ‘V57’ and ‘V58’ and ‘V59’ and ‘V60’ and ‘V61’ and ‘V83’ and ‘V84’ and ‘V85’ and ‘V86’ and ‘V87’ and ‘V88’ and ‘V89’ and ‘V111’ and ‘V112’ and ‘V113’ and ‘V114’ and ‘V115’ and ‘V116’ and ‘V117’ and ‘V141’ and ‘V142’ and ‘V143’ and ‘V169’ and ‘V170’ and ‘V171’ and ‘V282’ and ‘V310’ and ‘V337’ and ‘V338’ and ‘V365’ and ‘V366’ and ‘V393’ and ‘V394’ and ‘V421’ and ‘V422’ and ‘V449’ and ‘V450’ and ‘V477’ and ‘V478’ and ‘V506’ and ‘V534’ and ‘V535’ and ‘V561’ and ‘V562’ and ‘V590’ and ‘V617’ and ‘V618’ and ‘V619’ and ‘V645’ and ‘V646’ and ‘V647’ and ‘V672’ and ‘V673’ and ‘V674’ and ‘V675’ and ‘V676’ and ‘V699’ and ‘V700’ and ‘V701’ and ‘V702’ and ‘V703’ and ‘V704’ and ‘V727’ and ‘V728’ and ‘V729’ and ‘V730’ and ‘V731’ and ‘V732’ and ‘V754’ and ‘V755’ and ‘V756’ and ‘V757’ and ‘V758’ and ‘V759’ and ‘V760’ and ‘V761’ and ‘V762’ and ‘V781’ and ‘V782’ and ‘V783’ and ‘V784’ and ‘V785’ constant. Cannot scale data.”"
     ]
    },
    {
     "data": {
      "text/html": [
       "0.112779446112779"
      ],
      "text/latex": [
       "0.112779446112779"
      ],
      "text/markdown": [
       "0.112779446112779"
      ],
      "text/plain": [
       "[1] 0.1127794"
      ]
     },
     "metadata": {},
     "output_type": "display_data"
    },
    {
     "data": {
      "text/plain": [
       "    y\n",
       "pred   0   1   2   3   4   5   6   7   8   9\n",
       "   0   0   0   0   0   0   0   0   0   0   0\n",
       "   1 300 338 297 309 294 258 304 321 283 293\n",
       "   2   0   0   0   0   0   0   0   0   0   0\n",
       "   3   0   0   0   0   0   0   0   0   0   0\n",
       "   4   0   0   0   0   0   0   0   0   0   0\n",
       "   5   0   0   0   0   0   0   0   0   0   0\n",
       "   6   0   0   0   0   0   0   0   0   0   0\n",
       "   7   0   0   0   0   0   0   0   0   0   0\n",
       "   8   0   0   0   0   0   0   0   0   0   0\n",
       "   9   0   0   0   0   0   0   0   0   0   0"
      ]
     },
     "metadata": {},
     "output_type": "display_data"
    }
   ],
   "source": [
    "# SVM\n",
    "library(e1071)\n",
    "\n",
    "# 학습시키기\n",
    "model.svm = svm(V1 ~., data=data.tr)\n",
    "\n",
    "# 검증하기\n",
    "pred <- predict(model.svm, x, type=\"class\")\n",
    "\n",
    "# 예측율\n",
    "mean(pred == y)\n",
    "table(pred,y)"
   ]
  },
  {
   "cell_type": "code",
   "execution_count": 16,
   "id": "15f50990",
   "metadata": {},
   "outputs": [
    {
     "ename": "ERROR",
     "evalue": "Error in nnet.default(X, Y, w, mask = mask, size = 0, skip = TRUE, softmax = TRUE, : too many (7860) weights\n",
     "output_type": "error",
     "traceback": [
      "Error in nnet.default(X, Y, w, mask = mask, size = 0, skip = TRUE, softmax = TRUE, : too many (7860) weights\nTraceback:\n",
      "1. multinom(V1 ~ ., data = data.tr)",
      "2. nnet.default(X, Y, w, mask = mask, size = 0, skip = TRUE, softmax = TRUE, \n .     censored = censored, rang = 0, ...)",
      "3. stop(gettextf(\"too many (%d) weights\", nwts), domain = NA)"
     ]
    }
   ],
   "source": [
    "#로지스틱회귀분석\n",
    "library(nnet)\n",
    "\n",
    "# 학습시키기\n",
    "model <- multinom(V1 ~., data=data.tr)\n",
    "\n",
    "# 검증하기\n",
    "pred <- predict(model, x, type=\"class\")\n",
    "\n",
    "# 예측율\n",
    "mean(pred == y)\n",
    "table(pred,y)"
   ]
  },
  {
   "cell_type": "code",
   "execution_count": null,
   "id": "4a53ee8c",
   "metadata": {},
   "outputs": [],
   "source": []
  },
  {
   "cell_type": "code",
   "execution_count": null,
   "id": "07adcc08",
   "metadata": {},
   "outputs": [],
   "source": []
  },
  {
   "cell_type": "code",
   "execution_count": null,
   "id": "b4d287b7",
   "metadata": {},
   "outputs": [],
   "source": []
  },
  {
   "cell_type": "code",
   "execution_count": null,
   "id": "5591000f",
   "metadata": {},
   "outputs": [],
   "source": []
  },
  {
   "cell_type": "code",
   "execution_count": null,
   "id": "2dc13f0d",
   "metadata": {},
   "outputs": [],
   "source": []
  },
  {
   "cell_type": "code",
   "execution_count": null,
   "id": "37eb7f67",
   "metadata": {},
   "outputs": [],
   "source": []
  },
  {
   "cell_type": "code",
   "execution_count": null,
   "id": "85fb006b",
   "metadata": {},
   "outputs": [],
   "source": []
  },
  {
   "cell_type": "code",
   "execution_count": null,
   "id": "db95e4c1",
   "metadata": {},
   "outputs": [],
   "source": []
  },
  {
   "cell_type": "code",
   "execution_count": null,
   "id": "9f4ebe74",
   "metadata": {},
   "outputs": [],
   "source": []
  },
  {
   "cell_type": "code",
   "execution_count": null,
   "id": "a3faabed",
   "metadata": {},
   "outputs": [],
   "source": []
  },
  {
   "cell_type": "code",
   "execution_count": null,
   "id": "e329e4ba",
   "metadata": {},
   "outputs": [],
   "source": []
  }
 ],
 "metadata": {
  "kernelspec": {
   "display_name": "R",
   "language": "R",
   "name": "ir"
  },
  "language_info": {
   "codemirror_mode": "r",
   "file_extension": ".r",
   "mimetype": "text/x-r-source",
   "name": "R",
   "pygments_lexer": "r",
   "version": "3.6.1"
  }
 },
 "nbformat": 4,
 "nbformat_minor": 5
}
