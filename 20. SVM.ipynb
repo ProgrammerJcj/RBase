{
 "cells": [
  {
   "cell_type": "code",
   "execution_count": 1,
   "id": "aef579e7",
   "metadata": {},
   "outputs": [],
   "source": [
    "# Anaconda Navigator에서 e1071 설치"
   ]
  },
  {
   "cell_type": "code",
   "execution_count": 2,
   "id": "3f3f63c4",
   "metadata": {},
   "outputs": [],
   "source": [
    "library(e1071)"
   ]
  },
  {
   "cell_type": "code",
   "execution_count": 3,
   "id": "ee60366d",
   "metadata": {},
   "outputs": [],
   "source": [
    "# Sampling, 학습용, 검증용 만들기"
   ]
  },
  {
   "cell_type": "code",
   "execution_count": 5,
   "id": "982cf814",
   "metadata": {},
   "outputs": [
    {
     "name": "stderr",
     "output_type": "stream",
     "text": [
      "Loading required package: lattice\n",
      "Loading required package: ggplot2\n",
      "Registered S3 methods overwritten by 'ggplot2':\n",
      "  method         from \n",
      "  [.quosures     rlang\n",
      "  c.quosures     rlang\n",
      "  print.quosures rlang\n"
     ]
    }
   ],
   "source": [
    "library(caret)"
   ]
  },
  {
   "cell_type": "code",
   "execution_count": 19,
   "id": "37c2d6cf",
   "metadata": {},
   "outputs": [
    {
     "data": {
      "text/html": [
       "<table>\n",
       "<thead><tr><th scope=col>Sepal.Length</th><th scope=col>Sepal.Width</th><th scope=col>Petal.Length</th><th scope=col>Petal.Width</th><th scope=col>Species</th></tr></thead>\n",
       "<tbody>\n",
       "\t<tr><td>-0.8976739 </td><td> 1.01560199</td><td>-1.335752  </td><td>-1.311052  </td><td>setosa     </td></tr>\n",
       "\t<tr><td>-1.1392005 </td><td>-0.13153881</td><td>-1.335752  </td><td>-1.311052  </td><td>setosa     </td></tr>\n",
       "\t<tr><td>-1.3807271 </td><td> 0.32731751</td><td>-1.392399  </td><td>-1.311052  </td><td>setosa     </td></tr>\n",
       "\t<tr><td>-1.5014904 </td><td> 0.09788935</td><td>-1.279104  </td><td>-1.311052  </td><td>setosa     </td></tr>\n",
       "\t<tr><td>-1.0184372 </td><td> 1.24503015</td><td>-1.335752  </td><td>-1.311052  </td><td>setosa     </td></tr>\n",
       "\t<tr><td>-0.5353840 </td><td> 1.93331463</td><td>-1.165809  </td><td>-1.048667  </td><td>setosa     </td></tr>\n",
       "</tbody>\n",
       "</table>\n"
      ],
      "text/latex": [
       "\\begin{tabular}{r|lllll}\n",
       " Sepal.Length & Sepal.Width & Petal.Length & Petal.Width & Species\\\\\n",
       "\\hline\n",
       "\t -0.8976739  &  1.01560199 & -1.335752   & -1.311052   & setosa     \\\\\n",
       "\t -1.1392005  & -0.13153881 & -1.335752   & -1.311052   & setosa     \\\\\n",
       "\t -1.3807271  &  0.32731751 & -1.392399   & -1.311052   & setosa     \\\\\n",
       "\t -1.5014904  &  0.09788935 & -1.279104   & -1.311052   & setosa     \\\\\n",
       "\t -1.0184372  &  1.24503015 & -1.335752   & -1.311052   & setosa     \\\\\n",
       "\t -0.5353840  &  1.93331463 & -1.165809   & -1.048667   & setosa     \\\\\n",
       "\\end{tabular}\n"
      ],
      "text/markdown": [
       "\n",
       "| Sepal.Length | Sepal.Width | Petal.Length | Petal.Width | Species |\n",
       "|---|---|---|---|---|\n",
       "| -0.8976739  |  1.01560199 | -1.335752   | -1.311052   | setosa      |\n",
       "| -1.1392005  | -0.13153881 | -1.335752   | -1.311052   | setosa      |\n",
       "| -1.3807271  |  0.32731751 | -1.392399   | -1.311052   | setosa      |\n",
       "| -1.5014904  |  0.09788935 | -1.279104   | -1.311052   | setosa      |\n",
       "| -1.0184372  |  1.24503015 | -1.335752   | -1.311052   | setosa      |\n",
       "| -0.5353840  |  1.93331463 | -1.165809   | -1.048667   | setosa      |\n",
       "\n"
      ],
      "text/plain": [
       "  Sepal.Length Sepal.Width Petal.Length Petal.Width Species\n",
       "1 -0.8976739    1.01560199 -1.335752    -1.311052   setosa \n",
       "2 -1.1392005   -0.13153881 -1.335752    -1.311052   setosa \n",
       "3 -1.3807271    0.32731751 -1.392399    -1.311052   setosa \n",
       "4 -1.5014904    0.09788935 -1.279104    -1.311052   setosa \n",
       "5 -1.0184372    1.24503015 -1.335752    -1.311052   setosa \n",
       "6 -0.5353840    1.93331463 -1.165809    -1.048667   setosa "
      ]
     },
     "metadata": {},
     "output_type": "display_data"
    },
    {
     "data": {
      "text/html": [
       "<table>\n",
       "<thead><tr><th></th><th scope=col>Sepal.Length</th><th scope=col>Sepal.Width</th><th scope=col>Petal.Length</th><th scope=col>Petal.Width</th><th scope=col>Species</th></tr></thead>\n",
       "<tbody>\n",
       "\t<tr><th scope=row>145</th><td>1.03453895</td><td> 0.5567457</td><td>1.1000974 </td><td>1.7063794 </td><td>virginica </td></tr>\n",
       "\t<tr><th scope=row>146</th><td>1.03453895</td><td>-0.1315388</td><td>0.8168591 </td><td>1.4439941 </td><td>virginica </td></tr>\n",
       "\t<tr><th scope=row>147</th><td>0.55148575</td><td>-1.2786796</td><td>0.7035638 </td><td>0.9192234 </td><td>virginica </td></tr>\n",
       "\t<tr><th scope=row>148</th><td>0.79301235</td><td>-0.1315388</td><td>0.8168591 </td><td>1.0504160 </td><td>virginica </td></tr>\n",
       "\t<tr><th scope=row>149</th><td>0.43072244</td><td> 0.7861738</td><td>0.9301544 </td><td>1.4439941 </td><td>virginica </td></tr>\n",
       "\t<tr><th scope=row>150</th><td>0.06843254</td><td>-0.1315388</td><td>0.7602115 </td><td>0.7880307 </td><td>virginica </td></tr>\n",
       "</tbody>\n",
       "</table>\n"
      ],
      "text/latex": [
       "\\begin{tabular}{r|lllll}\n",
       "  & Sepal.Length & Sepal.Width & Petal.Length & Petal.Width & Species\\\\\n",
       "\\hline\n",
       "\t145 & 1.03453895 &  0.5567457 & 1.1000974  & 1.7063794  & virginica \\\\\n",
       "\t146 & 1.03453895 & -0.1315388 & 0.8168591  & 1.4439941  & virginica \\\\\n",
       "\t147 & 0.55148575 & -1.2786796 & 0.7035638  & 0.9192234  & virginica \\\\\n",
       "\t148 & 0.79301235 & -0.1315388 & 0.8168591  & 1.0504160  & virginica \\\\\n",
       "\t149 & 0.43072244 &  0.7861738 & 0.9301544  & 1.4439941  & virginica \\\\\n",
       "\t150 & 0.06843254 & -0.1315388 & 0.7602115  & 0.7880307  & virginica \\\\\n",
       "\\end{tabular}\n"
      ],
      "text/markdown": [
       "\n",
       "| <!--/--> | Sepal.Length | Sepal.Width | Petal.Length | Petal.Width | Species |\n",
       "|---|---|---|---|---|---|\n",
       "| 145 | 1.03453895 |  0.5567457 | 1.1000974  | 1.7063794  | virginica  |\n",
       "| 146 | 1.03453895 | -0.1315388 | 0.8168591  | 1.4439941  | virginica  |\n",
       "| 147 | 0.55148575 | -1.2786796 | 0.7035638  | 0.9192234  | virginica  |\n",
       "| 148 | 0.79301235 | -0.1315388 | 0.8168591  | 1.0504160  | virginica  |\n",
       "| 149 | 0.43072244 |  0.7861738 | 0.9301544  | 1.4439941  | virginica  |\n",
       "| 150 | 0.06843254 | -0.1315388 | 0.7602115  | 0.7880307  | virginica  |\n",
       "\n"
      ],
      "text/plain": [
       "    Sepal.Length Sepal.Width Petal.Length Petal.Width Species  \n",
       "145 1.03453895    0.5567457  1.1000974    1.7063794   virginica\n",
       "146 1.03453895   -0.1315388  0.8168591    1.4439941   virginica\n",
       "147 0.55148575   -1.2786796  0.7035638    0.9192234   virginica\n",
       "148 0.79301235   -0.1315388  0.8168591    1.0504160   virginica\n",
       "149 0.43072244    0.7861738  0.9301544    1.4439941   virginica\n",
       "150 0.06843254   -0.1315388  0.7602115    0.7880307   virginica"
      ]
     },
     "metadata": {},
     "output_type": "display_data"
    }
   ],
   "source": [
    "iris2 <- scale(iris[,-5])\n",
    "\n",
    "iris2 <- as.data.frame(iris2)\n",
    "iris2$Species <- iris$Species\n",
    "head(iris2)\n",
    "tail(iris2)"
   ]
  },
  {
   "cell_type": "code",
   "execution_count": 28,
   "id": "f31dfdbe",
   "metadata": {},
   "outputs": [],
   "source": [
    "# Sampling\n",
    "set.seed(1234)\n",
    "samp <- createDataPartition(iris2$Species, p=0.7, list = F)\n",
    "# 학습용 데이터 만들기\n",
    "data.tr <- iris2[samp,]\n",
    "# 검증용 데이터 만들기\n",
    "data.test <- iris2[-samp,]\n",
    "# 문제 및 정답 만들기\n",
    "x <- subset(data.test, select = -Species)\n",
    "y <- data.test$Species"
   ]
  },
  {
   "cell_type": "code",
   "execution_count": 29,
   "id": "d1b092f1",
   "metadata": {},
   "outputs": [],
   "source": [
    "# 학습시키기\n",
    "model.svm = svm(Species ~., data=data.tr)"
   ]
  },
  {
   "cell_type": "code",
   "execution_count": 32,
   "id": "c8a2cfac",
   "metadata": {},
   "outputs": [],
   "source": [
    "# 검증하기\n",
    "pred <- predict(model.svm, x, type=\"class\")"
   ]
  },
  {
   "cell_type": "code",
   "execution_count": 33,
   "id": "e29c5965",
   "metadata": {},
   "outputs": [
    {
     "data": {
      "text/html": [
       "0.933333333333333"
      ],
      "text/latex": [
       "0.933333333333333"
      ],
      "text/markdown": [
       "0.933333333333333"
      ],
      "text/plain": [
       "[1] 0.9333333"
      ]
     },
     "metadata": {},
     "output_type": "display_data"
    },
    {
     "data": {
      "text/plain": [
       "            y\n",
       "pred         setosa versicolor virginica\n",
       "  setosa         15          0         0\n",
       "  versicolor      0         13         1\n",
       "  virginica       0          2        14"
      ]
     },
     "metadata": {},
     "output_type": "display_data"
    }
   ],
   "source": [
    "# 예측율 및 오분류표\n",
    "mean(pred == y)\n",
    "table(pred, y)"
   ]
  },
  {
   "cell_type": "code",
   "execution_count": null,
   "id": "3eef9a44",
   "metadata": {},
   "outputs": [],
   "source": []
  },
  {
   "cell_type": "code",
   "execution_count": null,
   "id": "7b35e265",
   "metadata": {},
   "outputs": [],
   "source": []
  },
  {
   "cell_type": "code",
   "execution_count": null,
   "id": "40c0c61b",
   "metadata": {},
   "outputs": [],
   "source": []
  },
  {
   "cell_type": "code",
   "execution_count": null,
   "id": "fb95cd97",
   "metadata": {},
   "outputs": [],
   "source": []
  },
  {
   "cell_type": "code",
   "execution_count": null,
   "id": "fa51f6f6",
   "metadata": {},
   "outputs": [],
   "source": []
  },
  {
   "cell_type": "code",
   "execution_count": null,
   "id": "db062613",
   "metadata": {},
   "outputs": [],
   "source": []
  },
  {
   "cell_type": "code",
   "execution_count": null,
   "id": "a803311a",
   "metadata": {},
   "outputs": [],
   "source": []
  },
  {
   "cell_type": "code",
   "execution_count": null,
   "id": "8e0527a1",
   "metadata": {},
   "outputs": [],
   "source": []
  },
  {
   "cell_type": "code",
   "execution_count": null,
   "id": "20a56291",
   "metadata": {},
   "outputs": [],
   "source": []
  },
  {
   "cell_type": "code",
   "execution_count": null,
   "id": "f22e13e1",
   "metadata": {},
   "outputs": [],
   "source": []
  },
  {
   "cell_type": "code",
   "execution_count": null,
   "id": "bafe3936",
   "metadata": {},
   "outputs": [],
   "source": []
  },
  {
   "cell_type": "code",
   "execution_count": null,
   "id": "a2bf26fb",
   "metadata": {},
   "outputs": [],
   "source": []
  },
  {
   "cell_type": "code",
   "execution_count": null,
   "id": "af391724",
   "metadata": {},
   "outputs": [],
   "source": []
  },
  {
   "cell_type": "code",
   "execution_count": null,
   "id": "4ab84473",
   "metadata": {},
   "outputs": [],
   "source": []
  }
 ],
 "metadata": {
  "kernelspec": {
   "display_name": "R",
   "language": "R",
   "name": "ir"
  },
  "language_info": {
   "codemirror_mode": "r",
   "file_extension": ".r",
   "mimetype": "text/x-r-source",
   "name": "R",
   "pygments_lexer": "r",
   "version": "3.6.1"
  }
 },
 "nbformat": 4,
 "nbformat_minor": 5
}
