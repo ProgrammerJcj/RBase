{
 "cells": [
  {
   "cell_type": "code",
   "execution_count": 4,
   "id": "9c713665",
   "metadata": {},
   "outputs": [
    {
     "name": "stdout",
     "output_type": "stream",
     "text": [
      "[1] \"x > runif()\"\n",
      "[1] \"--- End ---\"\n"
     ]
    }
   ],
   "source": [
    "x <- 10\n",
    "y <- runif(1)*100\n",
    "\n",
    "if(x > y){\n",
    "    print(\"x > runif()\")\n",
    "}\n",
    "print(\"--- End ---\")"
   ]
  },
  {
   "cell_type": "code",
   "execution_count": 29,
   "id": "9bf53f84",
   "metadata": {},
   "outputs": [
    {
     "name": "stdout",
     "output_type": "stream",
     "text": [
      "[1] \"x > runif()\"\n",
      "[1] \"--- End ---\"\n"
     ]
    }
   ],
   "source": [
    "x <- 10\n",
    "y <- runif(1)*100\n",
    "\n",
    "if(x > y){\n",
    "    print(\"x > runif()\")\n",
    "}else{\n",
    "    print(\"x <= runif()\")\n",
    "}\n",
    "\n",
    "print(\"--- End ---\")"
   ]
  },
  {
   "cell_type": "code",
   "execution_count": 82,
   "id": "bae77557",
   "metadata": {},
   "outputs": [
    {
     "name": "stdout",
     "output_type": "stream",
     "text": [
      "[1] \"x < runif()\"\n",
      "[1] \"--- End ---\"\n"
     ]
    }
   ],
   "source": [
    "x <- 10\n",
    "y <- runif(1)*100\n",
    "\n",
    "if(x > y){\n",
    "    print(\"x > runif()\")\n",
    "}else if(x < y){\n",
    "    print(\"x < runif()\")\n",
    "}else{\n",
    "    print(\"x = runif()\")\n",
    "}\n",
    "\n",
    "print(\"--- End ---\")"
   ]
  },
  {
   "cell_type": "code",
   "execution_count": 191,
   "id": "e055ac03",
   "metadata": {},
   "outputs": [
    {
     "name": "stderr",
     "output_type": "stream",
     "text": [
      "Warning message in if (a%%2 == 0) {:\n",
      "“length > 1 이라는 조건이 있고, 첫번째 요소만이 사용될 것입니다”"
     ]
    },
    {
     "data": {
      "text/html": [
       "<ol class=list-inline>\n",
       "\t<li>'8는 짝수 입니다.'</li>\n",
       "\t<li>'7는 짝수 입니다.'</li>\n",
       "\t<li>'6는 짝수 입니다.'</li>\n",
       "</ol>\n"
      ],
      "text/latex": [
       "\\begin{enumerate*}\n",
       "\\item '8는 짝수 입니다.'\n",
       "\\item '7는 짝수 입니다.'\n",
       "\\item '6는 짝수 입니다.'\n",
       "\\end{enumerate*}\n"
      ],
      "text/markdown": [
       "1. '8는 짝수 입니다.'\n",
       "2. '7는 짝수 입니다.'\n",
       "3. '6는 짝수 입니다.'\n",
       "\n",
       "\n"
      ],
      "text/plain": [
       "[1] \"8는 짝수 입니다.\" \"7는 짝수 입니다.\" \"6는 짝수 입니다.\""
      ]
     },
     "metadata": {},
     "output_type": "display_data"
    }
   ],
   "source": [
    "# 홀수 짝수 구분\n",
    "\n",
    "# a <- round(runif(1)*100,0)\n",
    "a <- c(8,7,6) # 벡터는 처리 불가\n",
    "\n",
    "if(a %% 2 == 0){\n",
    "    sprintf(\"%i는 짝수 입니다.\", a)\n",
    "}else{\n",
    "    cat(a,\"는 홀수 입니다.\",sep = \"\")\n",
    "}"
   ]
  },
  {
   "cell_type": "code",
   "execution_count": 237,
   "id": "a9ee53c8",
   "metadata": {},
   "outputs": [
    {
     "data": {
      "text/html": [
       "<ol class=list-inline>\n",
       "\t<li>'8 : 짝수'</li>\n",
       "\t<li>'7 : 홀수'</li>\n",
       "\t<li>'6 : 짝수'</li>\n",
       "</ol>\n"
      ],
      "text/latex": [
       "\\begin{enumerate*}\n",
       "\\item '8 : 짝수'\n",
       "\\item '7 : 홀수'\n",
       "\\item '6 : 짝수'\n",
       "\\end{enumerate*}\n"
      ],
      "text/markdown": [
       "1. '8 : 짝수'\n",
       "2. '7 : 홀수'\n",
       "3. '6 : 짝수'\n",
       "\n",
       "\n"
      ],
      "text/plain": [
       "[1] \"8 : 짝수\" \"7 : 홀수\" \"6 : 짝수\""
      ]
     },
     "metadata": {},
     "output_type": "display_data"
    }
   ],
   "source": [
    "a <- c(8,7,6)\n",
    "\n",
    "ifelse(a %% 2 == 0, paste(a,\": 짝수\"), paste(a,\": 홀수\"))"
   ]
  },
  {
   "cell_type": "code",
   "execution_count": 248,
   "id": "f030117b",
   "metadata": {},
   "outputs": [
    {
     "name": "stdout",
     "output_type": "stream",
     "text": [
      "숫자를 입력하세요 :35\n"
     ]
    },
    {
     "data": {
      "text/html": [
       "'입력하신 숫자는 35이고 홀수 입니다.'"
      ],
      "text/latex": [
       "'입력하신 숫자는 35이고 홀수 입니다.'"
      ],
      "text/markdown": [
       "'입력하신 숫자는 35이고 홀수 입니다.'"
      ],
      "text/plain": [
       "[1] \"입력하신 숫자는 35이고 홀수 입니다.\""
      ]
     },
     "metadata": {},
     "output_type": "display_data"
    }
   ],
   "source": [
    "# 사용자로 부터 data를 입력 받아 입력한 숫자 홀수 인지 짝수 인지 판단하여 출력하기.\n",
    "\n",
    "num1 <-as.integer(readline(\"숫자를 입력하세요 :\"))\n",
    "ifelse(num1 %% 2 == 0,sprintf(\"입력하신 숫자는 %i이고 짝수 입니다.\",num1), sprintf(\"입력하신 숫자는 %i이고 홀수 입니다.\",num1))\n",
    "\n",
    "\n",
    "\n",
    "## 입력하신 숫자는 12이고 짝수 입니다."
   ]
  },
  {
   "cell_type": "code",
   "execution_count": 261,
   "id": "11680604",
   "metadata": {},
   "outputs": [
    {
     "name": "stdout",
     "output_type": "stream",
     "text": [
      "점수를 입력하세요 :90\n",
      "A학점 입니다."
     ]
    }
   ],
   "source": [
    "num1 <-as.integer(readline(\"점수를 입력하세요 :\"))\n",
    "\n",
    "if(num1 >= 90){\n",
    "    cat(\"A학점 입니다.\")\n",
    "}else if(num1 >= 80){\n",
    "    cat(\"B학점 입니다.\")\n",
    "}else if(num1 >= 70){\n",
    "    cat(\"C학점 입니다.\")\n",
    "}else if(num1 >= 60){\n",
    "    cat(\"D학점 입니다.\")\n",
    "}else{\n",
    "    cat(\"F학점 입니다.\")\n",
    "}\n",
    "    \n"
   ]
  },
  {
   "cell_type": "markdown",
   "id": "112fb6b4",
   "metadata": {},
   "source": [
    "---\n",
    "### csv file을 불러서 사용하기"
   ]
  },
  {
   "cell_type": "code",
   "execution_count": 285,
   "id": "801fa749",
   "metadata": {},
   "outputs": [
    {
     "data": {
      "text/html": [
       "<table>\n",
       "<thead><tr><th scope=col>q1</th><th scope=col>q2</th><th scope=col>q3</th><th scope=col>q4</th><th scope=col>q5</th></tr></thead>\n",
       "<tbody>\n",
       "\t<tr><td>2</td><td>4</td><td>4</td><td>2</td><td>2</td></tr>\n",
       "\t<tr><td>1</td><td>2</td><td>2</td><td>2</td><td>2</td></tr>\n",
       "\t<tr><td>2</td><td>3</td><td>4</td><td>3</td><td>3</td></tr>\n",
       "\t<tr><td>3</td><td>5</td><td>5</td><td>3</td><td>3</td></tr>\n",
       "\t<tr><td>3</td><td>2</td><td>4</td><td>4</td><td>4</td></tr>\n",
       "\t<tr><td>4</td><td>3</td><td>3</td><td>4</td><td>2</td></tr>\n",
       "</tbody>\n",
       "</table>\n"
      ],
      "text/latex": [
       "\\begin{tabular}{r|lllll}\n",
       " q1 & q2 & q3 & q4 & q5\\\\\n",
       "\\hline\n",
       "\t 2 & 4 & 4 & 2 & 2\\\\\n",
       "\t 1 & 2 & 2 & 2 & 2\\\\\n",
       "\t 2 & 3 & 4 & 3 & 3\\\\\n",
       "\t 3 & 5 & 5 & 3 & 3\\\\\n",
       "\t 3 & 2 & 4 & 4 & 4\\\\\n",
       "\t 4 & 3 & 3 & 4 & 2\\\\\n",
       "\\end{tabular}\n"
      ],
      "text/markdown": [
       "\n",
       "| q1 | q2 | q3 | q4 | q5 |\n",
       "|---|---|---|---|---|\n",
       "| 2 | 4 | 4 | 2 | 2 |\n",
       "| 1 | 2 | 2 | 2 | 2 |\n",
       "| 2 | 3 | 4 | 3 | 3 |\n",
       "| 3 | 5 | 5 | 3 | 3 |\n",
       "| 3 | 2 | 4 | 4 | 4 |\n",
       "| 4 | 3 | 3 | 4 | 2 |\n",
       "\n"
      ],
      "text/plain": [
       "  q1 q2 q3 q4 q5\n",
       "1 2  4  4  2  2 \n",
       "2 1  2  2  2  2 \n",
       "3 2  3  4  3  3 \n",
       "4 3  5  5  3  3 \n",
       "5 3  2  4  4  4 \n",
       "6 4  3  3  4  2 "
      ]
     },
     "metadata": {},
     "output_type": "display_data"
    }
   ],
   "source": [
    "excel <- read.csv(\"../RFile/excel.csv\")\n",
    "head(excel)"
   ]
  },
  {
   "cell_type": "code",
   "execution_count": 264,
   "id": "48075d3e",
   "metadata": {},
   "outputs": [
    {
     "name": "stdout",
     "output_type": "stream",
     "text": [
      "'data.frame':\t402 obs. of  5 variables:\n",
      " $ q1: int  2 1 2 3 3 4 3 4 4 4 ...\n",
      " $ q2: int  4 2 3 5 2 3 4 2 4 2 ...\n",
      " $ q3: int  4 2 4 5 4 3 4 4 5 4 ...\n",
      " $ q4: int  2 2 3 3 4 4 2 4 3 2 ...\n",
      " $ q5: int  2 2 3 3 4 2 2 4 4 3 ...\n"
     ]
    }
   ],
   "source": [
    "str(excel)"
   ]
  },
  {
   "cell_type": "code",
   "execution_count": 279,
   "id": "bdf9520c",
   "metadata": {},
   "outputs": [
    {
     "data": {
      "text/html": [
       "<ol class=list-inline>\n",
       "\t<li>2</li>\n",
       "\t<li>1</li>\n",
       "\t<li>2</li>\n",
       "\t<li>1.73</li>\n",
       "\t<li>1.73</li>\n",
       "\t<li>2</li>\n",
       "</ol>\n"
      ],
      "text/latex": [
       "\\begin{enumerate*}\n",
       "\\item 2\n",
       "\\item 1\n",
       "\\item 2\n",
       "\\item 1.73\n",
       "\\item 1.73\n",
       "\\item 2\n",
       "\\end{enumerate*}\n"
      ],
      "text/markdown": [
       "1. 2\n",
       "2. 1\n",
       "3. 2\n",
       "4. 1.73\n",
       "5. 1.73\n",
       "6. 2\n",
       "\n",
       "\n"
      ],
      "text/plain": [
       "[1] 2.00 1.00 2.00 1.73 1.73 2.00"
      ]
     },
     "metadata": {},
     "output_type": "display_data"
    }
   ],
   "source": [
    "# q1컬럼에서 Data가 3보다 크거나 같으면 data의 제곱근을 구하고 아니면 원래 Data를 출력하기\n",
    "\n",
    "head(ifelse(excel$q1 >=3,round(sqrt(excel$q1),2),excel$q1))"
   ]
  },
  {
   "cell_type": "code",
   "execution_count": 286,
   "id": "801fd56d",
   "metadata": {},
   "outputs": [],
   "source": [
    "# q1컬럼에서 Data가 3보다 크거나 같으면 data의 제곱근을 구하고 아니면 원래 Data를 q6라는 컬럼을 만들어 추가하기\n",
    "\n",
    "excel$q6 <- ifelse(excel$q1 >=3,sqrt(excel$q1),excel$q1)\n"
   ]
  },
  {
   "cell_type": "code",
   "execution_count": 287,
   "id": "edb64503",
   "metadata": {},
   "outputs": [
    {
     "data": {
      "text/html": [
       "<table>\n",
       "<thead><tr><th scope=col>q1</th><th scope=col>q2</th><th scope=col>q3</th><th scope=col>q4</th><th scope=col>q5</th><th scope=col>q6</th></tr></thead>\n",
       "<tbody>\n",
       "\t<tr><td>2       </td><td>4       </td><td>4       </td><td>2       </td><td>2       </td><td>2.000000</td></tr>\n",
       "\t<tr><td>1       </td><td>2       </td><td>2       </td><td>2       </td><td>2       </td><td>1.000000</td></tr>\n",
       "\t<tr><td>2       </td><td>3       </td><td>4       </td><td>3       </td><td>3       </td><td>2.000000</td></tr>\n",
       "\t<tr><td>3       </td><td>5       </td><td>5       </td><td>3       </td><td>3       </td><td>1.732051</td></tr>\n",
       "\t<tr><td>3       </td><td>2       </td><td>4       </td><td>4       </td><td>4       </td><td>1.732051</td></tr>\n",
       "\t<tr><td>4       </td><td>3       </td><td>3       </td><td>4       </td><td>2       </td><td>2.000000</td></tr>\n",
       "</tbody>\n",
       "</table>\n"
      ],
      "text/latex": [
       "\\begin{tabular}{r|llllll}\n",
       " q1 & q2 & q3 & q4 & q5 & q6\\\\\n",
       "\\hline\n",
       "\t 2        & 4        & 4        & 2        & 2        & 2.000000\\\\\n",
       "\t 1        & 2        & 2        & 2        & 2        & 1.000000\\\\\n",
       "\t 2        & 3        & 4        & 3        & 3        & 2.000000\\\\\n",
       "\t 3        & 5        & 5        & 3        & 3        & 1.732051\\\\\n",
       "\t 3        & 2        & 4        & 4        & 4        & 1.732051\\\\\n",
       "\t 4        & 3        & 3        & 4        & 2        & 2.000000\\\\\n",
       "\\end{tabular}\n"
      ],
      "text/markdown": [
       "\n",
       "| q1 | q2 | q3 | q4 | q5 | q6 |\n",
       "|---|---|---|---|---|---|\n",
       "| 2        | 4        | 4        | 2        | 2        | 2.000000 |\n",
       "| 1        | 2        | 2        | 2        | 2        | 1.000000 |\n",
       "| 2        | 3        | 4        | 3        | 3        | 2.000000 |\n",
       "| 3        | 5        | 5        | 3        | 3        | 1.732051 |\n",
       "| 3        | 2        | 4        | 4        | 4        | 1.732051 |\n",
       "| 4        | 3        | 3        | 4        | 2        | 2.000000 |\n",
       "\n"
      ],
      "text/plain": [
       "  q1 q2 q3 q4 q5 q6      \n",
       "1 2  4  4  2  2  2.000000\n",
       "2 1  2  2  2  2  1.000000\n",
       "3 2  3  4  3  3  2.000000\n",
       "4 3  5  5  3  3  1.732051\n",
       "5 3  2  4  4  4  1.732051\n",
       "6 4  3  3  4  2  2.000000"
      ]
     },
     "metadata": {},
     "output_type": "display_data"
    }
   ],
   "source": [
    "head(excel)"
   ]
  },
  {
   "cell_type": "code",
   "execution_count": null,
   "id": "21b82bd3",
   "metadata": {},
   "outputs": [],
   "source": []
  },
  {
   "cell_type": "code",
   "execution_count": null,
   "id": "ec66dab9",
   "metadata": {},
   "outputs": [],
   "source": []
  },
  {
   "cell_type": "code",
   "execution_count": null,
   "id": "7a5f753f",
   "metadata": {},
   "outputs": [],
   "source": []
  },
  {
   "cell_type": "code",
   "execution_count": null,
   "id": "47c2319d",
   "metadata": {},
   "outputs": [],
   "source": []
  },
  {
   "cell_type": "code",
   "execution_count": null,
   "id": "7327c204",
   "metadata": {},
   "outputs": [],
   "source": []
  },
  {
   "cell_type": "code",
   "execution_count": null,
   "id": "1e48ce1c",
   "metadata": {},
   "outputs": [],
   "source": []
  },
  {
   "cell_type": "code",
   "execution_count": null,
   "id": "644fc567",
   "metadata": {},
   "outputs": [],
   "source": []
  },
  {
   "cell_type": "code",
   "execution_count": null,
   "id": "fd7cb689",
   "metadata": {},
   "outputs": [],
   "source": []
  },
  {
   "cell_type": "code",
   "execution_count": null,
   "id": "cb9cd3ca",
   "metadata": {},
   "outputs": [],
   "source": []
  }
 ],
 "metadata": {
  "kernelspec": {
   "display_name": "R",
   "language": "R",
   "name": "ir"
  },
  "language_info": {
   "codemirror_mode": "r",
   "file_extension": ".r",
   "mimetype": "text/x-r-source",
   "name": "R",
   "pygments_lexer": "r",
   "version": "3.6.1"
  }
 },
 "nbformat": 4,
 "nbformat_minor": 5
}
