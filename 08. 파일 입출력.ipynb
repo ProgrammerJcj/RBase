{
 "cells": [
  {
   "cell_type": "code",
   "execution_count": 1,
   "id": "1d338782",
   "metadata": {},
   "outputs": [],
   "source": [
    "no <- 1:4\n",
    "name <- c(\"Apple\", 'Banana', 'Peach', 'Berry')\n",
    "price <- c(500, 200, 200, 50)\n",
    "qty <- c(5, 4, 3, 2)"
   ]
  },
  {
   "cell_type": "code",
   "execution_count": 4,
   "id": "3bf5a293",
   "metadata": {},
   "outputs": [],
   "source": [
    "# 벡터를 이용하여 데이터 프레임 만들기\n",
    "\n",
    "fruit <- data.frame(번호 = no,제품 = name, 금액 = price, 수량 = qty)"
   ]
  },
  {
   "cell_type": "code",
   "execution_count": 5,
   "id": "b4a4513f",
   "metadata": {},
   "outputs": [
    {
     "data": {
      "text/html": [
       "<table>\n",
       "<thead><tr><th scope=col>번호</th><th scope=col>제품</th><th scope=col>금액</th><th scope=col>수량</th></tr></thead>\n",
       "<tbody>\n",
       "\t<tr><td>1     </td><td>Apple </td><td>500   </td><td>5     </td></tr>\n",
       "\t<tr><td>2     </td><td>Banana</td><td>200   </td><td>4     </td></tr>\n",
       "\t<tr><td>3     </td><td>Peach </td><td>200   </td><td>3     </td></tr>\n",
       "\t<tr><td>4     </td><td>Berry </td><td> 50   </td><td>2     </td></tr>\n",
       "</tbody>\n",
       "</table>\n"
      ],
      "text/latex": [
       "\\begin{tabular}{r|llll}\n",
       " 번호 & 제품 & 금액 & 수량\\\\\n",
       "\\hline\n",
       "\t 1      & Apple  & 500    & 5     \\\\\n",
       "\t 2      & Banana & 200    & 4     \\\\\n",
       "\t 3      & Peach  & 200    & 3     \\\\\n",
       "\t 4      & Berry  &  50    & 2     \\\\\n",
       "\\end{tabular}\n"
      ],
      "text/markdown": [
       "\n",
       "| 번호 | 제품 | 금액 | 수량 |\n",
       "|---|---|---|---|\n",
       "| 1      | Apple  | 500    | 5      |\n",
       "| 2      | Banana | 200    | 4      |\n",
       "| 3      | Peach  | 200    | 3      |\n",
       "| 4      | Berry  |  50    | 2      |\n",
       "\n"
      ],
      "text/plain": [
       "  번호 제품   금액 수량\n",
       "1 1    Apple  500  5   \n",
       "2 2    Banana 200  4   \n",
       "3 3    Peach  200  3   \n",
       "4 4    Berry   50  2   "
      ]
     },
     "metadata": {},
     "output_type": "display_data"
    }
   ],
   "source": [
    "fruit"
   ]
  },
  {
   "cell_type": "code",
   "execution_count": 6,
   "id": "9f570e18",
   "metadata": {},
   "outputs": [
    {
     "data": {
      "text/html": [
       "<ol class=list-inline>\n",
       "\t<li>'fruit'</li>\n",
       "\t<li>'name'</li>\n",
       "\t<li>'no'</li>\n",
       "\t<li>'price'</li>\n",
       "\t<li>'qty'</li>\n",
       "\t<li>'금액'</li>\n",
       "\t<li>'번호'</li>\n",
       "\t<li>'수량'</li>\n",
       "\t<li>'제품'</li>\n",
       "</ol>\n"
      ],
      "text/latex": [
       "\\begin{enumerate*}\n",
       "\\item 'fruit'\n",
       "\\item 'name'\n",
       "\\item 'no'\n",
       "\\item 'price'\n",
       "\\item 'qty'\n",
       "\\item '금액'\n",
       "\\item '번호'\n",
       "\\item '수량'\n",
       "\\item '제품'\n",
       "\\end{enumerate*}\n"
      ],
      "text/markdown": [
       "1. 'fruit'\n",
       "2. 'name'\n",
       "3. 'no'\n",
       "4. 'price'\n",
       "5. 'qty'\n",
       "6. '금액'\n",
       "7. '번호'\n",
       "8. '수량'\n",
       "9. '제품'\n",
       "\n",
       "\n"
      ],
      "text/plain": [
       "[1] \"fruit\" \"name\"  \"no\"    \"price\" \"qty\"   \"금액\"  \"번호\"  \"수량\"  \"제품\" "
      ]
     },
     "metadata": {},
     "output_type": "display_data"
    }
   ],
   "source": [
    "# 현재 메모리에 있는 변수 보기\n",
    "\n",
    "ls()"
   ]
  },
  {
   "cell_type": "code",
   "execution_count": 8,
   "id": "13ee53ea",
   "metadata": {},
   "outputs": [],
   "source": [
    "# 메로리 형태로 파일 보관 (쓰지 말라고 하심)\n",
    "\n",
    "save(no, fruit, name, file = \"../RFile/testFruit.txt\")"
   ]
  },
  {
   "cell_type": "code",
   "execution_count": 18,
   "id": "04357006",
   "metadata": {},
   "outputs": [],
   "source": [
    "rm(no,fruit, name)"
   ]
  },
  {
   "cell_type": "code",
   "execution_count": 10,
   "id": "09130fac",
   "metadata": {},
   "outputs": [
    {
     "data": {
      "text/html": [
       "<ol class=list-inline>\n",
       "\t<li>'price'</li>\n",
       "\t<li>'qty'</li>\n",
       "\t<li>'금액'</li>\n",
       "\t<li>'번호'</li>\n",
       "\t<li>'수량'</li>\n",
       "\t<li>'제품'</li>\n",
       "</ol>\n"
      ],
      "text/latex": [
       "\\begin{enumerate*}\n",
       "\\item 'price'\n",
       "\\item 'qty'\n",
       "\\item '금액'\n",
       "\\item '번호'\n",
       "\\item '수량'\n",
       "\\item '제품'\n",
       "\\end{enumerate*}\n"
      ],
      "text/markdown": [
       "1. 'price'\n",
       "2. 'qty'\n",
       "3. '금액'\n",
       "4. '번호'\n",
       "5. '수량'\n",
       "6. '제품'\n",
       "\n",
       "\n"
      ],
      "text/plain": [
       "[1] \"price\" \"qty\"   \"금액\"  \"번호\"  \"수량\"  \"제품\" "
      ]
     },
     "metadata": {},
     "output_type": "display_data"
    }
   ],
   "source": [
    "ls()"
   ]
  },
  {
   "cell_type": "code",
   "execution_count": 22,
   "id": "8eaf6b92",
   "metadata": {},
   "outputs": [],
   "source": [
    "# 메모리로 불러오기\n",
    "load(\"../RFile/testFruit.txt\")"
   ]
  },
  {
   "cell_type": "code",
   "execution_count": 23,
   "id": "013bf4f1",
   "metadata": {},
   "outputs": [
    {
     "data": {
      "text/html": [
       "<table>\n",
       "<thead><tr><th scope=col>번호</th><th scope=col>제품</th><th scope=col>금액</th><th scope=col>수량</th></tr></thead>\n",
       "<tbody>\n",
       "\t<tr><td>1     </td><td>Apple </td><td>500   </td><td>5     </td></tr>\n",
       "\t<tr><td>2     </td><td>Banana</td><td>200   </td><td>4     </td></tr>\n",
       "\t<tr><td>3     </td><td>Peach </td><td>200   </td><td>3     </td></tr>\n",
       "\t<tr><td>4     </td><td>Berry </td><td> 50   </td><td>2     </td></tr>\n",
       "</tbody>\n",
       "</table>\n"
      ],
      "text/latex": [
       "\\begin{tabular}{r|llll}\n",
       " 번호 & 제품 & 금액 & 수량\\\\\n",
       "\\hline\n",
       "\t 1      & Apple  & 500    & 5     \\\\\n",
       "\t 2      & Banana & 200    & 4     \\\\\n",
       "\t 3      & Peach  & 200    & 3     \\\\\n",
       "\t 4      & Berry  &  50    & 2     \\\\\n",
       "\\end{tabular}\n"
      ],
      "text/markdown": [
       "\n",
       "| 번호 | 제품 | 금액 | 수량 |\n",
       "|---|---|---|---|\n",
       "| 1      | Apple  | 500    | 5      |\n",
       "| 2      | Banana | 200    | 4      |\n",
       "| 3      | Peach  | 200    | 3      |\n",
       "| 4      | Berry  |  50    | 2      |\n",
       "\n"
      ],
      "text/plain": [
       "  번호 제품   금액 수량\n",
       "1 1    Apple  500  5   \n",
       "2 2    Banana 200  4   \n",
       "3 3    Peach  200  3   \n",
       "4 4    Berry   50  2   "
      ]
     },
     "metadata": {},
     "output_type": "display_data"
    }
   ],
   "source": [
    "fruit"
   ]
  },
  {
   "cell_type": "code",
   "execution_count": 17,
   "id": "41ec1274",
   "metadata": {},
   "outputs": [
    {
     "data": {
      "text/html": [
       "<ol class=list-inline>\n",
       "\t<li>'fruit'</li>\n",
       "\t<li>'name'</li>\n",
       "\t<li>'no'</li>\n",
       "\t<li>'price'</li>\n",
       "\t<li>'qty'</li>\n",
       "\t<li>'금액'</li>\n",
       "\t<li>'번호'</li>\n",
       "\t<li>'수량'</li>\n",
       "\t<li>'제품'</li>\n",
       "</ol>\n"
      ],
      "text/latex": [
       "\\begin{enumerate*}\n",
       "\\item 'fruit'\n",
       "\\item 'name'\n",
       "\\item 'no'\n",
       "\\item 'price'\n",
       "\\item 'qty'\n",
       "\\item '금액'\n",
       "\\item '번호'\n",
       "\\item '수량'\n",
       "\\item '제품'\n",
       "\\end{enumerate*}\n"
      ],
      "text/markdown": [
       "1. 'fruit'\n",
       "2. 'name'\n",
       "3. 'no'\n",
       "4. 'price'\n",
       "5. 'qty'\n",
       "6. '금액'\n",
       "7. '번호'\n",
       "8. '수량'\n",
       "9. '제품'\n",
       "\n",
       "\n"
      ],
      "text/plain": [
       "[1] \"fruit\" \"name\"  \"no\"    \"price\" \"qty\"   \"금액\"  \"번호\"  \"수량\"  \"제품\" "
      ]
     },
     "metadata": {},
     "output_type": "display_data"
    }
   ],
   "source": [
    "ls()"
   ]
  },
  {
   "cell_type": "code",
   "execution_count": 24,
   "id": "a4845fa8",
   "metadata": {},
   "outputs": [],
   "source": [
    "# fruit를 csv로 저장하기\n",
    "\n",
    "write.csv(fruit, \"../RFile/fruit.csv\")"
   ]
  },
  {
   "cell_type": "code",
   "execution_count": 27,
   "id": "2c3208b1",
   "metadata": {
    "scrolled": true
   },
   "outputs": [],
   "source": [
    "fruit2 <- read.csv(\"../RFile/fruit.csv\")"
   ]
  },
  {
   "cell_type": "code",
   "execution_count": 29,
   "id": "05e30866",
   "metadata": {},
   "outputs": [],
   "source": [
    "write.csv(fruit2, \"../RFile/fruit2.csv\")"
   ]
  },
  {
   "cell_type": "code",
   "execution_count": 30,
   "id": "97f700bd",
   "metadata": {},
   "outputs": [
    {
     "data": {
      "text/html": [
       "<table>\n",
       "<thead><tr><th scope=col>X.1</th><th scope=col>X</th><th scope=col>번호</th><th scope=col>제품</th><th scope=col>금액</th><th scope=col>수량</th></tr></thead>\n",
       "<tbody>\n",
       "\t<tr><td>1     </td><td>1     </td><td>1     </td><td>Apple </td><td>500   </td><td>5     </td></tr>\n",
       "\t<tr><td>2     </td><td>2     </td><td>2     </td><td>Banana</td><td>200   </td><td>4     </td></tr>\n",
       "\t<tr><td>3     </td><td>3     </td><td>3     </td><td>Peach </td><td>200   </td><td>3     </td></tr>\n",
       "\t<tr><td>4     </td><td>4     </td><td>4     </td><td>Berry </td><td> 50   </td><td>2     </td></tr>\n",
       "</tbody>\n",
       "</table>\n"
      ],
      "text/latex": [
       "\\begin{tabular}{r|llllll}\n",
       " X.1 & X & 번호 & 제품 & 금액 & 수량\\\\\n",
       "\\hline\n",
       "\t 1      & 1      & 1      & Apple  & 500    & 5     \\\\\n",
       "\t 2      & 2      & 2      & Banana & 200    & 4     \\\\\n",
       "\t 3      & 3      & 3      & Peach  & 200    & 3     \\\\\n",
       "\t 4      & 4      & 4      & Berry  &  50    & 2     \\\\\n",
       "\\end{tabular}\n"
      ],
      "text/markdown": [
       "\n",
       "| X.1 | X | 번호 | 제품 | 금액 | 수량 |\n",
       "|---|---|---|---|---|---|\n",
       "| 1      | 1      | 1      | Apple  | 500    | 5      |\n",
       "| 2      | 2      | 2      | Banana | 200    | 4      |\n",
       "| 3      | 3      | 3      | Peach  | 200    | 3      |\n",
       "| 4      | 4      | 4      | Berry  |  50    | 2      |\n",
       "\n"
      ],
      "text/plain": [
       "  X.1 X 번호 제품   금액 수량\n",
       "1 1   1 1    Apple  500  5   \n",
       "2 2   2 2    Banana 200  4   \n",
       "3 3   3 3    Peach  200  3   \n",
       "4 4   4 4    Berry   50  2   "
      ]
     },
     "metadata": {},
     "output_type": "display_data"
    }
   ],
   "source": [
    "read.csv(\"../RFile/fruit2.csv\")"
   ]
  },
  {
   "cell_type": "code",
   "execution_count": 31,
   "id": "83df58b1",
   "metadata": {},
   "outputs": [],
   "source": [
    "# 저장시 주의 사항 : row names가 필요치 않으면 저장하지 말아야 한다.\n",
    "\n",
    "write.csv(fruit, \"../RFile/fruit.csv\", row.names = F)"
   ]
  },
  {
   "cell_type": "code",
   "execution_count": 32,
   "id": "92bce2d9",
   "metadata": {},
   "outputs": [
    {
     "data": {
      "text/html": [
       "<table>\n",
       "<thead><tr><th scope=col>번호</th><th scope=col>제품</th><th scope=col>금액</th><th scope=col>수량</th></tr></thead>\n",
       "<tbody>\n",
       "\t<tr><td>1     </td><td>Apple </td><td>500   </td><td>5     </td></tr>\n",
       "\t<tr><td>2     </td><td>Banana</td><td>200   </td><td>4     </td></tr>\n",
       "\t<tr><td>3     </td><td>Peach </td><td>200   </td><td>3     </td></tr>\n",
       "\t<tr><td>4     </td><td>Berry </td><td> 50   </td><td>2     </td></tr>\n",
       "</tbody>\n",
       "</table>\n"
      ],
      "text/latex": [
       "\\begin{tabular}{r|llll}\n",
       " 번호 & 제품 & 금액 & 수량\\\\\n",
       "\\hline\n",
       "\t 1      & Apple  & 500    & 5     \\\\\n",
       "\t 2      & Banana & 200    & 4     \\\\\n",
       "\t 3      & Peach  & 200    & 3     \\\\\n",
       "\t 4      & Berry  &  50    & 2     \\\\\n",
       "\\end{tabular}\n"
      ],
      "text/markdown": [
       "\n",
       "| 번호 | 제품 | 금액 | 수량 |\n",
       "|---|---|---|---|\n",
       "| 1      | Apple  | 500    | 5      |\n",
       "| 2      | Banana | 200    | 4      |\n",
       "| 3      | Peach  | 200    | 3      |\n",
       "| 4      | Berry  |  50    | 2      |\n",
       "\n"
      ],
      "text/plain": [
       "  번호 제품   금액 수량\n",
       "1 1    Apple  500  5   \n",
       "2 2    Banana 200  4   \n",
       "3 3    Peach  200  3   \n",
       "4 4    Berry   50  2   "
      ]
     },
     "metadata": {},
     "output_type": "display_data"
    }
   ],
   "source": [
    "read.csv(\"../RFile/fruit.csv\")\n"
   ]
  },
  {
   "cell_type": "markdown",
   "id": "b4f6102d",
   "metadata": {},
   "source": [
    "---\n",
    "# 세계 GDP 순위 데이터 정제 및 차트 만들기"
   ]
  },
  {
   "cell_type": "code",
   "execution_count": 33,
   "id": "8d5b1833",
   "metadata": {},
   "outputs": [],
   "source": [
    "# Data Set 불러오기\n",
    "\n",
    "GDP_ranking <- read.csv(\"../RFile/GDP.csv\")\n"
   ]
  },
  {
   "cell_type": "code",
   "execution_count": 37,
   "id": "81236f9e",
   "metadata": {},
   "outputs": [
    {
     "data": {
      "text/html": [
       "<table>\n",
       "<thead><tr><th scope=col>X</th><th scope=col>Gross.domestic.product.2018</th><th scope=col>X.1</th><th scope=col>X.2</th><th scope=col>X.3</th><th scope=col>X.4</th></tr></thead>\n",
       "<tbody>\n",
       "\t<tr><td>              </td><td>              </td><td>NA            </td><td>              </td><td>              </td><td>              </td></tr>\n",
       "\t<tr><td>              </td><td>              </td><td>NA            </td><td>              </td><td>(millions of  </td><td>              </td></tr>\n",
       "\t<tr><td>              </td><td>Ranking       </td><td>NA            </td><td>Economy       </td><td>US dollars)   </td><td>              </td></tr>\n",
       "\t<tr><td>              </td><td>              </td><td>NA            </td><td>              </td><td>              </td><td>              </td></tr>\n",
       "\t<tr><td>USA           </td><td>1             </td><td>NA            </td><td>United States </td><td> 20,494,100   </td><td>              </td></tr>\n",
       "\t<tr><td>CHN           </td><td>2             </td><td>NA            </td><td>China         </td><td> 13,608,152   </td><td>              </td></tr>\n",
       "\t<tr><td>JPN           </td><td>3             </td><td>NA            </td><td>Japan         </td><td> 4,970,916    </td><td>              </td></tr>\n",
       "\t<tr><td>DEU           </td><td>4             </td><td>NA            </td><td>Germany       </td><td> 3,996,759    </td><td>              </td></tr>\n",
       "\t<tr><td>GBR           </td><td>5             </td><td>NA            </td><td>United Kingdom</td><td> 2,825,208    </td><td>              </td></tr>\n",
       "\t<tr><td>FRA           </td><td>6             </td><td>NA            </td><td>France        </td><td> 2,777,535    </td><td>              </td></tr>\n",
       "</tbody>\n",
       "</table>\n"
      ],
      "text/latex": [
       "\\begin{tabular}{r|llllll}\n",
       " X & Gross.domestic.product.2018 & X.1 & X.2 & X.3 & X.4\\\\\n",
       "\\hline\n",
       "\t                &                & NA             &                &                &               \\\\\n",
       "\t                &                & NA             &                & (millions of   &               \\\\\n",
       "\t                & Ranking        & NA             & Economy        & US dollars)    &               \\\\\n",
       "\t                &                & NA             &                &                &               \\\\\n",
       "\t USA            & 1              & NA             & United States  &  20,494,100    &               \\\\\n",
       "\t CHN            & 2              & NA             & China          &  13,608,152    &               \\\\\n",
       "\t JPN            & 3              & NA             & Japan          &  4,970,916     &               \\\\\n",
       "\t DEU            & 4              & NA             & Germany        &  3,996,759     &               \\\\\n",
       "\t GBR            & 5              & NA             & United Kingdom &  2,825,208     &               \\\\\n",
       "\t FRA            & 6              & NA             & France         &  2,777,535     &               \\\\\n",
       "\\end{tabular}\n"
      ],
      "text/markdown": [
       "\n",
       "| X | Gross.domestic.product.2018 | X.1 | X.2 | X.3 | X.4 |\n",
       "|---|---|---|---|---|---|\n",
       "|                |                | NA             |                |                |                |\n",
       "|                |                | NA             |                | (millions of   |                |\n",
       "|                | Ranking        | NA             | Economy        | US dollars)    |                |\n",
       "|                |                | NA             |                |                |                |\n",
       "| USA            | 1              | NA             | United States  |  20,494,100    |                |\n",
       "| CHN            | 2              | NA             | China          |  13,608,152    |                |\n",
       "| JPN            | 3              | NA             | Japan          |  4,970,916     |                |\n",
       "| DEU            | 4              | NA             | Germany        |  3,996,759     |                |\n",
       "| GBR            | 5              | NA             | United Kingdom |  2,825,208     |                |\n",
       "| FRA            | 6              | NA             | France         |  2,777,535     |                |\n",
       "\n"
      ],
      "text/plain": [
       "   X   Gross.domestic.product.2018 X.1 X.2            X.3          X.4\n",
       "1                                  NA                                 \n",
       "2                                  NA                 (millions of    \n",
       "3      Ranking                     NA  Economy        US dollars)     \n",
       "4                                  NA                                 \n",
       "5  USA 1                           NA  United States   20,494,100     \n",
       "6  CHN 2                           NA  China           13,608,152     \n",
       "7  JPN 3                           NA  Japan           4,970,916      \n",
       "8  DEU 4                           NA  Germany         3,996,759      \n",
       "9  GBR 5                           NA  United Kingdom  2,825,208      \n",
       "10 FRA 6                           NA  France          2,777,535      "
      ]
     },
     "metadata": {},
     "output_type": "display_data"
    }
   ],
   "source": [
    "head(GDP_ranking,10)"
   ]
  },
  {
   "cell_type": "code",
   "execution_count": 35,
   "id": "7fd77a6c",
   "metadata": {},
   "outputs": [
    {
     "data": {
      "text/html": [
       "<table>\n",
       "<thead><tr><th></th><th scope=col>X</th><th scope=col>Gross.domestic.product.2018</th><th scope=col>X.1</th><th scope=col>X.2</th><th scope=col>X.3</th><th scope=col>X.4</th></tr></thead>\n",
       "<tbody>\n",
       "\t<tr><th scope=row>323</th><td>  </td><td>  </td><td>NA</td><td>  </td><td>  </td><td>  </td></tr>\n",
       "\t<tr><th scope=row>324</th><td>  </td><td>  </td><td>NA</td><td>  </td><td>  </td><td>  </td></tr>\n",
       "\t<tr><th scope=row>325</th><td>  </td><td>  </td><td>NA</td><td>  </td><td>  </td><td>  </td></tr>\n",
       "\t<tr><th scope=row>326</th><td>  </td><td>  </td><td>NA</td><td>  </td><td>  </td><td>  </td></tr>\n",
       "\t<tr><th scope=row>327</th><td>  </td><td>  </td><td>NA</td><td>  </td><td>  </td><td>  </td></tr>\n",
       "\t<tr><th scope=row>328</th><td>  </td><td>  </td><td>NA</td><td>  </td><td>  </td><td>  </td></tr>\n",
       "</tbody>\n",
       "</table>\n"
      ],
      "text/latex": [
       "\\begin{tabular}{r|llllll}\n",
       "  & X & Gross.domestic.product.2018 & X.1 & X.2 & X.3 & X.4\\\\\n",
       "\\hline\n",
       "\t323 &    &    & NA &    &    &   \\\\\n",
       "\t324 &    &    & NA &    &    &   \\\\\n",
       "\t325 &    &    & NA &    &    &   \\\\\n",
       "\t326 &    &    & NA &    &    &   \\\\\n",
       "\t327 &    &    & NA &    &    &   \\\\\n",
       "\t328 &    &    & NA &    &    &   \\\\\n",
       "\\end{tabular}\n"
      ],
      "text/markdown": [
       "\n",
       "| <!--/--> | X | Gross.domestic.product.2018 | X.1 | X.2 | X.3 | X.4 |\n",
       "|---|---|---|---|---|---|---|\n",
       "| 323 |    |    | NA |    |    |    |\n",
       "| 324 |    |    | NA |    |    |    |\n",
       "| 325 |    |    | NA |    |    |    |\n",
       "| 326 |    |    | NA |    |    |    |\n",
       "| 327 |    |    | NA |    |    |    |\n",
       "| 328 |    |    | NA |    |    |    |\n",
       "\n"
      ],
      "text/plain": [
       "    X Gross.domestic.product.2018 X.1 X.2 X.3 X.4\n",
       "323                               NA             \n",
       "324                               NA             \n",
       "325                               NA             \n",
       "326                               NA             \n",
       "327                               NA             \n",
       "328                               NA             "
      ]
     },
     "metadata": {},
     "output_type": "display_data"
    }
   ],
   "source": [
    "tail(GDP_ranking)"
   ]
  },
  {
   "cell_type": "code",
   "execution_count": 36,
   "id": "429dae2d",
   "metadata": {},
   "outputs": [
    {
     "data": {
      "text/plain": [
       "       X            Gross.domestic.product.2018   X.1         \n",
       "        : 99                      :117          Mode:logical  \n",
       " ABW    :  1   .. Not available.  :  1          NA's:328      \n",
       " AFG    :  1   1                  :  1                        \n",
       " AGO    :  1   10                 :  1                        \n",
       " ALB    :  1   100                :  1                        \n",
       " AND    :  1   101                :  1                        \n",
       " (Other):224   (Other)            :206                        \n",
       "             X.2               X.3           X.4     \n",
       "               : 98              : 97          :320  \n",
       " Afghanistan   :  1    ..        : 12   a      :  2  \n",
       " Albania       :  1    1,624     :  2   b      :  1  \n",
       " Algeria       :  1    1,022     :  1   c      :  1  \n",
       " American Samoa:  1    1,040     :  1   d      :  1  \n",
       " Andorra       :  1    1,042,173 :  1   e      :  1  \n",
       " (Other)       :225   (Other)    :214   (Other):  2  "
      ]
     },
     "metadata": {},
     "output_type": "display_data"
    }
   ],
   "source": [
    "summary(GDP_ranking)"
   ]
  },
  {
   "cell_type": "code",
   "execution_count": 71,
   "id": "baf1b995",
   "metadata": {},
   "outputs": [
    {
     "data": {
      "text/html": [
       "<table>\n",
       "<thead><tr><th></th><th scope=col>X</th><th scope=col>Gross.domestic.product.2018</th><th scope=col>X.2</th><th scope=col>X.3</th></tr></thead>\n",
       "<tbody>\n",
       "\t<tr><th scope=row>5</th><td>USA           </td><td>1             </td><td>United States </td><td> 20,494,100   </td></tr>\n",
       "\t<tr><th scope=row>6</th><td>CHN           </td><td>2             </td><td>China         </td><td> 13,608,152   </td></tr>\n",
       "\t<tr><th scope=row>7</th><td>JPN           </td><td>3             </td><td>Japan         </td><td> 4,970,916    </td></tr>\n",
       "\t<tr><th scope=row>8</th><td>DEU           </td><td>4             </td><td>Germany       </td><td> 3,996,759    </td></tr>\n",
       "\t<tr><th scope=row>9</th><td>GBR           </td><td>5             </td><td>United Kingdom</td><td> 2,825,208    </td></tr>\n",
       "\t<tr><th scope=row>10</th><td>FRA           </td><td>6             </td><td>France        </td><td> 2,777,535    </td></tr>\n",
       "\t<tr><th scope=row>11</th><td>IND           </td><td>7             </td><td>India         </td><td> 2,726,323    </td></tr>\n",
       "\t<tr><th scope=row>12</th><td>ITA           </td><td>8             </td><td>Italy         </td><td> 2,073,902    </td></tr>\n",
       "\t<tr><th scope=row>13</th><td>BRA           </td><td>9             </td><td>Brazil        </td><td> 1,868,626    </td></tr>\n",
       "\t<tr><th scope=row>14</th><td>CAN           </td><td>10            </td><td>Canada        </td><td> 1,712,510    </td></tr>\n",
       "</tbody>\n",
       "</table>\n"
      ],
      "text/latex": [
       "\\begin{tabular}{r|llll}\n",
       "  & X & Gross.domestic.product.2018 & X.2 & X.3\\\\\n",
       "\\hline\n",
       "\t5 & USA            & 1              & United States  &  20,494,100   \\\\\n",
       "\t6 & CHN            & 2              & China          &  13,608,152   \\\\\n",
       "\t7 & JPN            & 3              & Japan          &  4,970,916    \\\\\n",
       "\t8 & DEU            & 4              & Germany        &  3,996,759    \\\\\n",
       "\t9 & GBR            & 5              & United Kingdom &  2,825,208    \\\\\n",
       "\t10 & FRA            & 6              & France         &  2,777,535    \\\\\n",
       "\t11 & IND            & 7              & India          &  2,726,323    \\\\\n",
       "\t12 & ITA            & 8              & Italy          &  2,073,902    \\\\\n",
       "\t13 & BRA            & 9              & Brazil         &  1,868,626    \\\\\n",
       "\t14 & CAN            & 10             & Canada         &  1,712,510    \\\\\n",
       "\\end{tabular}\n"
      ],
      "text/markdown": [
       "\n",
       "| <!--/--> | X | Gross.domestic.product.2018 | X.2 | X.3 |\n",
       "|---|---|---|---|---|\n",
       "| 5 | USA            | 1              | United States  |  20,494,100    |\n",
       "| 6 | CHN            | 2              | China          |  13,608,152    |\n",
       "| 7 | JPN            | 3              | Japan          |  4,970,916     |\n",
       "| 8 | DEU            | 4              | Germany        |  3,996,759     |\n",
       "| 9 | GBR            | 5              | United Kingdom |  2,825,208     |\n",
       "| 10 | FRA            | 6              | France         |  2,777,535     |\n",
       "| 11 | IND            | 7              | India          |  2,726,323     |\n",
       "| 12 | ITA            | 8              | Italy          |  2,073,902     |\n",
       "| 13 | BRA            | 9              | Brazil         |  1,868,626     |\n",
       "| 14 | CAN            | 10             | Canada         |  1,712,510     |\n",
       "\n"
      ],
      "text/plain": [
       "   X   Gross.domestic.product.2018 X.2            X.3         \n",
       "5  USA 1                           United States   20,494,100 \n",
       "6  CHN 2                           China           13,608,152 \n",
       "7  JPN 3                           Japan           4,970,916  \n",
       "8  DEU 4                           Germany         3,996,759  \n",
       "9  GBR 5                           United Kingdom  2,825,208  \n",
       "10 FRA 6                           France          2,777,535  \n",
       "11 IND 7                           India           2,726,323  \n",
       "12 ITA 8                           Italy           2,073,902  \n",
       "13 BRA 9                           Brazil          1,868,626  \n",
       "14 CAN 10                          Canada          1,712,510  "
      ]
     },
     "metadata": {},
     "output_type": "display_data"
    }
   ],
   "source": [
    "#\n",
    "GDP_ranking2 <- GDP_ranking[-c(1:4),-c(3,6)]\n",
    "head(GDP_ranking2,10)"
   ]
  },
  {
   "cell_type": "code",
   "execution_count": 80,
   "id": "9e59caab",
   "metadata": {},
   "outputs": [
    {
     "data": {
      "text/html": [
       "<table>\n",
       "<thead><tr><th></th><th scope=col>X</th><th scope=col>Gross.domestic.product.2018</th><th scope=col>X.2</th><th scope=col>X.3</th></tr></thead>\n",
       "<tbody>\n",
       "\t<tr><th scope=row>5</th><td>USA               </td><td>1                 </td><td>United States     </td><td> 20,494,100       </td></tr>\n",
       "\t<tr><th scope=row>6</th><td>CHN               </td><td>2                 </td><td>China             </td><td> 13,608,152       </td></tr>\n",
       "\t<tr><th scope=row>7</th><td>JPN               </td><td>3                 </td><td>Japan             </td><td> 4,970,916        </td></tr>\n",
       "\t<tr><th scope=row>8</th><td>DEU               </td><td>4                 </td><td>Germany           </td><td> 3,996,759        </td></tr>\n",
       "\t<tr><th scope=row>9</th><td>GBR               </td><td>5                 </td><td>United Kingdom    </td><td> 2,825,208        </td></tr>\n",
       "\t<tr><th scope=row>10</th><td>FRA               </td><td>6                 </td><td>France            </td><td> 2,777,535        </td></tr>\n",
       "\t<tr><th scope=row>11</th><td>IND               </td><td>7                 </td><td>India             </td><td> 2,726,323        </td></tr>\n",
       "\t<tr><th scope=row>12</th><td>ITA               </td><td>8                 </td><td>Italy             </td><td> 2,073,902        </td></tr>\n",
       "\t<tr><th scope=row>13</th><td>BRA               </td><td>9                 </td><td>Brazil            </td><td> 1,868,626        </td></tr>\n",
       "\t<tr><th scope=row>14</th><td>CAN               </td><td>10                </td><td>Canada            </td><td> 1,712,510        </td></tr>\n",
       "\t<tr><th scope=row>15</th><td>RUS               </td><td>11                </td><td>Russian Federation</td><td> 1,657,554        </td></tr>\n",
       "\t<tr><th scope=row>16</th><td>KOR               </td><td>12                </td><td>Korea, Rep.       </td><td> 1,619,424        </td></tr>\n",
       "\t<tr><th scope=row>17</th><td>AUS               </td><td>13                </td><td>Australia         </td><td> 1,432,195        </td></tr>\n",
       "\t<tr><th scope=row>18</th><td>ESP               </td><td>14                </td><td>Spain             </td><td> 1,426,189        </td></tr>\n",
       "\t<tr><th scope=row>19</th><td>MEX               </td><td>15                </td><td>Mexico            </td><td> 1,223,809        </td></tr>\n",
       "</tbody>\n",
       "</table>\n"
      ],
      "text/latex": [
       "\\begin{tabular}{r|llll}\n",
       "  & X & Gross.domestic.product.2018 & X.2 & X.3\\\\\n",
       "\\hline\n",
       "\t5 & USA                & 1                  & United States      &  20,494,100       \\\\\n",
       "\t6 & CHN                & 2                  & China              &  13,608,152       \\\\\n",
       "\t7 & JPN                & 3                  & Japan              &  4,970,916        \\\\\n",
       "\t8 & DEU                & 4                  & Germany            &  3,996,759        \\\\\n",
       "\t9 & GBR                & 5                  & United Kingdom     &  2,825,208        \\\\\n",
       "\t10 & FRA                & 6                  & France             &  2,777,535        \\\\\n",
       "\t11 & IND                & 7                  & India              &  2,726,323        \\\\\n",
       "\t12 & ITA                & 8                  & Italy              &  2,073,902        \\\\\n",
       "\t13 & BRA                & 9                  & Brazil             &  1,868,626        \\\\\n",
       "\t14 & CAN                & 10                 & Canada             &  1,712,510        \\\\\n",
       "\t15 & RUS                & 11                 & Russian Federation &  1,657,554        \\\\\n",
       "\t16 & KOR                & 12                 & Korea, Rep.        &  1,619,424        \\\\\n",
       "\t17 & AUS                & 13                 & Australia          &  1,432,195        \\\\\n",
       "\t18 & ESP                & 14                 & Spain              &  1,426,189        \\\\\n",
       "\t19 & MEX                & 15                 & Mexico             &  1,223,809        \\\\\n",
       "\\end{tabular}\n"
      ],
      "text/markdown": [
       "\n",
       "| <!--/--> | X | Gross.domestic.product.2018 | X.2 | X.3 |\n",
       "|---|---|---|---|---|\n",
       "| 5 | USA                | 1                  | United States      |  20,494,100        |\n",
       "| 6 | CHN                | 2                  | China              |  13,608,152        |\n",
       "| 7 | JPN                | 3                  | Japan              |  4,970,916         |\n",
       "| 8 | DEU                | 4                  | Germany            |  3,996,759         |\n",
       "| 9 | GBR                | 5                  | United Kingdom     |  2,825,208         |\n",
       "| 10 | FRA                | 6                  | France             |  2,777,535         |\n",
       "| 11 | IND                | 7                  | India              |  2,726,323         |\n",
       "| 12 | ITA                | 8                  | Italy              |  2,073,902         |\n",
       "| 13 | BRA                | 9                  | Brazil             |  1,868,626         |\n",
       "| 14 | CAN                | 10                 | Canada             |  1,712,510         |\n",
       "| 15 | RUS                | 11                 | Russian Federation |  1,657,554         |\n",
       "| 16 | KOR                | 12                 | Korea, Rep.        |  1,619,424         |\n",
       "| 17 | AUS                | 13                 | Australia          |  1,432,195         |\n",
       "| 18 | ESP                | 14                 | Spain              |  1,426,189         |\n",
       "| 19 | MEX                | 15                 | Mexico             |  1,223,809         |\n",
       "\n"
      ],
      "text/plain": [
       "   X   Gross.domestic.product.2018 X.2                X.3         \n",
       "5  USA 1                           United States       20,494,100 \n",
       "6  CHN 2                           China               13,608,152 \n",
       "7  JPN 3                           Japan               4,970,916  \n",
       "8  DEU 4                           Germany             3,996,759  \n",
       "9  GBR 5                           United Kingdom      2,825,208  \n",
       "10 FRA 6                           France              2,777,535  \n",
       "11 IND 7                           India               2,726,323  \n",
       "12 ITA 8                           Italy               2,073,902  \n",
       "13 BRA 9                           Brazil              1,868,626  \n",
       "14 CAN 10                          Canada              1,712,510  \n",
       "15 RUS 11                          Russian Federation  1,657,554  \n",
       "16 KOR 12                          Korea, Rep.         1,619,424  \n",
       "17 AUS 13                          Australia           1,432,195  \n",
       "18 ESP 14                          Spain               1,426,189  \n",
       "19 MEX 15                          Mexico              1,223,809  "
      ]
     },
     "metadata": {},
     "output_type": "display_data"
    }
   ],
   "source": [
    "# 상위 15개국만 선별한다.\n",
    "\n",
    "\n",
    "GDP_ranking15 <- head(GDP_ranking2,15)\n",
    "GDP_ranking15\n"
   ]
  },
  {
   "cell_type": "code",
   "execution_count": 90,
   "id": "4278e393",
   "metadata": {},
   "outputs": [
    {
     "data": {
      "text/html": [
       "<table>\n",
       "<thead><tr><th></th><th scope=col>Code</th><th scope=col>Ranking</th><th scope=col>Nation</th><th scope=col>GDP</th></tr></thead>\n",
       "<tbody>\n",
       "\t<tr><th scope=row>5</th><td>USA               </td><td>1                 </td><td>United States     </td><td> 20,494,100       </td></tr>\n",
       "\t<tr><th scope=row>6</th><td>CHN               </td><td>2                 </td><td>China             </td><td> 13,608,152       </td></tr>\n",
       "\t<tr><th scope=row>7</th><td>JPN               </td><td>3                 </td><td>Japan             </td><td> 4,970,916        </td></tr>\n",
       "\t<tr><th scope=row>8</th><td>DEU               </td><td>4                 </td><td>Germany           </td><td> 3,996,759        </td></tr>\n",
       "\t<tr><th scope=row>9</th><td>GBR               </td><td>5                 </td><td>United Kingdom    </td><td> 2,825,208        </td></tr>\n",
       "\t<tr><th scope=row>10</th><td>FRA               </td><td>6                 </td><td>France            </td><td> 2,777,535        </td></tr>\n",
       "\t<tr><th scope=row>11</th><td>IND               </td><td>7                 </td><td>India             </td><td> 2,726,323        </td></tr>\n",
       "\t<tr><th scope=row>12</th><td>ITA               </td><td>8                 </td><td>Italy             </td><td> 2,073,902        </td></tr>\n",
       "\t<tr><th scope=row>13</th><td>BRA               </td><td>9                 </td><td>Brazil            </td><td> 1,868,626        </td></tr>\n",
       "\t<tr><th scope=row>14</th><td>CAN               </td><td>10                </td><td>Canada            </td><td> 1,712,510        </td></tr>\n",
       "\t<tr><th scope=row>15</th><td>RUS               </td><td>11                </td><td>Russian Federation</td><td> 1,657,554        </td></tr>\n",
       "\t<tr><th scope=row>16</th><td>KOR               </td><td>12                </td><td>Korea, Rep.       </td><td> 1,619,424        </td></tr>\n",
       "\t<tr><th scope=row>17</th><td>AUS               </td><td>13                </td><td>Australia         </td><td> 1,432,195        </td></tr>\n",
       "\t<tr><th scope=row>18</th><td>ESP               </td><td>14                </td><td>Spain             </td><td> 1,426,189        </td></tr>\n",
       "\t<tr><th scope=row>19</th><td>MEX               </td><td>15                </td><td>Mexico            </td><td> 1,223,809        </td></tr>\n",
       "</tbody>\n",
       "</table>\n"
      ],
      "text/latex": [
       "\\begin{tabular}{r|llll}\n",
       "  & Code & Ranking & Nation & GDP\\\\\n",
       "\\hline\n",
       "\t5 & USA                & 1                  & United States      &  20,494,100       \\\\\n",
       "\t6 & CHN                & 2                  & China              &  13,608,152       \\\\\n",
       "\t7 & JPN                & 3                  & Japan              &  4,970,916        \\\\\n",
       "\t8 & DEU                & 4                  & Germany            &  3,996,759        \\\\\n",
       "\t9 & GBR                & 5                  & United Kingdom     &  2,825,208        \\\\\n",
       "\t10 & FRA                & 6                  & France             &  2,777,535        \\\\\n",
       "\t11 & IND                & 7                  & India              &  2,726,323        \\\\\n",
       "\t12 & ITA                & 8                  & Italy              &  2,073,902        \\\\\n",
       "\t13 & BRA                & 9                  & Brazil             &  1,868,626        \\\\\n",
       "\t14 & CAN                & 10                 & Canada             &  1,712,510        \\\\\n",
       "\t15 & RUS                & 11                 & Russian Federation &  1,657,554        \\\\\n",
       "\t16 & KOR                & 12                 & Korea, Rep.        &  1,619,424        \\\\\n",
       "\t17 & AUS                & 13                 & Australia          &  1,432,195        \\\\\n",
       "\t18 & ESP                & 14                 & Spain              &  1,426,189        \\\\\n",
       "\t19 & MEX                & 15                 & Mexico             &  1,223,809        \\\\\n",
       "\\end{tabular}\n"
      ],
      "text/markdown": [
       "\n",
       "| <!--/--> | Code | Ranking | Nation | GDP |\n",
       "|---|---|---|---|---|\n",
       "| 5 | USA                | 1                  | United States      |  20,494,100        |\n",
       "| 6 | CHN                | 2                  | China              |  13,608,152        |\n",
       "| 7 | JPN                | 3                  | Japan              |  4,970,916         |\n",
       "| 8 | DEU                | 4                  | Germany            |  3,996,759         |\n",
       "| 9 | GBR                | 5                  | United Kingdom     |  2,825,208         |\n",
       "| 10 | FRA                | 6                  | France             |  2,777,535         |\n",
       "| 11 | IND                | 7                  | India              |  2,726,323         |\n",
       "| 12 | ITA                | 8                  | Italy              |  2,073,902         |\n",
       "| 13 | BRA                | 9                  | Brazil             |  1,868,626         |\n",
       "| 14 | CAN                | 10                 | Canada             |  1,712,510         |\n",
       "| 15 | RUS                | 11                 | Russian Federation |  1,657,554         |\n",
       "| 16 | KOR                | 12                 | Korea, Rep.        |  1,619,424         |\n",
       "| 17 | AUS                | 13                 | Australia          |  1,432,195         |\n",
       "| 18 | ESP                | 14                 | Spain              |  1,426,189         |\n",
       "| 19 | MEX                | 15                 | Mexico             |  1,223,809         |\n",
       "\n"
      ],
      "text/plain": [
       "   Code Ranking Nation             GDP         \n",
       "5  USA  1       United States       20,494,100 \n",
       "6  CHN  2       China               13,608,152 \n",
       "7  JPN  3       Japan               4,970,916  \n",
       "8  DEU  4       Germany             3,996,759  \n",
       "9  GBR  5       United Kingdom      2,825,208  \n",
       "10 FRA  6       France              2,777,535  \n",
       "11 IND  7       India               2,726,323  \n",
       "12 ITA  8       Italy               2,073,902  \n",
       "13 BRA  9       Brazil              1,868,626  \n",
       "14 CAN  10      Canada              1,712,510  \n",
       "15 RUS  11      Russian Federation  1,657,554  \n",
       "16 KOR  12      Korea, Rep.         1,619,424  \n",
       "17 AUS  13      Australia           1,432,195  \n",
       "18 ESP  14      Spain               1,426,189  \n",
       "19 MEX  15      Mexico              1,223,809  "
      ]
     },
     "metadata": {},
     "output_type": "display_data"
    }
   ],
   "source": [
    "# 컬럼 이름 정의 하기\n",
    "colnames(GDP_ranking15)<- c(\"Code\",\"Ranking\",\"Nation\",\"GDP\")\n",
    "GDP_ranking15"
   ]
  },
  {
   "cell_type": "code",
   "execution_count": 91,
   "id": "415316ea",
   "metadata": {},
   "outputs": [
    {
     "name": "stdout",
     "output_type": "stream",
     "text": [
      "   Code Ranking             Nation          GDP\n",
      "1   USA       1      United States  20,494,100 \n",
      "2   CHN       2              China  13,608,152 \n",
      "3   JPN       3              Japan   4,970,916 \n",
      "4   DEU       4            Germany   3,996,759 \n",
      "5   GBR       5     United Kingdom   2,825,208 \n",
      "6   FRA       6             France   2,777,535 \n",
      "7   IND       7              India   2,726,323 \n",
      "8   ITA       8              Italy   2,073,902 \n",
      "9   BRA       9             Brazil   1,868,626 \n",
      "10  CAN      10             Canada   1,712,510 \n",
      "11  RUS      11 Russian Federation   1,657,554 \n",
      "12  KOR      12        Korea, Rep.   1,619,424 \n",
      "13  AUS      13          Australia   1,432,195 \n",
      "14  ESP      14              Spain   1,426,189 \n",
      "15  MEX      15             Mexico   1,223,809 \n"
     ]
    }
   ],
   "source": [
    "# rownames 새로 구성하기\n",
    "rownames(GDP_ranking15)<-c()\n",
    "print(GDP_ranking15)"
   ]
  },
  {
   "cell_type": "code",
   "execution_count": 92,
   "id": "330eea2b",
   "metadata": {},
   "outputs": [
    {
     "data": {
      "text/html": [
       "<table>\n",
       "<thead><tr><th scope=col>Code</th><th scope=col>Ranking</th><th scope=col>Nation</th><th scope=col>GDP</th></tr></thead>\n",
       "<tbody>\n",
       "\t<tr><td>USA               </td><td>1                 </td><td>United States     </td><td> 20,494,100       </td></tr>\n",
       "\t<tr><td>CHN               </td><td>2                 </td><td>China             </td><td> 13,608,152       </td></tr>\n",
       "\t<tr><td>JPN               </td><td>3                 </td><td>Japan             </td><td> 4,970,916        </td></tr>\n",
       "\t<tr><td>DEU               </td><td>4                 </td><td>Germany           </td><td> 3,996,759        </td></tr>\n",
       "\t<tr><td>GBR               </td><td>5                 </td><td>United Kingdom    </td><td> 2,825,208        </td></tr>\n",
       "\t<tr><td>FRA               </td><td>6                 </td><td>France            </td><td> 2,777,535        </td></tr>\n",
       "\t<tr><td>IND               </td><td>7                 </td><td>India             </td><td> 2,726,323        </td></tr>\n",
       "\t<tr><td>ITA               </td><td>8                 </td><td>Italy             </td><td> 2,073,902        </td></tr>\n",
       "\t<tr><td>BRA               </td><td>9                 </td><td>Brazil            </td><td> 1,868,626        </td></tr>\n",
       "\t<tr><td>CAN               </td><td>10                </td><td>Canada            </td><td> 1,712,510        </td></tr>\n",
       "\t<tr><td>RUS               </td><td>11                </td><td>Russian Federation</td><td> 1,657,554        </td></tr>\n",
       "\t<tr><td>KOR               </td><td>12                </td><td>Korea, Rep.       </td><td> 1,619,424        </td></tr>\n",
       "\t<tr><td>AUS               </td><td>13                </td><td>Australia         </td><td> 1,432,195        </td></tr>\n",
       "\t<tr><td>ESP               </td><td>14                </td><td>Spain             </td><td> 1,426,189        </td></tr>\n",
       "\t<tr><td>MEX               </td><td>15                </td><td>Mexico            </td><td> 1,223,809        </td></tr>\n",
       "</tbody>\n",
       "</table>\n"
      ],
      "text/latex": [
       "\\begin{tabular}{r|llll}\n",
       " Code & Ranking & Nation & GDP\\\\\n",
       "\\hline\n",
       "\t USA                & 1                  & United States      &  20,494,100       \\\\\n",
       "\t CHN                & 2                  & China              &  13,608,152       \\\\\n",
       "\t JPN                & 3                  & Japan              &  4,970,916        \\\\\n",
       "\t DEU                & 4                  & Germany            &  3,996,759        \\\\\n",
       "\t GBR                & 5                  & United Kingdom     &  2,825,208        \\\\\n",
       "\t FRA                & 6                  & France             &  2,777,535        \\\\\n",
       "\t IND                & 7                  & India              &  2,726,323        \\\\\n",
       "\t ITA                & 8                  & Italy              &  2,073,902        \\\\\n",
       "\t BRA                & 9                  & Brazil             &  1,868,626        \\\\\n",
       "\t CAN                & 10                 & Canada             &  1,712,510        \\\\\n",
       "\t RUS                & 11                 & Russian Federation &  1,657,554        \\\\\n",
       "\t KOR                & 12                 & Korea, Rep.        &  1,619,424        \\\\\n",
       "\t AUS                & 13                 & Australia          &  1,432,195        \\\\\n",
       "\t ESP                & 14                 & Spain              &  1,426,189        \\\\\n",
       "\t MEX                & 15                 & Mexico             &  1,223,809        \\\\\n",
       "\\end{tabular}\n"
      ],
      "text/markdown": [
       "\n",
       "| Code | Ranking | Nation | GDP |\n",
       "|---|---|---|---|\n",
       "| USA                | 1                  | United States      |  20,494,100        |\n",
       "| CHN                | 2                  | China              |  13,608,152        |\n",
       "| JPN                | 3                  | Japan              |  4,970,916         |\n",
       "| DEU                | 4                  | Germany            |  3,996,759         |\n",
       "| GBR                | 5                  | United Kingdom     |  2,825,208         |\n",
       "| FRA                | 6                  | France             |  2,777,535         |\n",
       "| IND                | 7                  | India              |  2,726,323         |\n",
       "| ITA                | 8                  | Italy              |  2,073,902         |\n",
       "| BRA                | 9                  | Brazil             |  1,868,626         |\n",
       "| CAN                | 10                 | Canada             |  1,712,510         |\n",
       "| RUS                | 11                 | Russian Federation |  1,657,554         |\n",
       "| KOR                | 12                 | Korea, Rep.        |  1,619,424         |\n",
       "| AUS                | 13                 | Australia          |  1,432,195         |\n",
       "| ESP                | 14                 | Spain              |  1,426,189         |\n",
       "| MEX                | 15                 | Mexico             |  1,223,809         |\n",
       "\n"
      ],
      "text/plain": [
       "   Code Ranking Nation             GDP         \n",
       "1  USA  1       United States       20,494,100 \n",
       "2  CHN  2       China               13,608,152 \n",
       "3  JPN  3       Japan               4,970,916  \n",
       "4  DEU  4       Germany             3,996,759  \n",
       "5  GBR  5       United Kingdom      2,825,208  \n",
       "6  FRA  6       France              2,777,535  \n",
       "7  IND  7       India               2,726,323  \n",
       "8  ITA  8       Italy               2,073,902  \n",
       "9  BRA  9       Brazil              1,868,626  \n",
       "10 CAN  10      Canada              1,712,510  \n",
       "11 RUS  11      Russian Federation  1,657,554  \n",
       "12 KOR  12      Korea, Rep.         1,619,424  \n",
       "13 AUS  13      Australia           1,432,195  \n",
       "14 ESP  14      Spain               1,426,189  \n",
       "15 MEX  15      Mexico              1,223,809  "
      ]
     },
     "metadata": {},
     "output_type": "display_data"
    }
   ],
   "source": [
    "GDP_ranking15"
   ]
  },
  {
   "cell_type": "code",
   "execution_count": null,
   "id": "64cae542",
   "metadata": {},
   "outputs": [],
   "source": [
    "# 구조 확인"
   ]
  },
  {
   "cell_type": "code",
   "execution_count": 93,
   "id": "d1b2a8d3",
   "metadata": {},
   "outputs": [
    {
     "name": "stdout",
     "output_type": "stream",
     "text": [
      "'data.frame':\t15 obs. of  4 variables:\n",
      " $ Code   : Factor w/ 230 levels \"\",\"ABW\",\"AFG\",..: 216 38 103 52 72 68 94 100 28 34 ...\n",
      " $ Ranking: Factor w/ 212 levels \"\",\".. Not available.  \",..: 3 114 131 142 153 164 175 186 197 4 ...\n",
      " $ Nation : Factor w/ 231 levels \"\",\"Afghanistan\",..: 219 43 104 78 218 73 95 102 28 37 ...\n",
      " $ GDP    : Factor w/ 220 levels \"\",\" .. \",\" 1,022 \",..: 78 44 137 113 77 75 74 67 20 19 ...\n"
     ]
    }
   ],
   "source": [
    "str(GDP_ranking15)"
   ]
  },
  {
   "cell_type": "code",
   "execution_count": 95,
   "id": "d7c7b358",
   "metadata": {},
   "outputs": [
    {
     "data": {
      "text/plain": [
       "      Code      Ranking        Nation           GDP   \n",
       " AUS    :1   1      :1   Australia:1    1,223,809 :1  \n",
       " BRA    :1   10     :1   Brazil   :1    1,426,189 :1  \n",
       " CAN    :1   11     :1   Canada   :1    1,432,195 :1  \n",
       " CHN    :1   12     :1   China    :1    1,619,424 :1  \n",
       " DEU    :1   13     :1   France   :1    1,657,554 :1  \n",
       " ESP    :1   14     :1   Germany  :1    1,712,510 :1  \n",
       " (Other):9   (Other):9   (Other)  :9   (Other)    :9  "
      ]
     },
     "metadata": {},
     "output_type": "display_data"
    }
   ],
   "source": [
    "summary(GDP_ranking15)"
   ]
  },
  {
   "cell_type": "code",
   "execution_count": null,
   "id": "a183ee75",
   "metadata": {},
   "outputs": [],
   "source": [
    "# Factor의 갯수가 15개가 정상일텐데 이상하다. -> 재구성\n",
    "\n",
    "GDP_ranking15$Code <- factor(GDP_ranking15$Code)"
   ]
  },
  {
   "cell_type": "code",
   "execution_count": 112,
   "id": "ba4e4cc6",
   "metadata": {},
   "outputs": [],
   "source": [
    "# for문을 이용한 factor 조정\n",
    "\n",
    "for(i in 1:ncol(GDP_ranking15)){\n",
    "     GDP_ranking15[,i] = factor(GDP_ranking15[,i])\n",
    "    \n",
    "}\n"
   ]
  },
  {
   "cell_type": "code",
   "execution_count": 114,
   "id": "4f3dbeb7",
   "metadata": {},
   "outputs": [
    {
     "name": "stdout",
     "output_type": "stream",
     "text": [
      "'data.frame':\t15 obs. of  4 variables:\n",
      " $ Code   : Factor w/ 15 levels \"AUS\",\"BRA\",\"CAN\",..: 15 4 11 5 8 7 9 10 2 3 ...\n",
      " $ Ranking: Factor w/ 15 levels \"1\",\"10\",\"11\",..: 1 8 9 10 11 12 13 14 15 2 ...\n",
      " $ Nation : Factor w/ 15 levels \"Australia\",\"Brazil\",..: 15 4 9 6 14 5 7 8 2 3 ...\n",
      " $ GDP    : Factor w/ 15 levels \" 1,223,809 \",..: 13 8 15 14 12 11 10 9 7 6 ...\n"
     ]
    }
   ],
   "source": [
    "str(GDP_ranking15)"
   ]
  },
  {
   "cell_type": "code",
   "execution_count": 123,
   "id": "3332bec8",
   "metadata": {},
   "outputs": [],
   "source": [
    "GDP_ranking15$GDP<-as.numeric(str_replace_all(GDP_ranking15$GDP,\",\",\"\"))"
   ]
  },
  {
   "cell_type": "code",
   "execution_count": 125,
   "id": "a9a05b9c",
   "metadata": {},
   "outputs": [
    {
     "data": {
      "text/html": [
       "<table>\n",
       "<thead><tr><th scope=col>Code</th><th scope=col>Ranking</th><th scope=col>Nation</th><th scope=col>GDP</th></tr></thead>\n",
       "<tbody>\n",
       "\t<tr><td>USA               </td><td>1                 </td><td>United States     </td><td>20494100          </td></tr>\n",
       "\t<tr><td>CHN               </td><td>2                 </td><td>China             </td><td>13608152          </td></tr>\n",
       "\t<tr><td>JPN               </td><td>3                 </td><td>Japan             </td><td> 4970916          </td></tr>\n",
       "\t<tr><td>DEU               </td><td>4                 </td><td>Germany           </td><td> 3996759          </td></tr>\n",
       "\t<tr><td>GBR               </td><td>5                 </td><td>United Kingdom    </td><td> 2825208          </td></tr>\n",
       "\t<tr><td>FRA               </td><td>6                 </td><td>France            </td><td> 2777535          </td></tr>\n",
       "\t<tr><td>IND               </td><td>7                 </td><td>India             </td><td> 2726323          </td></tr>\n",
       "\t<tr><td>ITA               </td><td>8                 </td><td>Italy             </td><td> 2073902          </td></tr>\n",
       "\t<tr><td>BRA               </td><td>9                 </td><td>Brazil            </td><td> 1868626          </td></tr>\n",
       "\t<tr><td>CAN               </td><td>10                </td><td>Canada            </td><td> 1712510          </td></tr>\n",
       "\t<tr><td>RUS               </td><td>11                </td><td>Russian Federation</td><td> 1657554          </td></tr>\n",
       "\t<tr><td>KOR               </td><td>12                </td><td>Korea, Rep.       </td><td> 1619424          </td></tr>\n",
       "\t<tr><td>AUS               </td><td>13                </td><td>Australia         </td><td> 1432195          </td></tr>\n",
       "\t<tr><td>ESP               </td><td>14                </td><td>Spain             </td><td> 1426189          </td></tr>\n",
       "\t<tr><td>MEX               </td><td>15                </td><td>Mexico            </td><td> 1223809          </td></tr>\n",
       "</tbody>\n",
       "</table>\n"
      ],
      "text/latex": [
       "\\begin{tabular}{r|llll}\n",
       " Code & Ranking & Nation & GDP\\\\\n",
       "\\hline\n",
       "\t USA                & 1                  & United States      & 20494100          \\\\\n",
       "\t CHN                & 2                  & China              & 13608152          \\\\\n",
       "\t JPN                & 3                  & Japan              &  4970916          \\\\\n",
       "\t DEU                & 4                  & Germany            &  3996759          \\\\\n",
       "\t GBR                & 5                  & United Kingdom     &  2825208          \\\\\n",
       "\t FRA                & 6                  & France             &  2777535          \\\\\n",
       "\t IND                & 7                  & India              &  2726323          \\\\\n",
       "\t ITA                & 8                  & Italy              &  2073902          \\\\\n",
       "\t BRA                & 9                  & Brazil             &  1868626          \\\\\n",
       "\t CAN                & 10                 & Canada             &  1712510          \\\\\n",
       "\t RUS                & 11                 & Russian Federation &  1657554          \\\\\n",
       "\t KOR                & 12                 & Korea, Rep.        &  1619424          \\\\\n",
       "\t AUS                & 13                 & Australia          &  1432195          \\\\\n",
       "\t ESP                & 14                 & Spain              &  1426189          \\\\\n",
       "\t MEX                & 15                 & Mexico             &  1223809          \\\\\n",
       "\\end{tabular}\n"
      ],
      "text/markdown": [
       "\n",
       "| Code | Ranking | Nation | GDP |\n",
       "|---|---|---|---|\n",
       "| USA                | 1                  | United States      | 20494100           |\n",
       "| CHN                | 2                  | China              | 13608152           |\n",
       "| JPN                | 3                  | Japan              |  4970916           |\n",
       "| DEU                | 4                  | Germany            |  3996759           |\n",
       "| GBR                | 5                  | United Kingdom     |  2825208           |\n",
       "| FRA                | 6                  | France             |  2777535           |\n",
       "| IND                | 7                  | India              |  2726323           |\n",
       "| ITA                | 8                  | Italy              |  2073902           |\n",
       "| BRA                | 9                  | Brazil             |  1868626           |\n",
       "| CAN                | 10                 | Canada             |  1712510           |\n",
       "| RUS                | 11                 | Russian Federation |  1657554           |\n",
       "| KOR                | 12                 | Korea, Rep.        |  1619424           |\n",
       "| AUS                | 13                 | Australia          |  1432195           |\n",
       "| ESP                | 14                 | Spain              |  1426189           |\n",
       "| MEX                | 15                 | Mexico             |  1223809           |\n",
       "\n"
      ],
      "text/plain": [
       "   Code Ranking Nation             GDP     \n",
       "1  USA  1       United States      20494100\n",
       "2  CHN  2       China              13608152\n",
       "3  JPN  3       Japan               4970916\n",
       "4  DEU  4       Germany             3996759\n",
       "5  GBR  5       United Kingdom      2825208\n",
       "6  FRA  6       France              2777535\n",
       "7  IND  7       India               2726323\n",
       "8  ITA  8       Italy               2073902\n",
       "9  BRA  9       Brazil              1868626\n",
       "10 CAN  10      Canada              1712510\n",
       "11 RUS  11      Russian Federation  1657554\n",
       "12 KOR  12      Korea, Rep.         1619424\n",
       "13 AUS  13      Australia           1432195\n",
       "14 ESP  14      Spain               1426189\n",
       "15 MEX  15      Mexico              1223809"
      ]
     },
     "metadata": {},
     "output_type": "display_data"
    }
   ],
   "source": [
    "GDP_ranking15"
   ]
  },
  {
   "cell_type": "code",
   "execution_count": 176,
   "id": "bc6daf9a",
   "metadata": {},
   "outputs": [
    {
     "data": {
      "image/png": "[encoded data removed]",
      "text/plain": [
       "Plot with title “2018 GDP 세계 15위 국가”"
      ]
     },
     "metadata": {},
     "output_type": "display_data"
    }
   ],
   "source": [
    "options(scipen = 100)\n",
    "options(warn = -1)\n",
    "par(family = \"AppleGothic\")\n",
    "barplot(GDP_ranking15$GDP/1000, # GDP상위 15개국 Data\n",
    "        main = \"2018 GDP 세계 15위 국가\",\n",
    "        xlab = \"국가(Nation)\",\n",
    "        ylab = \"단위(천달러)\",\n",
    "        names = GDP_ranking15$Code,\n",
    "        \n",
    "        cex.names = 0.7,\n",
    "#         col = c('red','blue','green')\n",
    "        col = ifelse(GDP_ranking15$Code == 'KOR',\"red\",\"blue\"),\n",
    "        ylim = c(0, 25000)\n",
    "       )"
   ]
  },
  {
   "cell_type": "code",
   "execution_count": 149,
   "id": "67f53217",
   "metadata": {},
   "outputs": [
    {
     "data": {
      "text/html": [
       "<ol class=list-inline>\n",
       "\t<li>USA</li>\n",
       "\t<li>CHN</li>\n",
       "\t<li>JPN</li>\n",
       "\t<li>DEU</li>\n",
       "\t<li>GBR</li>\n",
       "\t<li>FRA</li>\n",
       "\t<li>IND</li>\n",
       "\t<li>ITA</li>\n",
       "\t<li>BRA</li>\n",
       "\t<li>CAN</li>\n",
       "\t<li>RUS</li>\n",
       "\t<li>KOR</li>\n",
       "\t<li>AUS</li>\n",
       "\t<li>ESP</li>\n",
       "\t<li>MEX</li>\n",
       "</ol>\n",
       "\n",
       "<details>\n",
       "\t<summary style=display:list-item;cursor:pointer>\n",
       "\t\t<strong>Levels</strong>:\n",
       "\t</summary>\n",
       "\t<ol class=list-inline>\n",
       "\t\t<li>'AUS'</li>\n",
       "\t\t<li>'BRA'</li>\n",
       "\t\t<li>'CAN'</li>\n",
       "\t\t<li>'CHN'</li>\n",
       "\t\t<li>'DEU'</li>\n",
       "\t\t<li>'ESP'</li>\n",
       "\t\t<li>'FRA'</li>\n",
       "\t\t<li>'GBR'</li>\n",
       "\t\t<li>'IND'</li>\n",
       "\t\t<li>'ITA'</li>\n",
       "\t\t<li>'JPN'</li>\n",
       "\t\t<li>'KOR'</li>\n",
       "\t\t<li>'MEX'</li>\n",
       "\t\t<li>'RUS'</li>\n",
       "\t\t<li>'USA'</li>\n",
       "\t</ol>\n",
       "</details>"
      ],
      "text/latex": [
       "\\begin{enumerate*}\n",
       "\\item USA\n",
       "\\item CHN\n",
       "\\item JPN\n",
       "\\item DEU\n",
       "\\item GBR\n",
       "\\item FRA\n",
       "\\item IND\n",
       "\\item ITA\n",
       "\\item BRA\n",
       "\\item CAN\n",
       "\\item RUS\n",
       "\\item KOR\n",
       "\\item AUS\n",
       "\\item ESP\n",
       "\\item MEX\n",
       "\\end{enumerate*}\n",
       "\n",
       "\\emph{Levels}: \\begin{enumerate*}\n",
       "\\item 'AUS'\n",
       "\\item 'BRA'\n",
       "\\item 'CAN'\n",
       "\\item 'CHN'\n",
       "\\item 'DEU'\n",
       "\\item 'ESP'\n",
       "\\item 'FRA'\n",
       "\\item 'GBR'\n",
       "\\item 'IND'\n",
       "\\item 'ITA'\n",
       "\\item 'JPN'\n",
       "\\item 'KOR'\n",
       "\\item 'MEX'\n",
       "\\item 'RUS'\n",
       "\\item 'USA'\n",
       "\\end{enumerate*}\n"
      ],
      "text/markdown": [
       "1. USA\n",
       "2. CHN\n",
       "3. JPN\n",
       "4. DEU\n",
       "5. GBR\n",
       "6. FRA\n",
       "7. IND\n",
       "8. ITA\n",
       "9. BRA\n",
       "10. CAN\n",
       "11. RUS\n",
       "12. KOR\n",
       "13. AUS\n",
       "14. ESP\n",
       "15. MEX\n",
       "\n",
       "\n",
       "\n",
       "**Levels**: 1. 'AUS'\n",
       "2. 'BRA'\n",
       "3. 'CAN'\n",
       "4. 'CHN'\n",
       "5. 'DEU'\n",
       "6. 'ESP'\n",
       "7. 'FRA'\n",
       "8. 'GBR'\n",
       "9. 'IND'\n",
       "10. 'ITA'\n",
       "11. 'JPN'\n",
       "12. 'KOR'\n",
       "13. 'MEX'\n",
       "14. 'RUS'\n",
       "15. 'USA'\n",
       "\n",
       "\n"
      ],
      "text/plain": [
       " [1] USA CHN JPN DEU GBR FRA IND ITA BRA CAN RUS KOR AUS ESP MEX\n",
       "Levels: AUS BRA CAN CHN DEU ESP FRA GBR IND ITA JPN KOR MEX RUS USA"
      ]
     },
     "metadata": {},
     "output_type": "display_data"
    }
   ],
   "source": [
    "GDP_ranking15$Code"
   ]
  },
  {
   "cell_type": "code",
   "execution_count": 167,
   "id": "9243a9f4",
   "metadata": {},
   "outputs": [
    {
     "data": {
      "image/png": "[encoded data removed]",
      "text/plain": [
       "Plot with title “2018 GDP 세계 15위 국가”"
      ]
     },
     "metadata": {},
     "output_type": "display_data"
    }
   ],
   "source": [
    "# GDP가 3000 이상인 국가만 빨간색으로 표시하기\n",
    "\n",
    "options(scipen = 100)\n",
    "options(warn = -1)\n",
    "par(family = \"AppleGothic\")\n",
    "barplot(GDP_ranking15$GDP/1000, # GDP상위 15개국 Data\n",
    "        main = \"2018 GDP 세계 15위 국가\",\n",
    "        xlab = \"국가(Nation)\",\n",
    "        ylab = \"단위(천달러)\",\n",
    "        names = GDP_ranking15$Code,\n",
    "        \n",
    "        cex.names = 0.7,\n",
    "#         col = c('red','blue','green')\n",
    "        col = ifelse(GDP_ranking15$GDP/1000 >=3000,\"red\",\"blue\"),\n",
    "        ylim = c(0, 25000)\n",
    "       )"
   ]
  },
  {
   "cell_type": "markdown",
   "id": "e252b1ea",
   "metadata": {},
   "source": [
    "---\n",
    "# 데이터 처리"
   ]
  },
  {
   "cell_type": "code",
   "execution_count": 177,
   "id": "0543d99e",
   "metadata": {},
   "outputs": [
    {
     "name": "stderr",
     "output_type": "stream",
     "text": [
      "\n",
      "Attaching package: ‘dplyr’\n",
      "\n",
      "The following objects are masked from ‘package:stats’:\n",
      "\n",
      "    filter, lag\n",
      "\n",
      "The following objects are masked from ‘package:base’:\n",
      "\n",
      "    intersect, setdiff, setequal, union\n",
      "\n"
     ]
    }
   ],
   "source": [
    "# 데이터 정렬\n",
    "\n",
    "\n",
    "library(dplyr)"
   ]
  },
  {
   "cell_type": "code",
   "execution_count": 179,
   "id": "0625f2ed",
   "metadata": {},
   "outputs": [
    {
     "data": {
      "text/html": [
       "<table>\n",
       "<thead><tr><th scope=col>Sepal.Length</th><th scope=col>Sepal.Width</th><th scope=col>Petal.Length</th><th scope=col>Petal.Width</th><th scope=col>Species</th></tr></thead>\n",
       "<tbody>\n",
       "\t<tr><td>4.3   </td><td>3.0   </td><td>1.1   </td><td>0.1   </td><td>setosa</td></tr>\n",
       "\t<tr><td>4.4   </td><td>2.9   </td><td>1.4   </td><td>0.2   </td><td>setosa</td></tr>\n",
       "\t<tr><td>4.4   </td><td>3.0   </td><td>1.3   </td><td>0.2   </td><td>setosa</td></tr>\n",
       "\t<tr><td>4.4   </td><td>3.2   </td><td>1.3   </td><td>0.2   </td><td>setosa</td></tr>\n",
       "\t<tr><td>4.5   </td><td>2.3   </td><td>1.3   </td><td>0.3   </td><td>setosa</td></tr>\n",
       "\t<tr><td>4.6   </td><td>3.1   </td><td>1.5   </td><td>0.2   </td><td>setosa</td></tr>\n",
       "</tbody>\n",
       "</table>\n"
      ],
      "text/latex": [
       "\\begin{tabular}{r|lllll}\n",
       " Sepal.Length & Sepal.Width & Petal.Length & Petal.Width & Species\\\\\n",
       "\\hline\n",
       "\t 4.3    & 3.0    & 1.1    & 0.1    & setosa\\\\\n",
       "\t 4.4    & 2.9    & 1.4    & 0.2    & setosa\\\\\n",
       "\t 4.4    & 3.0    & 1.3    & 0.2    & setosa\\\\\n",
       "\t 4.4    & 3.2    & 1.3    & 0.2    & setosa\\\\\n",
       "\t 4.5    & 2.3    & 1.3    & 0.3    & setosa\\\\\n",
       "\t 4.6    & 3.1    & 1.5    & 0.2    & setosa\\\\\n",
       "\\end{tabular}\n"
      ],
      "text/markdown": [
       "\n",
       "| Sepal.Length | Sepal.Width | Petal.Length | Petal.Width | Species |\n",
       "|---|---|---|---|---|\n",
       "| 4.3    | 3.0    | 1.1    | 0.1    | setosa |\n",
       "| 4.4    | 2.9    | 1.4    | 0.2    | setosa |\n",
       "| 4.4    | 3.0    | 1.3    | 0.2    | setosa |\n",
       "| 4.4    | 3.2    | 1.3    | 0.2    | setosa |\n",
       "| 4.5    | 2.3    | 1.3    | 0.3    | setosa |\n",
       "| 4.6    | 3.1    | 1.5    | 0.2    | setosa |\n",
       "\n"
      ],
      "text/plain": [
       "  Sepal.Length Sepal.Width Petal.Length Petal.Width Species\n",
       "1 4.3          3.0         1.1          0.1         setosa \n",
       "2 4.4          2.9         1.4          0.2         setosa \n",
       "3 4.4          3.0         1.3          0.2         setosa \n",
       "4 4.4          3.2         1.3          0.2         setosa \n",
       "5 4.5          2.3         1.3          0.3         setosa \n",
       "6 4.6          3.1         1.5          0.2         setosa "
      ]
     },
     "metadata": {},
     "output_type": "display_data"
    }
   ],
   "source": [
    "# Sepal.Length 기준으로 오름차순 정렬하기\n",
    "\n",
    "head(arrange(iris, Sepal.Length))"
   ]
  },
  {
   "cell_type": "code",
   "execution_count": 181,
   "id": "66cd66fa",
   "metadata": {},
   "outputs": [
    {
     "data": {
      "text/html": [
       "<table>\n",
       "<thead><tr><th scope=col>Sepal.Length</th><th scope=col>Sepal.Width</th><th scope=col>Petal.Length</th><th scope=col>Petal.Width</th><th scope=col>Species</th></tr></thead>\n",
       "<tbody>\n",
       "\t<tr><td>4.3   </td><td>3.0   </td><td>1.1   </td><td>0.1   </td><td>setosa</td></tr>\n",
       "\t<tr><td>4.4   </td><td>3.0   </td><td>1.3   </td><td>0.2   </td><td>setosa</td></tr>\n",
       "\t<tr><td>4.4   </td><td>3.2   </td><td>1.3   </td><td>0.2   </td><td>setosa</td></tr>\n",
       "\t<tr><td>4.4   </td><td>2.9   </td><td>1.4   </td><td>0.2   </td><td>setosa</td></tr>\n",
       "\t<tr><td>4.5   </td><td>2.3   </td><td>1.3   </td><td>0.3   </td><td>setosa</td></tr>\n",
       "\t<tr><td>4.6   </td><td>3.6   </td><td>1.0   </td><td>0.2   </td><td>setosa</td></tr>\n",
       "</tbody>\n",
       "</table>\n"
      ],
      "text/latex": [
       "\\begin{tabular}{r|lllll}\n",
       " Sepal.Length & Sepal.Width & Petal.Length & Petal.Width & Species\\\\\n",
       "\\hline\n",
       "\t 4.3    & 3.0    & 1.1    & 0.1    & setosa\\\\\n",
       "\t 4.4    & 3.0    & 1.3    & 0.2    & setosa\\\\\n",
       "\t 4.4    & 3.2    & 1.3    & 0.2    & setosa\\\\\n",
       "\t 4.4    & 2.9    & 1.4    & 0.2    & setosa\\\\\n",
       "\t 4.5    & 2.3    & 1.3    & 0.3    & setosa\\\\\n",
       "\t 4.6    & 3.6    & 1.0    & 0.2    & setosa\\\\\n",
       "\\end{tabular}\n"
      ],
      "text/markdown": [
       "\n",
       "| Sepal.Length | Sepal.Width | Petal.Length | Petal.Width | Species |\n",
       "|---|---|---|---|---|\n",
       "| 4.3    | 3.0    | 1.1    | 0.1    | setosa |\n",
       "| 4.4    | 3.0    | 1.3    | 0.2    | setosa |\n",
       "| 4.4    | 3.2    | 1.3    | 0.2    | setosa |\n",
       "| 4.4    | 2.9    | 1.4    | 0.2    | setosa |\n",
       "| 4.5    | 2.3    | 1.3    | 0.3    | setosa |\n",
       "| 4.6    | 3.6    | 1.0    | 0.2    | setosa |\n",
       "\n"
      ],
      "text/plain": [
       "  Sepal.Length Sepal.Width Petal.Length Petal.Width Species\n",
       "1 4.3          3.0         1.1          0.1         setosa \n",
       "2 4.4          3.0         1.3          0.2         setosa \n",
       "3 4.4          3.2         1.3          0.2         setosa \n",
       "4 4.4          2.9         1.4          0.2         setosa \n",
       "5 4.5          2.3         1.3          0.3         setosa \n",
       "6 4.6          3.6         1.0          0.2         setosa "
      ]
     },
     "metadata": {},
     "output_type": "display_data"
    }
   ],
   "source": [
    "# Sepal.Length기준으로 정렬 후 동일한 크기를 가진 데이터 발생 시 Petal.Length기준으로 오름차순 정렬\n",
    "head(arrange(iris, Sepal.Length, Petal.Length))"
   ]
  },
  {
   "cell_type": "code",
   "execution_count": 184,
   "id": "fbef11c6",
   "metadata": {},
   "outputs": [
    {
     "data": {
      "text/html": [
       "<table>\n",
       "<thead><tr><th scope=col>Sepal.Length</th><th scope=col>Sepal.Width</th><th scope=col>Petal.Length</th><th scope=col>Petal.Width</th><th scope=col>Species</th></tr></thead>\n",
       "<tbody>\n",
       "\t<tr><td>7.9      </td><td>3.8      </td><td>6.4      </td><td>2.0      </td><td>virginica</td></tr>\n",
       "\t<tr><td>7.7      </td><td>2.6      </td><td>6.9      </td><td>2.3      </td><td>virginica</td></tr>\n",
       "\t<tr><td>7.7      </td><td>3.8      </td><td>6.7      </td><td>2.2      </td><td>virginica</td></tr>\n",
       "\t<tr><td>7.7      </td><td>2.8      </td><td>6.7      </td><td>2.0      </td><td>virginica</td></tr>\n",
       "\t<tr><td>7.7      </td><td>3.0      </td><td>6.1      </td><td>2.3      </td><td>virginica</td></tr>\n",
       "\t<tr><td>7.6      </td><td>3.0      </td><td>6.6      </td><td>2.1      </td><td>virginica</td></tr>\n",
       "</tbody>\n",
       "</table>\n"
      ],
      "text/latex": [
       "\\begin{tabular}{r|lllll}\n",
       " Sepal.Length & Sepal.Width & Petal.Length & Petal.Width & Species\\\\\n",
       "\\hline\n",
       "\t 7.9       & 3.8       & 6.4       & 2.0       & virginica\\\\\n",
       "\t 7.7       & 2.6       & 6.9       & 2.3       & virginica\\\\\n",
       "\t 7.7       & 3.8       & 6.7       & 2.2       & virginica\\\\\n",
       "\t 7.7       & 2.8       & 6.7       & 2.0       & virginica\\\\\n",
       "\t 7.7       & 3.0       & 6.1       & 2.3       & virginica\\\\\n",
       "\t 7.6       & 3.0       & 6.6       & 2.1       & virginica\\\\\n",
       "\\end{tabular}\n"
      ],
      "text/markdown": [
       "\n",
       "| Sepal.Length | Sepal.Width | Petal.Length | Petal.Width | Species |\n",
       "|---|---|---|---|---|\n",
       "| 7.9       | 3.8       | 6.4       | 2.0       | virginica |\n",
       "| 7.7       | 2.6       | 6.9       | 2.3       | virginica |\n",
       "| 7.7       | 3.8       | 6.7       | 2.2       | virginica |\n",
       "| 7.7       | 2.8       | 6.7       | 2.0       | virginica |\n",
       "| 7.7       | 3.0       | 6.1       | 2.3       | virginica |\n",
       "| 7.6       | 3.0       | 6.6       | 2.1       | virginica |\n",
       "\n"
      ],
      "text/plain": [
       "  Sepal.Length Sepal.Width Petal.Length Petal.Width Species  \n",
       "1 7.9          3.8         6.4          2.0         virginica\n",
       "2 7.7          2.6         6.9          2.3         virginica\n",
       "3 7.7          3.8         6.7          2.2         virginica\n",
       "4 7.7          2.8         6.7          2.0         virginica\n",
       "5 7.7          3.0         6.1          2.3         virginica\n",
       "6 7.6          3.0         6.6          2.1         virginica"
      ]
     },
     "metadata": {},
     "output_type": "display_data"
    }
   ],
   "source": [
    "# Sepal.Length 기준으로 내림차순 정렬\n",
    "\n",
    "head(arrange(iris, desc(Sepal.Length),desc(Petal.Length)))"
   ]
  },
  {
   "cell_type": "code",
   "execution_count": 191,
   "id": "e9c18fed",
   "metadata": {},
   "outputs": [
    {
     "data": {
      "text/html": [
       "<table>\n",
       "<thead><tr><th scope=col>Sepal.Length</th><th scope=col>Sepal.Width</th></tr></thead>\n",
       "<tbody>\n",
       "\t<tr><td>7.9</td><td>3.8</td></tr>\n",
       "\t<tr><td>7.7</td><td>3.8</td></tr>\n",
       "\t<tr><td>7.7</td><td>2.6</td></tr>\n",
       "\t<tr><td>7.7</td><td>2.8</td></tr>\n",
       "\t<tr><td>7.7</td><td>3.0</td></tr>\n",
       "\t<tr><td>7.6</td><td>3.0</td></tr>\n",
       "</tbody>\n",
       "</table>\n"
      ],
      "text/latex": [
       "\\begin{tabular}{r|ll}\n",
       " Sepal.Length & Sepal.Width\\\\\n",
       "\\hline\n",
       "\t 7.9 & 3.8\\\\\n",
       "\t 7.7 & 3.8\\\\\n",
       "\t 7.7 & 2.6\\\\\n",
       "\t 7.7 & 2.8\\\\\n",
       "\t 7.7 & 3.0\\\\\n",
       "\t 7.6 & 3.0\\\\\n",
       "\\end{tabular}\n"
      ],
      "text/markdown": [
       "\n",
       "| Sepal.Length | Sepal.Width |\n",
       "|---|---|\n",
       "| 7.9 | 3.8 |\n",
       "| 7.7 | 3.8 |\n",
       "| 7.7 | 2.6 |\n",
       "| 7.7 | 2.8 |\n",
       "| 7.7 | 3.0 |\n",
       "| 7.6 | 3.0 |\n",
       "\n"
      ],
      "text/plain": [
       "  Sepal.Length Sepal.Width\n",
       "1 7.9          3.8        \n",
       "2 7.7          3.8        \n",
       "3 7.7          2.6        \n",
       "4 7.7          2.8        \n",
       "5 7.7          3.0        \n",
       "6 7.6          3.0        "
      ]
     },
     "metadata": {},
     "output_type": "display_data"
    }
   ],
   "source": [
    "# Sepal.Length 기준으로 내림차순 정렬 후 Sepal.Length와 Sepal.Width 만 보기\n",
    "\n",
    "head(arrange(iris[,c(\"Sepal.Length\",\"Sepal.Width\")], desc(Sepal.Length)))"
   ]
  },
  {
   "cell_type": "markdown",
   "id": "f052a191",
   "metadata": {},
   "source": [
    "---\n",
    "# 샘플링(Sampling)"
   ]
  },
  {
   "cell_type": "code",
   "execution_count": 219,
   "id": "6bd1f5f4",
   "metadata": {},
   "outputs": [
    {
     "data": {
      "text/html": [
       "<ol class=list-inline>\n",
       "\t<li>1</li>\n",
       "\t<li>8</li>\n",
       "\t<li>22</li>\n",
       "\t<li>29</li>\n",
       "\t<li>5</li>\n",
       "\t<li>11</li>\n",
       "</ol>\n"
      ],
      "text/latex": [
       "\\begin{enumerate*}\n",
       "\\item 1\n",
       "\\item 8\n",
       "\\item 22\n",
       "\\item 29\n",
       "\\item 5\n",
       "\\item 11\n",
       "\\end{enumerate*}\n"
      ],
      "text/markdown": [
       "1. 1\n",
       "2. 8\n",
       "3. 22\n",
       "4. 29\n",
       "5. 5\n",
       "6. 11\n",
       "\n",
       "\n"
      ],
      "text/plain": [
       "[1]  1  8 22 29  5 11"
      ]
     },
     "metadata": {},
     "output_type": "display_data"
    }
   ],
   "source": [
    "# 랜던 샘플링(중복값을 허용하지 않음)\n",
    "sample(1:45, 6)"
   ]
  },
  {
   "cell_type": "code",
   "execution_count": 221,
   "id": "74c24ec0",
   "metadata": {},
   "outputs": [
    {
     "data": {
      "text/html": [
       "150"
      ],
      "text/latex": [
       "150"
      ],
      "text/markdown": [
       "150"
      ],
      "text/plain": [
       "[1] 150"
      ]
     },
     "metadata": {},
     "output_type": "display_data"
    },
    {
     "data": {
      "text/html": [
       "5"
      ],
      "text/latex": [
       "5"
      ],
      "text/markdown": [
       "5"
      ],
      "text/plain": [
       "[1] 5"
      ]
     },
     "metadata": {},
     "output_type": "display_data"
    }
   ],
   "source": [
    "nrow(iris)\n",
    "ncol(iris)"
   ]
  },
  {
   "cell_type": "code",
   "execution_count": 224,
   "id": "f5a6e173",
   "metadata": {},
   "outputs": [
    {
     "data": {
      "text/html": [
       "<ol class=list-inline>\n",
       "\t<li>110</li>\n",
       "\t<li>111</li>\n",
       "\t<li>132</li>\n",
       "\t<li>50</li>\n",
       "\t<li>147</li>\n",
       "\t<li>73</li>\n",
       "\t<li>123</li>\n",
       "\t<li>103</li>\n",
       "\t<li>113</li>\n",
       "\t<li>49</li>\n",
       "\t<li>12</li>\n",
       "\t<li>92</li>\n",
       "\t<li>70</li>\n",
       "\t<li>13</li>\n",
       "\t<li>124</li>\n",
       "\t<li>16</li>\n",
       "\t<li>37</li>\n",
       "\t<li>101</li>\n",
       "\t<li>99</li>\n",
       "\t<li>7</li>\n",
       "\t<li>89</li>\n",
       "\t<li>46</li>\n",
       "\t<li>26</li>\n",
       "\t<li>41</li>\n",
       "\t<li>100</li>\n",
       "\t<li>126</li>\n",
       "\t<li>6</li>\n",
       "\t<li>108</li>\n",
       "\t<li>125</li>\n",
       "\t<li>14</li>\n",
       "\t<li>18</li>\n",
       "\t<li>72</li>\n",
       "\t<li>139</li>\n",
       "\t<li>31</li>\n",
       "\t<li>149</li>\n",
       "\t<li>47</li>\n",
       "\t<li>80</li>\n",
       "\t<li>119</li>\n",
       "\t<li>30</li>\n",
       "\t<li>58</li>\n",
       "\t<li>146</li>\n",
       "\t<li>23</li>\n",
       "\t<li>9</li>\n",
       "\t<li>114</li>\n",
       "\t<li>5</li>\n",
       "\t<li>84</li>\n",
       "\t<li>51</li>\n",
       "\t<li>128</li>\n",
       "\t<li>144</li>\n",
       "\t<li>29</li>\n",
       "\t<li>76</li>\n",
       "\t<li>107</li>\n",
       "\t<li>15</li>\n",
       "\t<li>129</li>\n",
       "\t<li>85</li>\n",
       "\t<li>130</li>\n",
       "\t<li>145</li>\n",
       "\t<li>39</li>\n",
       "\t<li>97</li>\n",
       "\t<li>65</li>\n",
       "\t<li>43</li>\n",
       "\t<li>93</li>\n",
       "\t<li>33</li>\n",
       "\t<li>134</li>\n",
       "\t<li>24</li>\n",
       "\t<li>137</li>\n",
       "\t<li>104</li>\n",
       "\t<li>136</li>\n",
       "\t<li>4</li>\n",
       "\t<li>138</li>\n",
       "\t<li>42</li>\n",
       "\t<li>78</li>\n",
       "\t<li>88</li>\n",
       "\t<li>66</li>\n",
       "\t<li>2</li>\n",
       "\t<li>98</li>\n",
       "\t<li>86</li>\n",
       "\t<li>142</li>\n",
       "\t<li>71</li>\n",
       "\t<li>64</li>\n",
       "\t<li>135</li>\n",
       "\t<li>148</li>\n",
       "\t<li>60</li>\n",
       "\t<li>17</li>\n",
       "\t<li>115</li>\n",
       "\t<li>3</li>\n",
       "\t<li>96</li>\n",
       "\t<li>109</li>\n",
       "\t<li>112</li>\n",
       "\t<li>91</li>\n",
       "\t<li>127</li>\n",
       "\t<li>90</li>\n",
       "\t<li>35</li>\n",
       "\t<li>143</li>\n",
       "\t<li>38</li>\n",
       "\t<li>68</li>\n",
       "\t<li>140</li>\n",
       "\t<li>67</li>\n",
       "\t<li>120</li>\n",
       "\t<li>105</li>\n",
       "\t<li>10</li>\n",
       "\t<li>57</li>\n",
       "\t<li>118</li>\n",
       "\t<li>150</li>\n",
       "\t<li>61</li>\n",
       "</ol>\n"
      ],
      "text/latex": [
       "\\begin{enumerate*}\n",
       "\\item 110\n",
       "\\item 111\n",
       "\\item 132\n",
       "\\item 50\n",
       "\\item 147\n",
       "\\item 73\n",
       "\\item 123\n",
       "\\item 103\n",
       "\\item 113\n",
       "\\item 49\n",
       "\\item 12\n",
       "\\item 92\n",
       "\\item 70\n",
       "\\item 13\n",
       "\\item 124\n",
       "\\item 16\n",
       "\\item 37\n",
       "\\item 101\n",
       "\\item 99\n",
       "\\item 7\n",
       "\\item 89\n",
       "\\item 46\n",
       "\\item 26\n",
       "\\item 41\n",
       "\\item 100\n",
       "\\item 126\n",
       "\\item 6\n",
       "\\item 108\n",
       "\\item 125\n",
       "\\item 14\n",
       "\\item 18\n",
       "\\item 72\n",
       "\\item 139\n",
       "\\item 31\n",
       "\\item 149\n",
       "\\item 47\n",
       "\\item 80\n",
       "\\item 119\n",
       "\\item 30\n",
       "\\item 58\n",
       "\\item 146\n",
       "\\item 23\n",
       "\\item 9\n",
       "\\item 114\n",
       "\\item 5\n",
       "\\item 84\n",
       "\\item 51\n",
       "\\item 128\n",
       "\\item 144\n",
       "\\item 29\n",
       "\\item 76\n",
       "\\item 107\n",
       "\\item 15\n",
       "\\item 129\n",
       "\\item 85\n",
       "\\item 130\n",
       "\\item 145\n",
       "\\item 39\n",
       "\\item 97\n",
       "\\item 65\n",
       "\\item 43\n",
       "\\item 93\n",
       "\\item 33\n",
       "\\item 134\n",
       "\\item 24\n",
       "\\item 137\n",
       "\\item 104\n",
       "\\item 136\n",
       "\\item 4\n",
       "\\item 138\n",
       "\\item 42\n",
       "\\item 78\n",
       "\\item 88\n",
       "\\item 66\n",
       "\\item 2\n",
       "\\item 98\n",
       "\\item 86\n",
       "\\item 142\n",
       "\\item 71\n",
       "\\item 64\n",
       "\\item 135\n",
       "\\item 148\n",
       "\\item 60\n",
       "\\item 17\n",
       "\\item 115\n",
       "\\item 3\n",
       "\\item 96\n",
       "\\item 109\n",
       "\\item 112\n",
       "\\item 91\n",
       "\\item 127\n",
       "\\item 90\n",
       "\\item 35\n",
       "\\item 143\n",
       "\\item 38\n",
       "\\item 68\n",
       "\\item 140\n",
       "\\item 67\n",
       "\\item 120\n",
       "\\item 105\n",
       "\\item 10\n",
       "\\item 57\n",
       "\\item 118\n",
       "\\item 150\n",
       "\\item 61\n",
       "\\end{enumerate*}\n"
      ],
      "text/markdown": [
       "1. 110\n",
       "2. 111\n",
       "3. 132\n",
       "4. 50\n",
       "5. 147\n",
       "6. 73\n",
       "7. 123\n",
       "8. 103\n",
       "9. 113\n",
       "10. 49\n",
       "11. 12\n",
       "12. 92\n",
       "13. 70\n",
       "14. 13\n",
       "15. 124\n",
       "16. 16\n",
       "17. 37\n",
       "18. 101\n",
       "19. 99\n",
       "20. 7\n",
       "21. 89\n",
       "22. 46\n",
       "23. 26\n",
       "24. 41\n",
       "25. 100\n",
       "26. 126\n",
       "27. 6\n",
       "28. 108\n",
       "29. 125\n",
       "30. 14\n",
       "31. 18\n",
       "32. 72\n",
       "33. 139\n",
       "34. 31\n",
       "35. 149\n",
       "36. 47\n",
       "37. 80\n",
       "38. 119\n",
       "39. 30\n",
       "40. 58\n",
       "41. 146\n",
       "42. 23\n",
       "43. 9\n",
       "44. 114\n",
       "45. 5\n",
       "46. 84\n",
       "47. 51\n",
       "48. 128\n",
       "49. 144\n",
       "50. 29\n",
       "51. 76\n",
       "52. 107\n",
       "53. 15\n",
       "54. 129\n",
       "55. 85\n",
       "56. 130\n",
       "57. 145\n",
       "58. 39\n",
       "59. 97\n",
       "60. 65\n",
       "61. 43\n",
       "62. 93\n",
       "63. 33\n",
       "64. 134\n",
       "65. 24\n",
       "66. 137\n",
       "67. 104\n",
       "68. 136\n",
       "69. 4\n",
       "70. 138\n",
       "71. 42\n",
       "72. 78\n",
       "73. 88\n",
       "74. 66\n",
       "75. 2\n",
       "76. 98\n",
       "77. 86\n",
       "78. 142\n",
       "79. 71\n",
       "80. 64\n",
       "81. 135\n",
       "82. 148\n",
       "83. 60\n",
       "84. 17\n",
       "85. 115\n",
       "86. 3\n",
       "87. 96\n",
       "88. 109\n",
       "89. 112\n",
       "90. 91\n",
       "91. 127\n",
       "92. 90\n",
       "93. 35\n",
       "94. 143\n",
       "95. 38\n",
       "96. 68\n",
       "97. 140\n",
       "98. 67\n",
       "99. 120\n",
       "100. 105\n",
       "101. 10\n",
       "102. 57\n",
       "103. 118\n",
       "104. 150\n",
       "105. 61\n",
       "\n",
       "\n"
      ],
      "text/plain": [
       "  [1] 110 111 132  50 147  73 123 103 113  49  12  92  70  13 124  16  37 101\n",
       " [19]  99   7  89  46  26  41 100 126   6 108 125  14  18  72 139  31 149  47\n",
       " [37]  80 119  30  58 146  23   9 114   5  84  51 128 144  29  76 107  15 129\n",
       " [55]  85 130 145  39  97  65  43  93  33 134  24 137 104 136   4 138  42  78\n",
       " [73]  88  66   2  98  86 142  71  64 135 148  60  17 115   3  96 109 112  91\n",
       " [91] 127  90  35 143  38  68 140  67 120 105  10  57 118 150  61"
      ]
     },
     "metadata": {},
     "output_type": "display_data"
    }
   ],
   "source": [
    "samp <- sample(1:nrow(iris),nrow(iris)*0.7)\n",
    "samp"
   ]
  },
  {
   "cell_type": "code",
   "execution_count": 227,
   "id": "b5ccfaba",
   "metadata": {},
   "outputs": [
    {
     "data": {
      "text/html": [
       "<table>\n",
       "<thead><tr><th></th><th scope=col>Sepal.Length</th><th scope=col>Sepal.Width</th><th scope=col>Petal.Length</th><th scope=col>Petal.Width</th><th scope=col>Species</th></tr></thead>\n",
       "<tbody>\n",
       "\t<tr><th scope=row>110</th><td>7.2       </td><td>3.6       </td><td>6.1       </td><td>2.5       </td><td>virginica </td></tr>\n",
       "\t<tr><th scope=row>111</th><td>6.5       </td><td>3.2       </td><td>5.1       </td><td>2.0       </td><td>virginica </td></tr>\n",
       "\t<tr><th scope=row>132</th><td>7.9       </td><td>3.8       </td><td>6.4       </td><td>2.0       </td><td>virginica </td></tr>\n",
       "\t<tr><th scope=row>50</th><td>5.0       </td><td>3.3       </td><td>1.4       </td><td>0.2       </td><td>setosa    </td></tr>\n",
       "\t<tr><th scope=row>147</th><td>6.3       </td><td>2.5       </td><td>5.0       </td><td>1.9       </td><td>virginica </td></tr>\n",
       "\t<tr><th scope=row>73</th><td>6.3       </td><td>2.5       </td><td>4.9       </td><td>1.5       </td><td>versicolor</td></tr>\n",
       "</tbody>\n",
       "</table>\n"
      ],
      "text/latex": [
       "\\begin{tabular}{r|lllll}\n",
       "  & Sepal.Length & Sepal.Width & Petal.Length & Petal.Width & Species\\\\\n",
       "\\hline\n",
       "\t110 & 7.2        & 3.6        & 6.1        & 2.5        & virginica \\\\\n",
       "\t111 & 6.5        & 3.2        & 5.1        & 2.0        & virginica \\\\\n",
       "\t132 & 7.9        & 3.8        & 6.4        & 2.0        & virginica \\\\\n",
       "\t50 & 5.0        & 3.3        & 1.4        & 0.2        & setosa    \\\\\n",
       "\t147 & 6.3        & 2.5        & 5.0        & 1.9        & virginica \\\\\n",
       "\t73 & 6.3        & 2.5        & 4.9        & 1.5        & versicolor\\\\\n",
       "\\end{tabular}\n"
      ],
      "text/markdown": [
       "\n",
       "| <!--/--> | Sepal.Length | Sepal.Width | Petal.Length | Petal.Width | Species |\n",
       "|---|---|---|---|---|---|\n",
       "| 110 | 7.2        | 3.6        | 6.1        | 2.5        | virginica  |\n",
       "| 111 | 6.5        | 3.2        | 5.1        | 2.0        | virginica  |\n",
       "| 132 | 7.9        | 3.8        | 6.4        | 2.0        | virginica  |\n",
       "| 50 | 5.0        | 3.3        | 1.4        | 0.2        | setosa     |\n",
       "| 147 | 6.3        | 2.5        | 5.0        | 1.9        | virginica  |\n",
       "| 73 | 6.3        | 2.5        | 4.9        | 1.5        | versicolor |\n",
       "\n"
      ],
      "text/plain": [
       "    Sepal.Length Sepal.Width Petal.Length Petal.Width Species   \n",
       "110 7.2          3.6         6.1          2.5         virginica \n",
       "111 6.5          3.2         5.1          2.0         virginica \n",
       "132 7.9          3.8         6.4          2.0         virginica \n",
       "50  5.0          3.3         1.4          0.2         setosa    \n",
       "147 6.3          2.5         5.0          1.9         virginica \n",
       "73  6.3          2.5         4.9          1.5         versicolor"
      ]
     },
     "metadata": {},
     "output_type": "display_data"
    }
   ],
   "source": [
    "irisSamp <- iris[samp,]\n",
    "head(irisSamp)"
   ]
  },
  {
   "cell_type": "code",
   "execution_count": 230,
   "id": "41f2aa83",
   "metadata": {},
   "outputs": [
    {
     "data": {
      "text/plain": [
       "  Sepal.Length    Sepal.Width    Petal.Length   Petal.Width         Species  \n",
       " Min.   :4.300   Min.   :2.00   Min.   :1.00   Min.   :0.10   setosa    :33  \n",
       " 1st Qu.:5.100   1st Qu.:2.80   1st Qu.:1.60   1st Qu.:0.30   versicolor:31  \n",
       " Median :5.800   Median :3.00   Median :4.40   Median :1.40   virginica :41  \n",
       " Mean   :5.853   Mean   :3.05   Mean   :3.86   Mean   :1.25                  \n",
       " 3rd Qu.:6.400   3rd Qu.:3.30   3rd Qu.:5.20   3rd Qu.:1.80                  \n",
       " Max.   :7.900   Max.   :4.40   Max.   :6.90   Max.   :2.50                  "
      ]
     },
     "metadata": {},
     "output_type": "display_data"
    }
   ],
   "source": [
    "summary(irisSamp)"
   ]
  },
  {
   "cell_type": "code",
   "execution_count": 231,
   "id": "07e302db",
   "metadata": {},
   "outputs": [
    {
     "data": {
      "text/plain": [
       "  Sepal.Length    Sepal.Width     Petal.Length    Petal.Width   \n",
       " Min.   :4.300   Min.   :2.000   Min.   :1.000   Min.   :0.100  \n",
       " 1st Qu.:5.100   1st Qu.:2.800   1st Qu.:1.600   1st Qu.:0.300  \n",
       " Median :5.800   Median :3.000   Median :4.350   Median :1.300  \n",
       " Mean   :5.843   Mean   :3.057   Mean   :3.758   Mean   :1.199  \n",
       " 3rd Qu.:6.400   3rd Qu.:3.300   3rd Qu.:5.100   3rd Qu.:1.800  \n",
       " Max.   :7.900   Max.   :4.400   Max.   :6.900   Max.   :2.500  \n",
       "       Species  \n",
       " setosa    :50  \n",
       " versicolor:50  \n",
       " virginica :50  \n",
       "                \n",
       "                \n",
       "                "
      ]
     },
     "metadata": {},
     "output_type": "display_data"
    }
   ],
   "source": [
    "summary(iris)"
   ]
  },
  {
   "cell_type": "code",
   "execution_count": 232,
   "id": "107ebd89",
   "metadata": {},
   "outputs": [
    {
     "data": {
      "text/plain": [
       "\n",
       "    setosa versicolor  virginica \n",
       "        33         31         41 "
      ]
     },
     "metadata": {},
     "output_type": "display_data"
    }
   ],
   "source": [
    "table(irisSamp$Species)"
   ]
  },
  {
   "cell_type": "code",
   "execution_count": 234,
   "id": "a414c41e",
   "metadata": {},
   "outputs": [],
   "source": [
    "# iris Sampling시 Species별로 Sampling\n",
    "samp <- c(sample(1:50,35), sample(51:100, 35), sample(101:150, 35))\n",
    "\n",
    "\n",
    "\n"
   ]
  },
  {
   "cell_type": "code",
   "execution_count": 235,
   "id": "fbbd3b11",
   "metadata": {},
   "outputs": [
    {
     "data": {
      "text/plain": [
       "\n",
       "    setosa versicolor  virginica \n",
       "        35         35         35 "
      ]
     },
     "metadata": {},
     "output_type": "display_data"
    }
   ],
   "source": [
    "irisSamp <- iris[samp,]\n",
    "table(irisSamp$Species)"
   ]
  },
  {
   "cell_type": "code",
   "execution_count": 238,
   "id": "220ab667",
   "metadata": {},
   "outputs": [],
   "source": [
    "# Training Data와 Test Data분리하기\n",
    "\n",
    "iris.train <- iris[samp,]\n",
    "iris.test <- iris[-samp,]"
   ]
  },
  {
   "cell_type": "code",
   "execution_count": 237,
   "id": "49bd48d4",
   "metadata": {},
   "outputs": [
    {
     "data": {
      "text/plain": [
       "  Sepal.Length    Sepal.Width     Petal.Length    Petal.Width   \n",
       " Min.   :4.300   Min.   :2.000   Min.   :1.000   Min.   :0.100  \n",
       " 1st Qu.:5.100   1st Qu.:2.800   1st Qu.:1.600   1st Qu.:0.300  \n",
       " Median :5.800   Median :3.000   Median :4.350   Median :1.300  \n",
       " Mean   :5.843   Mean   :3.057   Mean   :3.758   Mean   :1.199  \n",
       " 3rd Qu.:6.400   3rd Qu.:3.300   3rd Qu.:5.100   3rd Qu.:1.800  \n",
       " Max.   :7.900   Max.   :4.400   Max.   :6.900   Max.   :2.500  \n",
       "       Species  \n",
       " setosa    :50  \n",
       " versicolor:50  \n",
       " virginica :50  \n",
       "                \n",
       "                \n",
       "                "
      ]
     },
     "metadata": {},
     "output_type": "display_data"
    }
   ],
   "source": [
    "summary(iris.train)"
   ]
  },
  {
   "cell_type": "code",
   "execution_count": 239,
   "id": "da333744",
   "metadata": {},
   "outputs": [
    {
     "data": {
      "text/plain": [
       "  Sepal.Length    Sepal.Width     Petal.Length    Petal.Width   \n",
       " Min.   :4.400   Min.   :2.200   Min.   :1.300   Min.   :0.100  \n",
       " 1st Qu.:5.400   1st Qu.:2.800   1st Qu.:1.600   1st Qu.:0.300  \n",
       " Median :5.800   Median :3.000   Median :4.300   Median :1.300  \n",
       " Mean   :5.882   Mean   :3.062   Mean   :3.793   Mean   :1.169  \n",
       " 3rd Qu.:6.400   3rd Qu.:3.300   3rd Qu.:5.100   3rd Qu.:1.800  \n",
       " Max.   :7.700   Max.   :4.200   Max.   :6.700   Max.   :2.500  \n",
       "       Species  \n",
       " setosa    :15  \n",
       " versicolor:15  \n",
       " virginica :15  \n",
       "                \n",
       "                \n",
       "                "
      ]
     },
     "metadata": {},
     "output_type": "display_data"
    }
   ],
   "source": [
    "summary(iris.test)"
   ]
  },
  {
   "cell_type": "markdown",
   "id": "071501a3",
   "metadata": {},
   "source": [
    "----\n",
    "# 부분집합"
   ]
  },
  {
   "cell_type": "code",
   "execution_count": 246,
   "id": "d6f1922f",
   "metadata": {},
   "outputs": [
    {
     "data": {
      "text/html": [
       "<table>\n",
       "<thead><tr><th></th><th scope=col>Sepal.Length</th><th scope=col>Sepal.Width</th><th scope=col>Petal.Length</th><th scope=col>Petal.Width</th><th scope=col>Species</th></tr></thead>\n",
       "<tbody>\n",
       "\t<tr><th scope=row>45</th><td>5.1   </td><td>3.8   </td><td>1.9   </td><td>0.4   </td><td>setosa</td></tr>\n",
       "\t<tr><th scope=row>46</th><td>4.8   </td><td>3.0   </td><td>1.4   </td><td>0.3   </td><td>setosa</td></tr>\n",
       "\t<tr><th scope=row>47</th><td>5.1   </td><td>3.8   </td><td>1.6   </td><td>0.2   </td><td>setosa</td></tr>\n",
       "\t<tr><th scope=row>48</th><td>4.6   </td><td>3.2   </td><td>1.4   </td><td>0.2   </td><td>setosa</td></tr>\n",
       "\t<tr><th scope=row>49</th><td>5.3   </td><td>3.7   </td><td>1.5   </td><td>0.2   </td><td>setosa</td></tr>\n",
       "\t<tr><th scope=row>50</th><td>5.0   </td><td>3.3   </td><td>1.4   </td><td>0.2   </td><td>setosa</td></tr>\n",
       "</tbody>\n",
       "</table>\n"
      ],
      "text/latex": [
       "\\begin{tabular}{r|lllll}\n",
       "  & Sepal.Length & Sepal.Width & Petal.Length & Petal.Width & Species\\\\\n",
       "\\hline\n",
       "\t45 & 5.1    & 3.8    & 1.9    & 0.4    & setosa\\\\\n",
       "\t46 & 4.8    & 3.0    & 1.4    & 0.3    & setosa\\\\\n",
       "\t47 & 5.1    & 3.8    & 1.6    & 0.2    & setosa\\\\\n",
       "\t48 & 4.6    & 3.2    & 1.4    & 0.2    & setosa\\\\\n",
       "\t49 & 5.3    & 3.7    & 1.5    & 0.2    & setosa\\\\\n",
       "\t50 & 5.0    & 3.3    & 1.4    & 0.2    & setosa\\\\\n",
       "\\end{tabular}\n"
      ],
      "text/markdown": [
       "\n",
       "| <!--/--> | Sepal.Length | Sepal.Width | Petal.Length | Petal.Width | Species |\n",
       "|---|---|---|---|---|---|\n",
       "| 45 | 5.1    | 3.8    | 1.9    | 0.4    | setosa |\n",
       "| 46 | 4.8    | 3.0    | 1.4    | 0.3    | setosa |\n",
       "| 47 | 5.1    | 3.8    | 1.6    | 0.2    | setosa |\n",
       "| 48 | 4.6    | 3.2    | 1.4    | 0.2    | setosa |\n",
       "| 49 | 5.3    | 3.7    | 1.5    | 0.2    | setosa |\n",
       "| 50 | 5.0    | 3.3    | 1.4    | 0.2    | setosa |\n",
       "\n"
      ],
      "text/plain": [
       "   Sepal.Length Sepal.Width Petal.Length Petal.Width Species\n",
       "45 5.1          3.8         1.9          0.4         setosa \n",
       "46 4.8          3.0         1.4          0.3         setosa \n",
       "47 5.1          3.8         1.6          0.2         setosa \n",
       "48 4.6          3.2         1.4          0.2         setosa \n",
       "49 5.3          3.7         1.5          0.2         setosa \n",
       "50 5.0          3.3         1.4          0.2         setosa "
      ]
     },
     "metadata": {},
     "output_type": "display_data"
    }
   ],
   "source": [
    "# iris에서 Species가 setosa인 것만 추출하여 iris_setosa라는 데이터프레임 만들기\n",
    "\n",
    "iris_setosa <- subset(iris, Species == 'setosa')\n",
    "tail(iris_setosa)\n",
    "iris_setosa$Species<-factor(iris_setosa$Species)"
   ]
  },
  {
   "cell_type": "code",
   "execution_count": 247,
   "id": "72e989ad",
   "metadata": {},
   "outputs": [
    {
     "data": {
      "text/plain": [
       "  Sepal.Length    Sepal.Width     Petal.Length    Petal.Width      Species  \n",
       " Min.   :4.300   Min.   :2.300   Min.   :1.000   Min.   :0.100   setosa:50  \n",
       " 1st Qu.:4.800   1st Qu.:3.200   1st Qu.:1.400   1st Qu.:0.200              \n",
       " Median :5.000   Median :3.400   Median :1.500   Median :0.200              \n",
       " Mean   :5.006   Mean   :3.428   Mean   :1.462   Mean   :0.246              \n",
       " 3rd Qu.:5.200   3rd Qu.:3.675   3rd Qu.:1.575   3rd Qu.:0.300              \n",
       " Max.   :5.800   Max.   :4.400   Max.   :1.900   Max.   :0.600              "
      ]
     },
     "metadata": {},
     "output_type": "display_data"
    }
   ],
   "source": [
    "summary(iris_setosa)"
   ]
  },
  {
   "cell_type": "code",
   "execution_count": 248,
   "id": "a4170640",
   "metadata": {},
   "outputs": [
    {
     "name": "stdout",
     "output_type": "stream",
     "text": [
      "'data.frame':\t50 obs. of  5 variables:\n",
      " $ Sepal.Length: num  5.1 4.9 4.7 4.6 5 5.4 4.6 5 4.4 4.9 ...\n",
      " $ Sepal.Width : num  3.5 3 3.2 3.1 3.6 3.9 3.4 3.4 2.9 3.1 ...\n",
      " $ Petal.Length: num  1.4 1.4 1.3 1.5 1.4 1.7 1.4 1.5 1.4 1.5 ...\n",
      " $ Petal.Width : num  0.2 0.2 0.2 0.2 0.2 0.4 0.3 0.2 0.2 0.1 ...\n",
      " $ Species     : Factor w/ 1 level \"setosa\": 1 1 1 1 1 1 1 1 1 1 ...\n"
     ]
    }
   ],
   "source": [
    "str(iris_setosa)"
   ]
  },
  {
   "cell_type": "code",
   "execution_count": 262,
   "id": "3f3a923a",
   "metadata": {},
   "outputs": [
    {
     "name": "stdout",
     "output_type": "stream",
     "text": [
      "'data.frame':\t50 obs. of  5 variables:\n",
      " $ Sepal.Length: num  7 6.4 6.9 5.5 6.5 5.7 6.3 4.9 6.6 5.2 ...\n",
      " $ Sepal.Width : num  3.2 3.2 3.1 2.3 2.8 2.8 3.3 2.4 2.9 2.7 ...\n",
      " $ Petal.Length: num  4.7 4.5 4.9 4 4.6 4.5 4.7 3.3 4.6 3.9 ...\n",
      " $ Petal.Width : num  1.4 1.5 1.5 1.3 1.5 1.3 1.6 1 1.3 1.4 ...\n",
      " $ Species     : Factor w/ 3 levels \"setosa\",\"versicolor\",..: 2 2 2 2 2 2 2 2 2 2 ...\n"
     ]
    }
   ],
   "source": [
    "# iris에서 Species가 versicolor인 것만 추출하여 iris_versicolor라는 데이터프레임 만들기\n",
    "iris_versicolor <- subset(iris, Species == 'versicolor')\n",
    "str(iris_versicolor)"
   ]
  },
  {
   "cell_type": "code",
   "execution_count": 268,
   "id": "e9570ff6",
   "metadata": {},
   "outputs": [],
   "source": [
    "iris_versicolor$Species <- factor(iris_versicolor$Species)"
   ]
  },
  {
   "cell_type": "code",
   "execution_count": 269,
   "id": "a70e3d60",
   "metadata": {},
   "outputs": [
    {
     "name": "stdout",
     "output_type": "stream",
     "text": [
      "'data.frame':\t50 obs. of  5 variables:\n",
      " $ Sepal.Length: num  7 6.4 6.9 5.5 6.5 5.7 6.3 4.9 6.6 5.2 ...\n",
      " $ Sepal.Width : num  3.2 3.2 3.1 2.3 2.8 2.8 3.3 2.4 2.9 2.7 ...\n",
      " $ Petal.Length: num  4.7 4.5 4.9 4 4.6 4.5 4.7 3.3 4.6 3.9 ...\n",
      " $ Petal.Width : num  1.4 1.5 1.5 1.3 1.5 1.3 1.6 1 1.3 1.4 ...\n",
      " $ Species     : Factor w/ 1 level \"versicolor\": 1 1 1 1 1 1 1 1 1 1 ...\n"
     ]
    }
   ],
   "source": [
    "str(iris_versicolor)"
   ]
  },
  {
   "cell_type": "code",
   "execution_count": 271,
   "id": "409919f8",
   "metadata": {},
   "outputs": [],
   "source": [
    "rownames(iris_versicolor)<- c()"
   ]
  },
  {
   "cell_type": "code",
   "execution_count": 276,
   "id": "3fdeab1f",
   "metadata": {},
   "outputs": [
    {
     "name": "stdout",
     "output_type": "stream",
     "text": [
      "  Sepal.Length Sepal.Width Petal.Length Petal.Width    Species\n",
      "1          7.0         3.2          4.7         1.4 versicolor\n",
      "2          6.4         3.2          4.5         1.5 versicolor\n",
      "3          6.9         3.1          4.9         1.5 versicolor\n",
      "4          5.5         2.3          4.0         1.3 versicolor\n",
      "5          6.5         2.8          4.6         1.5 versicolor\n",
      "6          5.7         2.8          4.5         1.3 versicolor\n"
     ]
    }
   ],
   "source": [
    "print(head(iris_versicolor))"
   ]
  },
  {
   "cell_type": "code",
   "execution_count": 291,
   "id": "6f7cb036",
   "metadata": {},
   "outputs": [
    {
     "data": {
      "text/html": [
       "22"
      ],
      "text/latex": [
       "22"
      ],
      "text/markdown": [
       "22"
      ],
      "text/plain": [
       "[1] 22"
      ]
     },
     "metadata": {},
     "output_type": "display_data"
    },
    {
     "data": {
      "text/html": [
       "22"
      ],
      "text/latex": [
       "22"
      ],
      "text/markdown": [
       "22"
      ],
      "text/plain": [
       "[1] 22"
      ]
     },
     "metadata": {},
     "output_type": "display_data"
    }
   ],
   "source": [
    "# iris에서 Species가 setosa이고 sepal.Length가 5보다 큰 Sample(Data)의 갯수는?\n",
    "\n",
    "nrow(subset(iris,Species == 'setosa' & Sepal.Length >5))\n",
    "\n",
    "sum(ifelse(iris_setosa$Sepal.Length > 5,1,0))"
   ]
  },
  {
   "cell_type": "code",
   "execution_count": 292,
   "id": "9d523b9c",
   "metadata": {},
   "outputs": [
    {
     "data": {
      "text/html": [
       "<table>\n",
       "<thead><tr><th scope=col>Sepal.Length</th><th scope=col>Sepal.Width</th><th scope=col>Petal.Length</th><th scope=col>Petal.Width</th></tr></thead>\n",
       "<tbody>\n",
       "\t<tr><td>5.1</td><td>3.5</td><td>1.4</td><td>0.2</td></tr>\n",
       "\t<tr><td>4.9</td><td>3.0</td><td>1.4</td><td>0.2</td></tr>\n",
       "\t<tr><td>4.7</td><td>3.2</td><td>1.3</td><td>0.2</td></tr>\n",
       "\t<tr><td>4.6</td><td>3.1</td><td>1.5</td><td>0.2</td></tr>\n",
       "\t<tr><td>5.0</td><td>3.6</td><td>1.4</td><td>0.2</td></tr>\n",
       "\t<tr><td>5.4</td><td>3.9</td><td>1.7</td><td>0.4</td></tr>\n",
       "\t<tr><td>4.6</td><td>3.4</td><td>1.4</td><td>0.3</td></tr>\n",
       "\t<tr><td>5.0</td><td>3.4</td><td>1.5</td><td>0.2</td></tr>\n",
       "\t<tr><td>4.4</td><td>2.9</td><td>1.4</td><td>0.2</td></tr>\n",
       "\t<tr><td>4.9</td><td>3.1</td><td>1.5</td><td>0.1</td></tr>\n",
       "\t<tr><td>5.4</td><td>3.7</td><td>1.5</td><td>0.2</td></tr>\n",
       "\t<tr><td>4.8</td><td>3.4</td><td>1.6</td><td>0.2</td></tr>\n",
       "\t<tr><td>4.8</td><td>3.0</td><td>1.4</td><td>0.1</td></tr>\n",
       "\t<tr><td>4.3</td><td>3.0</td><td>1.1</td><td>0.1</td></tr>\n",
       "\t<tr><td>5.8</td><td>4.0</td><td>1.2</td><td>0.2</td></tr>\n",
       "\t<tr><td>5.7</td><td>4.4</td><td>1.5</td><td>0.4</td></tr>\n",
       "\t<tr><td>5.4</td><td>3.9</td><td>1.3</td><td>0.4</td></tr>\n",
       "\t<tr><td>5.1</td><td>3.5</td><td>1.4</td><td>0.3</td></tr>\n",
       "\t<tr><td>5.7</td><td>3.8</td><td>1.7</td><td>0.3</td></tr>\n",
       "\t<tr><td>5.1</td><td>3.8</td><td>1.5</td><td>0.3</td></tr>\n",
       "\t<tr><td>5.4</td><td>3.4</td><td>1.7</td><td>0.2</td></tr>\n",
       "\t<tr><td>5.1</td><td>3.7</td><td>1.5</td><td>0.4</td></tr>\n",
       "\t<tr><td>4.6</td><td>3.6</td><td>1.0</td><td>0.2</td></tr>\n",
       "\t<tr><td>5.1</td><td>3.3</td><td>1.7</td><td>0.5</td></tr>\n",
       "\t<tr><td>4.8</td><td>3.4</td><td>1.9</td><td>0.2</td></tr>\n",
       "\t<tr><td>5.0</td><td>3.0</td><td>1.6</td><td>0.2</td></tr>\n",
       "\t<tr><td>5.0</td><td>3.4</td><td>1.6</td><td>0.4</td></tr>\n",
       "\t<tr><td>5.2</td><td>3.5</td><td>1.5</td><td>0.2</td></tr>\n",
       "\t<tr><td>5.2</td><td>3.4</td><td>1.4</td><td>0.2</td></tr>\n",
       "\t<tr><td>4.7</td><td>3.2</td><td>1.6</td><td>0.2</td></tr>\n",
       "\t<tr><td>...</td><td>...</td><td>...</td><td>...</td></tr>\n",
       "\t<tr><td>6.9</td><td>3.2</td><td>5.7</td><td>2.3</td></tr>\n",
       "\t<tr><td>5.6</td><td>2.8</td><td>4.9</td><td>2.0</td></tr>\n",
       "\t<tr><td>7.7</td><td>2.8</td><td>6.7</td><td>2.0</td></tr>\n",
       "\t<tr><td>6.3</td><td>2.7</td><td>4.9</td><td>1.8</td></tr>\n",
       "\t<tr><td>6.7</td><td>3.3</td><td>5.7</td><td>2.1</td></tr>\n",
       "\t<tr><td>7.2</td><td>3.2</td><td>6.0</td><td>1.8</td></tr>\n",
       "\t<tr><td>6.2</td><td>2.8</td><td>4.8</td><td>1.8</td></tr>\n",
       "\t<tr><td>6.1</td><td>3.0</td><td>4.9</td><td>1.8</td></tr>\n",
       "\t<tr><td>6.4</td><td>2.8</td><td>5.6</td><td>2.1</td></tr>\n",
       "\t<tr><td>7.2</td><td>3.0</td><td>5.8</td><td>1.6</td></tr>\n",
       "\t<tr><td>7.4</td><td>2.8</td><td>6.1</td><td>1.9</td></tr>\n",
       "\t<tr><td>7.9</td><td>3.8</td><td>6.4</td><td>2.0</td></tr>\n",
       "\t<tr><td>6.4</td><td>2.8</td><td>5.6</td><td>2.2</td></tr>\n",
       "\t<tr><td>6.3</td><td>2.8</td><td>5.1</td><td>1.5</td></tr>\n",
       "\t<tr><td>6.1</td><td>2.6</td><td>5.6</td><td>1.4</td></tr>\n",
       "\t<tr><td>7.7</td><td>3.0</td><td>6.1</td><td>2.3</td></tr>\n",
       "\t<tr><td>6.3</td><td>3.4</td><td>5.6</td><td>2.4</td></tr>\n",
       "\t<tr><td>6.4</td><td>3.1</td><td>5.5</td><td>1.8</td></tr>\n",
       "\t<tr><td>6.0</td><td>3.0</td><td>4.8</td><td>1.8</td></tr>\n",
       "\t<tr><td>6.9</td><td>3.1</td><td>5.4</td><td>2.1</td></tr>\n",
       "\t<tr><td>6.7</td><td>3.1</td><td>5.6</td><td>2.4</td></tr>\n",
       "\t<tr><td>6.9</td><td>3.1</td><td>5.1</td><td>2.3</td></tr>\n",
       "\t<tr><td>5.8</td><td>2.7</td><td>5.1</td><td>1.9</td></tr>\n",
       "\t<tr><td>6.8</td><td>3.2</td><td>5.9</td><td>2.3</td></tr>\n",
       "\t<tr><td>6.7</td><td>3.3</td><td>5.7</td><td>2.5</td></tr>\n",
       "\t<tr><td>6.7</td><td>3.0</td><td>5.2</td><td>2.3</td></tr>\n",
       "\t<tr><td>6.3</td><td>2.5</td><td>5.0</td><td>1.9</td></tr>\n",
       "\t<tr><td>6.5</td><td>3.0</td><td>5.2</td><td>2.0</td></tr>\n",
       "\t<tr><td>6.2</td><td>3.4</td><td>5.4</td><td>2.3</td></tr>\n",
       "\t<tr><td>5.9</td><td>3.0</td><td>5.1</td><td>1.8</td></tr>\n",
       "</tbody>\n",
       "</table>\n"
      ],
      "text/latex": [
       "\\begin{tabular}{r|llll}\n",
       " Sepal.Length & Sepal.Width & Petal.Length & Petal.Width\\\\\n",
       "\\hline\n",
       "\t 5.1 & 3.5 & 1.4 & 0.2\\\\\n",
       "\t 4.9 & 3.0 & 1.4 & 0.2\\\\\n",
       "\t 4.7 & 3.2 & 1.3 & 0.2\\\\\n",
       "\t 4.6 & 3.1 & 1.5 & 0.2\\\\\n",
       "\t 5.0 & 3.6 & 1.4 & 0.2\\\\\n",
       "\t 5.4 & 3.9 & 1.7 & 0.4\\\\\n",
       "\t 4.6 & 3.4 & 1.4 & 0.3\\\\\n",
       "\t 5.0 & 3.4 & 1.5 & 0.2\\\\\n",
       "\t 4.4 & 2.9 & 1.4 & 0.2\\\\\n",
       "\t 4.9 & 3.1 & 1.5 & 0.1\\\\\n",
       "\t 5.4 & 3.7 & 1.5 & 0.2\\\\\n",
       "\t 4.8 & 3.4 & 1.6 & 0.2\\\\\n",
       "\t 4.8 & 3.0 & 1.4 & 0.1\\\\\n",
       "\t 4.3 & 3.0 & 1.1 & 0.1\\\\\n",
       "\t 5.8 & 4.0 & 1.2 & 0.2\\\\\n",
       "\t 5.7 & 4.4 & 1.5 & 0.4\\\\\n",
       "\t 5.4 & 3.9 & 1.3 & 0.4\\\\\n",
       "\t 5.1 & 3.5 & 1.4 & 0.3\\\\\n",
       "\t 5.7 & 3.8 & 1.7 & 0.3\\\\\n",
       "\t 5.1 & 3.8 & 1.5 & 0.3\\\\\n",
       "\t 5.4 & 3.4 & 1.7 & 0.2\\\\\n",
       "\t 5.1 & 3.7 & 1.5 & 0.4\\\\\n",
       "\t 4.6 & 3.6 & 1.0 & 0.2\\\\\n",
       "\t 5.1 & 3.3 & 1.7 & 0.5\\\\\n",
       "\t 4.8 & 3.4 & 1.9 & 0.2\\\\\n",
       "\t 5.0 & 3.0 & 1.6 & 0.2\\\\\n",
       "\t 5.0 & 3.4 & 1.6 & 0.4\\\\\n",
       "\t 5.2 & 3.5 & 1.5 & 0.2\\\\\n",
       "\t 5.2 & 3.4 & 1.4 & 0.2\\\\\n",
       "\t 4.7 & 3.2 & 1.6 & 0.2\\\\\n",
       "\t ... & ... & ... & ...\\\\\n",
       "\t 6.9 & 3.2 & 5.7 & 2.3\\\\\n",
       "\t 5.6 & 2.8 & 4.9 & 2.0\\\\\n",
       "\t 7.7 & 2.8 & 6.7 & 2.0\\\\\n",
       "\t 6.3 & 2.7 & 4.9 & 1.8\\\\\n",
       "\t 6.7 & 3.3 & 5.7 & 2.1\\\\\n",
       "\t 7.2 & 3.2 & 6.0 & 1.8\\\\\n",
       "\t 6.2 & 2.8 & 4.8 & 1.8\\\\\n",
       "\t 6.1 & 3.0 & 4.9 & 1.8\\\\\n",
       "\t 6.4 & 2.8 & 5.6 & 2.1\\\\\n",
       "\t 7.2 & 3.0 & 5.8 & 1.6\\\\\n",
       "\t 7.4 & 2.8 & 6.1 & 1.9\\\\\n",
       "\t 7.9 & 3.8 & 6.4 & 2.0\\\\\n",
       "\t 6.4 & 2.8 & 5.6 & 2.2\\\\\n",
       "\t 6.3 & 2.8 & 5.1 & 1.5\\\\\n",
       "\t 6.1 & 2.6 & 5.6 & 1.4\\\\\n",
       "\t 7.7 & 3.0 & 6.1 & 2.3\\\\\n",
       "\t 6.3 & 3.4 & 5.6 & 2.4\\\\\n",
       "\t 6.4 & 3.1 & 5.5 & 1.8\\\\\n",
       "\t 6.0 & 3.0 & 4.8 & 1.8\\\\\n",
       "\t 6.9 & 3.1 & 5.4 & 2.1\\\\\n",
       "\t 6.7 & 3.1 & 5.6 & 2.4\\\\\n",
       "\t 6.9 & 3.1 & 5.1 & 2.3\\\\\n",
       "\t 5.8 & 2.7 & 5.1 & 1.9\\\\\n",
       "\t 6.8 & 3.2 & 5.9 & 2.3\\\\\n",
       "\t 6.7 & 3.3 & 5.7 & 2.5\\\\\n",
       "\t 6.7 & 3.0 & 5.2 & 2.3\\\\\n",
       "\t 6.3 & 2.5 & 5.0 & 1.9\\\\\n",
       "\t 6.5 & 3.0 & 5.2 & 2.0\\\\\n",
       "\t 6.2 & 3.4 & 5.4 & 2.3\\\\\n",
       "\t 5.9 & 3.0 & 5.1 & 1.8\\\\\n",
       "\\end{tabular}\n"
      ],
      "text/markdown": [
       "\n",
       "| Sepal.Length | Sepal.Width | Petal.Length | Petal.Width |\n",
       "|---|---|---|---|\n",
       "| 5.1 | 3.5 | 1.4 | 0.2 |\n",
       "| 4.9 | 3.0 | 1.4 | 0.2 |\n",
       "| 4.7 | 3.2 | 1.3 | 0.2 |\n",
       "| 4.6 | 3.1 | 1.5 | 0.2 |\n",
       "| 5.0 | 3.6 | 1.4 | 0.2 |\n",
       "| 5.4 | 3.9 | 1.7 | 0.4 |\n",
       "| 4.6 | 3.4 | 1.4 | 0.3 |\n",
       "| 5.0 | 3.4 | 1.5 | 0.2 |\n",
       "| 4.4 | 2.9 | 1.4 | 0.2 |\n",
       "| 4.9 | 3.1 | 1.5 | 0.1 |\n",
       "| 5.4 | 3.7 | 1.5 | 0.2 |\n",
       "| 4.8 | 3.4 | 1.6 | 0.2 |\n",
       "| 4.8 | 3.0 | 1.4 | 0.1 |\n",
       "| 4.3 | 3.0 | 1.1 | 0.1 |\n",
       "| 5.8 | 4.0 | 1.2 | 0.2 |\n",
       "| 5.7 | 4.4 | 1.5 | 0.4 |\n",
       "| 5.4 | 3.9 | 1.3 | 0.4 |\n",
       "| 5.1 | 3.5 | 1.4 | 0.3 |\n",
       "| 5.7 | 3.8 | 1.7 | 0.3 |\n",
       "| 5.1 | 3.8 | 1.5 | 0.3 |\n",
       "| 5.4 | 3.4 | 1.7 | 0.2 |\n",
       "| 5.1 | 3.7 | 1.5 | 0.4 |\n",
       "| 4.6 | 3.6 | 1.0 | 0.2 |\n",
       "| 5.1 | 3.3 | 1.7 | 0.5 |\n",
       "| 4.8 | 3.4 | 1.9 | 0.2 |\n",
       "| 5.0 | 3.0 | 1.6 | 0.2 |\n",
       "| 5.0 | 3.4 | 1.6 | 0.4 |\n",
       "| 5.2 | 3.5 | 1.5 | 0.2 |\n",
       "| 5.2 | 3.4 | 1.4 | 0.2 |\n",
       "| 4.7 | 3.2 | 1.6 | 0.2 |\n",
       "| ... | ... | ... | ... |\n",
       "| 6.9 | 3.2 | 5.7 | 2.3 |\n",
       "| 5.6 | 2.8 | 4.9 | 2.0 |\n",
       "| 7.7 | 2.8 | 6.7 | 2.0 |\n",
       "| 6.3 | 2.7 | 4.9 | 1.8 |\n",
       "| 6.7 | 3.3 | 5.7 | 2.1 |\n",
       "| 7.2 | 3.2 | 6.0 | 1.8 |\n",
       "| 6.2 | 2.8 | 4.8 | 1.8 |\n",
       "| 6.1 | 3.0 | 4.9 | 1.8 |\n",
       "| 6.4 | 2.8 | 5.6 | 2.1 |\n",
       "| 7.2 | 3.0 | 5.8 | 1.6 |\n",
       "| 7.4 | 2.8 | 6.1 | 1.9 |\n",
       "| 7.9 | 3.8 | 6.4 | 2.0 |\n",
       "| 6.4 | 2.8 | 5.6 | 2.2 |\n",
       "| 6.3 | 2.8 | 5.1 | 1.5 |\n",
       "| 6.1 | 2.6 | 5.6 | 1.4 |\n",
       "| 7.7 | 3.0 | 6.1 | 2.3 |\n",
       "| 6.3 | 3.4 | 5.6 | 2.4 |\n",
       "| 6.4 | 3.1 | 5.5 | 1.8 |\n",
       "| 6.0 | 3.0 | 4.8 | 1.8 |\n",
       "| 6.9 | 3.1 | 5.4 | 2.1 |\n",
       "| 6.7 | 3.1 | 5.6 | 2.4 |\n",
       "| 6.9 | 3.1 | 5.1 | 2.3 |\n",
       "| 5.8 | 2.7 | 5.1 | 1.9 |\n",
       "| 6.8 | 3.2 | 5.9 | 2.3 |\n",
       "| 6.7 | 3.3 | 5.7 | 2.5 |\n",
       "| 6.7 | 3.0 | 5.2 | 2.3 |\n",
       "| 6.3 | 2.5 | 5.0 | 1.9 |\n",
       "| 6.5 | 3.0 | 5.2 | 2.0 |\n",
       "| 6.2 | 3.4 | 5.4 | 2.3 |\n",
       "| 5.9 | 3.0 | 5.1 | 1.8 |\n",
       "\n"
      ],
      "text/plain": [
       "    Sepal.Length Sepal.Width Petal.Length Petal.Width\n",
       "1   5.1          3.5         1.4          0.2        \n",
       "2   4.9          3.0         1.4          0.2        \n",
       "3   4.7          3.2         1.3          0.2        \n",
       "4   4.6          3.1         1.5          0.2        \n",
       "5   5.0          3.6         1.4          0.2        \n",
       "6   5.4          3.9         1.7          0.4        \n",
       "7   4.6          3.4         1.4          0.3        \n",
       "8   5.0          3.4         1.5          0.2        \n",
       "9   4.4          2.9         1.4          0.2        \n",
       "10  4.9          3.1         1.5          0.1        \n",
       "11  5.4          3.7         1.5          0.2        \n",
       "12  4.8          3.4         1.6          0.2        \n",
       "13  4.8          3.0         1.4          0.1        \n",
       "14  4.3          3.0         1.1          0.1        \n",
       "15  5.8          4.0         1.2          0.2        \n",
       "16  5.7          4.4         1.5          0.4        \n",
       "17  5.4          3.9         1.3          0.4        \n",
       "18  5.1          3.5         1.4          0.3        \n",
       "19  5.7          3.8         1.7          0.3        \n",
       "20  5.1          3.8         1.5          0.3        \n",
       "21  5.4          3.4         1.7          0.2        \n",
       "22  5.1          3.7         1.5          0.4        \n",
       "23  4.6          3.6         1.0          0.2        \n",
       "24  5.1          3.3         1.7          0.5        \n",
       "25  4.8          3.4         1.9          0.2        \n",
       "26  5.0          3.0         1.6          0.2        \n",
       "27  5.0          3.4         1.6          0.4        \n",
       "28  5.2          3.5         1.5          0.2        \n",
       "29  5.2          3.4         1.4          0.2        \n",
       "30  4.7          3.2         1.6          0.2        \n",
       "... ...          ...         ...          ...        \n",
       "121 6.9          3.2         5.7          2.3        \n",
       "122 5.6          2.8         4.9          2.0        \n",
       "123 7.7          2.8         6.7          2.0        \n",
       "124 6.3          2.7         4.9          1.8        \n",
       "125 6.7          3.3         5.7          2.1        \n",
       "126 7.2          3.2         6.0          1.8        \n",
       "127 6.2          2.8         4.8          1.8        \n",
       "128 6.1          3.0         4.9          1.8        \n",
       "129 6.4          2.8         5.6          2.1        \n",
       "130 7.2          3.0         5.8          1.6        \n",
       "131 7.4          2.8         6.1          1.9        \n",
       "132 7.9          3.8         6.4          2.0        \n",
       "133 6.4          2.8         5.6          2.2        \n",
       "134 6.3          2.8         5.1          1.5        \n",
       "135 6.1          2.6         5.6          1.4        \n",
       "136 7.7          3.0         6.1          2.3        \n",
       "137 6.3          3.4         5.6          2.4        \n",
       "138 6.4          3.1         5.5          1.8        \n",
       "139 6.0          3.0         4.8          1.8        \n",
       "140 6.9          3.1         5.4          2.1        \n",
       "141 6.7          3.1         5.6          2.4        \n",
       "142 6.9          3.1         5.1          2.3        \n",
       "143 5.8          2.7         5.1          1.9        \n",
       "144 6.8          3.2         5.9          2.3        \n",
       "145 6.7          3.3         5.7          2.5        \n",
       "146 6.7          3.0         5.2          2.3        \n",
       "147 6.3          2.5         5.0          1.9        \n",
       "148 6.5          3.0         5.2          2.0        \n",
       "149 6.2          3.4         5.4          2.3        \n",
       "150 5.9          3.0         5.1          1.8        "
      ]
     },
     "metadata": {},
     "output_type": "display_data"
    }
   ],
   "source": [
    "# subset으로 컬럼 지우기 (only column)\n",
    "subset(iris, select = -Species)"
   ]
  },
  {
   "cell_type": "markdown",
   "id": "47203a53",
   "metadata": {},
   "source": [
    "---\n",
    "# 그룹연산 함수"
   ]
  },
  {
   "cell_type": "code",
   "execution_count": 294,
   "id": "53c1bc07",
   "metadata": {},
   "outputs": [
    {
     "data": {
      "text/html": [
       "<table>\n",
       "<thead><tr><th scope=col>Species</th><th scope=col>Sepal.Width</th></tr></thead>\n",
       "<tbody>\n",
       "\t<tr><td>setosa    </td><td>3.428     </td></tr>\n",
       "\t<tr><td>versicolor</td><td>2.770     </td></tr>\n",
       "\t<tr><td>virginica </td><td>2.974     </td></tr>\n",
       "</tbody>\n",
       "</table>\n"
      ],
      "text/latex": [
       "\\begin{tabular}{r|ll}\n",
       " Species & Sepal.Width\\\\\n",
       "\\hline\n",
       "\t setosa     & 3.428     \\\\\n",
       "\t versicolor & 2.770     \\\\\n",
       "\t virginica  & 2.974     \\\\\n",
       "\\end{tabular}\n"
      ],
      "text/markdown": [
       "\n",
       "| Species | Sepal.Width |\n",
       "|---|---|\n",
       "| setosa     | 3.428      |\n",
       "| versicolor | 2.770      |\n",
       "| virginica  | 2.974      |\n",
       "\n"
      ],
      "text/plain": [
       "  Species    Sepal.Width\n",
       "1 setosa     3.428      \n",
       "2 versicolor 2.770      \n",
       "3 virginica  2.974      "
      ]
     },
     "metadata": {},
     "output_type": "display_data"
    }
   ],
   "source": [
    "# iris에서 Species 기준으로 Sepal.Width의 평균 구하기\n",
    "\n",
    "aggregate(Sepal.Width ~ Species, iris, mean)"
   ]
  },
  {
   "cell_type": "markdown",
   "id": "e127d8fd",
   "metadata": {},
   "source": [
    "---\n",
    "# 서울시 교통사고 조사 데이터셋"
   ]
  },
  {
   "cell_type": "code",
   "execution_count": 296,
   "id": "c50168ee",
   "metadata": {},
   "outputs": [
    {
     "data": {
      "text/html": [
       "<table>\n",
       "<thead><tr><th scope=col>년도</th><th scope=col>월</th><th scope=col>자치구명</th><th scope=col>발생건수</th><th scope=col>사망자수</th><th scope=col>부상자수</th></tr></thead>\n",
       "<tbody>\n",
       "\t<tr><td>2011  </td><td>1     </td><td>종로구</td><td>115   </td><td>2     </td><td>165   </td></tr>\n",
       "\t<tr><td>2011  </td><td>2     </td><td>종로구</td><td> 99   </td><td>0     </td><td>134   </td></tr>\n",
       "\t<tr><td>2011  </td><td>3     </td><td>종로구</td><td>116   </td><td>0     </td><td>162   </td></tr>\n",
       "\t<tr><td>2011  </td><td>4     </td><td>종로구</td><td>110   </td><td>1     </td><td>153   </td></tr>\n",
       "\t<tr><td>2011  </td><td>5     </td><td>종로구</td><td>122   </td><td>0     </td><td>157   </td></tr>\n",
       "\t<tr><td>2011  </td><td>6     </td><td>종로구</td><td>116   </td><td>3     </td><td>163   </td></tr>\n",
       "</tbody>\n",
       "</table>\n"
      ],
      "text/latex": [
       "\\begin{tabular}{r|llllll}\n",
       " 년도 & 월 & 자치구명 & 발생건수 & 사망자수 & 부상자수\\\\\n",
       "\\hline\n",
       "\t 2011   & 1      & 종로구 & 115    & 2      & 165   \\\\\n",
       "\t 2011   & 2      & 종로구 &  99    & 0      & 134   \\\\\n",
       "\t 2011   & 3      & 종로구 & 116    & 0      & 162   \\\\\n",
       "\t 2011   & 4      & 종로구 & 110    & 1      & 153   \\\\\n",
       "\t 2011   & 5      & 종로구 & 122    & 0      & 157   \\\\\n",
       "\t 2011   & 6      & 종로구 & 116    & 3      & 163   \\\\\n",
       "\\end{tabular}\n"
      ],
      "text/markdown": [
       "\n",
       "| 년도 | 월 | 자치구명 | 발생건수 | 사망자수 | 부상자수 |\n",
       "|---|---|---|---|---|---|\n",
       "| 2011   | 1      | 종로구 | 115    | 2      | 165    |\n",
       "| 2011   | 2      | 종로구 |  99    | 0      | 134    |\n",
       "| 2011   | 3      | 종로구 | 116    | 0      | 162    |\n",
       "| 2011   | 4      | 종로구 | 110    | 1      | 153    |\n",
       "| 2011   | 5      | 종로구 | 122    | 0      | 157    |\n",
       "| 2011   | 6      | 종로구 | 116    | 3      | 163    |\n",
       "\n"
      ],
      "text/plain": [
       "  년도 월 자치구명 발생건수 사망자수 부상자수\n",
       "1 2011 1  종로구   115      2        165     \n",
       "2 2011 2  종로구    99      0        134     \n",
       "3 2011 3  종로구   116      0        162     \n",
       "4 2011 4  종로구   110      1        153     \n",
       "5 2011 5  종로구   122      0        157     \n",
       "6 2011 6  종로구   116      3        163     "
      ]
     },
     "metadata": {},
     "output_type": "display_data"
    }
   ],
   "source": [
    " # 데이터셋을 불러와서 seoul이라는 변수에 넣기\n",
    "seoul <- read.csv(\"../RFile/newSeoul2019.csv\")\n",
    "head(seoul)\n"
   ]
  },
  {
   "cell_type": "code",
   "execution_count": 297,
   "id": "32890beb",
   "metadata": {},
   "outputs": [
    {
     "data": {
      "text/html": [
       "<table>\n",
       "<thead><tr><th></th><th scope=col>년도</th><th scope=col>월</th><th scope=col>자치구명</th><th scope=col>발생건수</th><th scope=col>사망자수</th><th scope=col>부상자수</th></tr></thead>\n",
       "<tbody>\n",
       "\t<tr><th scope=row>2695</th><td>2019  </td><td> 7    </td><td>강동구</td><td>146   </td><td>2     </td><td>189   </td></tr>\n",
       "\t<tr><th scope=row>2696</th><td>2019  </td><td> 8    </td><td>강동구</td><td>127   </td><td>2     </td><td>175   </td></tr>\n",
       "\t<tr><th scope=row>2697</th><td>2019  </td><td> 9    </td><td>강동구</td><td> 98   </td><td>2     </td><td>137   </td></tr>\n",
       "\t<tr><th scope=row>2698</th><td>2019  </td><td>10    </td><td>강동구</td><td>108   </td><td>1     </td><td>144   </td></tr>\n",
       "\t<tr><th scope=row>2699</th><td>2019  </td><td>11    </td><td>강동구</td><td>146   </td><td>0     </td><td>199   </td></tr>\n",
       "\t<tr><th scope=row>2700</th><td>2019  </td><td>12    </td><td>강동구</td><td>108   </td><td>1     </td><td>131   </td></tr>\n",
       "</tbody>\n",
       "</table>\n"
      ],
      "text/latex": [
       "\\begin{tabular}{r|llllll}\n",
       "  & 년도 & 월 & 자치구명 & 발생건수 & 사망자수 & 부상자수\\\\\n",
       "\\hline\n",
       "\t2695 & 2019   &  7     & 강동구 & 146    & 2      & 189   \\\\\n",
       "\t2696 & 2019   &  8     & 강동구 & 127    & 2      & 175   \\\\\n",
       "\t2697 & 2019   &  9     & 강동구 &  98    & 2      & 137   \\\\\n",
       "\t2698 & 2019   & 10     & 강동구 & 108    & 1      & 144   \\\\\n",
       "\t2699 & 2019   & 11     & 강동구 & 146    & 0      & 199   \\\\\n",
       "\t2700 & 2019   & 12     & 강동구 & 108    & 1      & 131   \\\\\n",
       "\\end{tabular}\n"
      ],
      "text/markdown": [
       "\n",
       "| <!--/--> | 년도 | 월 | 자치구명 | 발생건수 | 사망자수 | 부상자수 |\n",
       "|---|---|---|---|---|---|---|\n",
       "| 2695 | 2019   |  7     | 강동구 | 146    | 2      | 189    |\n",
       "| 2696 | 2019   |  8     | 강동구 | 127    | 2      | 175    |\n",
       "| 2697 | 2019   |  9     | 강동구 |  98    | 2      | 137    |\n",
       "| 2698 | 2019   | 10     | 강동구 | 108    | 1      | 144    |\n",
       "| 2699 | 2019   | 11     | 강동구 | 146    | 0      | 199    |\n",
       "| 2700 | 2019   | 12     | 강동구 | 108    | 1      | 131    |\n",
       "\n"
      ],
      "text/plain": [
       "     년도 월 자치구명 발생건수 사망자수 부상자수\n",
       "2695 2019  7 강동구   146      2        189     \n",
       "2696 2019  8 강동구   127      2        175     \n",
       "2697 2019  9 강동구    98      2        137     \n",
       "2698 2019 10 강동구   108      1        144     \n",
       "2699 2019 11 강동구   146      0        199     \n",
       "2700 2019 12 강동구   108      1        131     "
      ]
     },
     "metadata": {},
     "output_type": "display_data"
    }
   ],
   "source": [
    "tail(seoul)"
   ]
  },
  {
   "cell_type": "code",
   "execution_count": 298,
   "id": "2df85bd6",
   "metadata": {},
   "outputs": [
    {
     "name": "stdout",
     "output_type": "stream",
     "text": [
      "'data.frame':\t2700 obs. of  6 variables:\n",
      " $ 년도    : int  2011 2011 2011 2011 2011 2011 2011 2011 2011 2011 ...\n",
      " $ 월      : int  1 2 3 4 5 6 7 8 9 10 ...\n",
      " $ 자치구명: Factor w/ 25 levels \"강남구\",\"강동구\",..: 23 23 23 23 23 23 23 23 23 23 ...\n",
      " $ 발생건수: int  115 99 116 110 122 116 103 122 121 135 ...\n",
      " $ 사망자수: int  2 0 0 1 0 3 1 1 2 2 ...\n",
      " $ 부상자수: int  165 134 162 153 157 163 154 171 166 193 ...\n"
     ]
    }
   ],
   "source": [
    "str(seoul)"
   ]
  },
  {
   "cell_type": "code",
   "execution_count": 299,
   "id": "bf7a4163",
   "metadata": {},
   "outputs": [
    {
     "data": {
      "text/plain": [
       "      년도            월           자치구명       발생건수        사망자수     \n",
       " Min.   :2011   Min.   : 1.00   강남구 : 108   Min.   : 45.0   Min.   : 0.000  \n",
       " 1st Qu.:2013   1st Qu.: 3.75   강동구 : 108   1st Qu.:100.0   1st Qu.: 0.000  \n",
       " Median :2015   Median : 6.50   강북구 : 108   Median :122.0   Median : 1.000  \n",
       " Mean   :2015   Mean   : 6.50   강서구 : 108   Mean   :133.3   Mean   : 1.207  \n",
       " 3rd Qu.:2017   3rd Qu.: 9.25   관악구 : 108   3rd Qu.:149.0   3rd Qu.: 2.000  \n",
       " Max.   :2019   Max.   :12.00   광진구 : 108   Max.   :383.0   Max.   :10.000  \n",
       "                                (Other):2052                                   \n",
       "    부상자수    \n",
       " Min.   : 55.0  \n",
       " 1st Qu.:138.0  \n",
       " Median :168.0  \n",
       " Mean   :187.4  \n",
       " 3rd Qu.:208.0  \n",
       " Max.   :552.0  \n",
       "                "
      ]
     },
     "metadata": {},
     "output_type": "display_data"
    }
   ],
   "source": [
    "summary(seoul)"
   ]
  },
  {
   "cell_type": "code",
   "execution_count": 318,
   "id": "48bfb216",
   "metadata": {},
   "outputs": [
    {
     "name": "stdout",
     "output_type": "stream",
     "text": [
      "년도 의 NA 개수 : 0 \n",
      "월 의 NA 개수 : 0 \n",
      "자치구명 의 NA 개수 : 0 \n",
      "발생건수 의 NA 개수 : 0 \n",
      "사망자수 의 NA 개수 : 0 \n",
      "부상자수 의 NA 개수 : 0 \n"
     ]
    }
   ],
   "source": [
    "\n",
    "\n",
    "for(i in 1:ncol(seoul)){\n",
    "    count <- sum(is.na(seoul[,i]))\n",
    "    cat(colnames(seoul[i]),\"의 NA 개수 :\",count,\"\\n\")\n",
    "}\n",
    "\n",
    "\n",
    "\n",
    "# sum(is.na(seoul[,i]))"
   ]
  },
  {
   "cell_type": "code",
   "execution_count": 305,
   "id": "c2014af7",
   "metadata": {},
   "outputs": [
    {
     "data": {
      "text/html": [
       "25"
      ],
      "text/latex": [
       "25"
      ],
      "text/markdown": [
       "25"
      ],
      "text/plain": [
       "[1] 25"
      ]
     },
     "metadata": {},
     "output_type": "display_data"
    }
   ],
   "source": [
    "sum(ifelse(unique(seoul$자치구명)==\"\",0,1))"
   ]
  },
  {
   "cell_type": "code",
   "execution_count": 309,
   "id": "0c213c92",
   "metadata": {},
   "outputs": [
    {
     "data": {
      "text/html": [
       "6"
      ],
      "text/latex": [
       "6"
      ],
      "text/markdown": [
       "6"
      ],
      "text/plain": [
       "[1] 6"
      ]
     },
     "metadata": {},
     "output_type": "display_data"
    }
   ],
   "source": [
    "ncol(seoul)"
   ]
  },
  {
   "cell_type": "code",
   "execution_count": 320,
   "id": "339d6608",
   "metadata": {},
   "outputs": [
    {
     "data": {
      "text/html": [
       "'년도'"
      ],
      "text/latex": [
       "'년도'"
      ],
      "text/markdown": [
       "'년도'"
      ],
      "text/plain": [
       "[1] \"년도\""
      ]
     },
     "metadata": {},
     "output_type": "display_data"
    }
   ],
   "source": [
    "colnames(seoul[1])"
   ]
  },
  {
   "cell_type": "code",
   "execution_count": 323,
   "id": "26a70e5d",
   "metadata": {},
   "outputs": [
    {
     "data": {
      "text/plain": [
       "\n",
       "2011 2012 2013 2014 2015 2016 2017 2018 2019 \n",
       " 300  300  300  300  300  300  300  300  300 "
      ]
     },
     "metadata": {},
     "output_type": "display_data"
    }
   ],
   "source": [
    "table(seoul$년도)"
   ]
  },
  {
   "cell_type": "code",
   "execution_count": 324,
   "id": "0c8475ba",
   "metadata": {},
   "outputs": [
    {
     "data": {
      "text/plain": [
       "\n",
       "  1   2   3   4   5   6   7   8   9  10  11  12 \n",
       "225 225 225 225 225 225 225 225 225 225 225 225 "
      ]
     },
     "metadata": {},
     "output_type": "display_data"
    }
   ],
   "source": [
    "table(seoul$월)"
   ]
  },
  {
   "cell_type": "code",
   "execution_count": 328,
   "id": "324e2674",
   "metadata": {},
   "outputs": [],
   "source": [
    "# for(i in 1:ncol(seoul)){\n",
    "#     table(seoul[,i])\n",
    "# }"
   ]
  },
  {
   "cell_type": "code",
   "execution_count": 343,
   "id": "187fc172",
   "metadata": {},
   "outputs": [
    {
     "data": {
      "text/html": [
       "<table>\n",
       "<thead><tr><th scope=col>자치구명</th><th scope=col>발생건수</th></tr></thead>\n",
       "<tbody>\n",
       "\t<tr><td>강남구  </td><td>306.3611</td></tr>\n",
       "\t<tr><td>강동구  </td><td>118.5370</td></tr>\n",
       "\t<tr><td>강북구  </td><td>101.7870</td></tr>\n",
       "\t<tr><td>강서구  </td><td>145.4722</td></tr>\n",
       "\t<tr><td>관악구  </td><td>128.3889</td></tr>\n",
       "\t<tr><td>광진구  </td><td>103.0741</td></tr>\n",
       "</tbody>\n",
       "</table>\n"
      ],
      "text/latex": [
       "\\begin{tabular}{r|ll}\n",
       " 자치구명 & 발생건수\\\\\n",
       "\\hline\n",
       "\t 강남구   & 306.3611\\\\\n",
       "\t 강동구   & 118.5370\\\\\n",
       "\t 강북구   & 101.7870\\\\\n",
       "\t 강서구   & 145.4722\\\\\n",
       "\t 관악구   & 128.3889\\\\\n",
       "\t 광진구   & 103.0741\\\\\n",
       "\\end{tabular}\n"
      ],
      "text/markdown": [
       "\n",
       "| 자치구명 | 발생건수 |\n",
       "|---|---|\n",
       "| 강남구   | 306.3611 |\n",
       "| 강동구   | 118.5370 |\n",
       "| 강북구   | 101.7870 |\n",
       "| 강서구   | 145.4722 |\n",
       "| 관악구   | 128.3889 |\n",
       "| 광진구   | 103.0741 |\n",
       "\n"
      ],
      "text/plain": [
       "  자치구명 발생건수\n",
       "1 강남구   306.3611\n",
       "2 강동구   118.5370\n",
       "3 강북구   101.7870\n",
       "4 강서구   145.4722\n",
       "5 관악구   128.3889\n",
       "6 광진구   103.0741"
      ]
     },
     "metadata": {},
     "output_type": "display_data"
    }
   ],
   "source": [
    "# 자치구별 발생건수의 평균\n",
    "\n",
    "regionAcc.mean <- aggregate(발생건수 ~ 자치구명, seoul, mean)\n",
    "head(regionAcc.mean)"
   ]
  },
  {
   "cell_type": "code",
   "execution_count": 344,
   "id": "0b14073a",
   "metadata": {},
   "outputs": [
    {
     "data": {
      "text/html": [
       "<table>\n",
       "<thead><tr><th scope=col>자치구명</th><th scope=col>발생건수</th></tr></thead>\n",
       "<tbody>\n",
       "\t<tr><td>강남구   </td><td>306.36111</td></tr>\n",
       "\t<tr><td>송파구   </td><td>224.75926</td></tr>\n",
       "\t<tr><td>영등포구 </td><td>194.64815</td></tr>\n",
       "\t<tr><td>서초구   </td><td>186.48148</td></tr>\n",
       "\t<tr><td>동대문구 </td><td>153.64815</td></tr>\n",
       "\t<tr><td>강서구   </td><td>145.47222</td></tr>\n",
       "\t<tr><td>마포구   </td><td>141.51852</td></tr>\n",
       "\t<tr><td>중랑구   </td><td>138.46296</td></tr>\n",
       "\t<tr><td>성북구   </td><td>130.85185</td></tr>\n",
       "\t<tr><td>노원구   </td><td>129.21296</td></tr>\n",
       "\t<tr><td>관악구   </td><td>128.38889</td></tr>\n",
       "\t<tr><td>구로구   </td><td>126.09259</td></tr>\n",
       "\t<tr><td>양천구   </td><td>120.68519</td></tr>\n",
       "\t<tr><td>강동구   </td><td>118.53704</td></tr>\n",
       "\t<tr><td>동작구   </td><td>112.64815</td></tr>\n",
       "\t<tr><td>용산구   </td><td>110.29630</td></tr>\n",
       "\t<tr><td>중구     </td><td>110.11111</td></tr>\n",
       "\t<tr><td>종로구   </td><td>106.97222</td></tr>\n",
       "\t<tr><td>은평구   </td><td>104.32407</td></tr>\n",
       "\t<tr><td>광진구   </td><td>103.07407</td></tr>\n",
       "\t<tr><td>강북구   </td><td>101.78704</td></tr>\n",
       "\t<tr><td>성동구   </td><td> 93.19444</td></tr>\n",
       "\t<tr><td>서대문구 </td><td> 89.71296</td></tr>\n",
       "\t<tr><td>금천구   </td><td> 78.69444</td></tr>\n",
       "\t<tr><td>도봉구   </td><td> 76.40741</td></tr>\n",
       "</tbody>\n",
       "</table>\n"
      ],
      "text/latex": [
       "\\begin{tabular}{r|ll}\n",
       " 자치구명 & 발생건수\\\\\n",
       "\\hline\n",
       "\t 강남구    & 306.36111\\\\\n",
       "\t 송파구    & 224.75926\\\\\n",
       "\t 영등포구  & 194.64815\\\\\n",
       "\t 서초구    & 186.48148\\\\\n",
       "\t 동대문구  & 153.64815\\\\\n",
       "\t 강서구    & 145.47222\\\\\n",
       "\t 마포구    & 141.51852\\\\\n",
       "\t 중랑구    & 138.46296\\\\\n",
       "\t 성북구    & 130.85185\\\\\n",
       "\t 노원구    & 129.21296\\\\\n",
       "\t 관악구    & 128.38889\\\\\n",
       "\t 구로구    & 126.09259\\\\\n",
       "\t 양천구    & 120.68519\\\\\n",
       "\t 강동구    & 118.53704\\\\\n",
       "\t 동작구    & 112.64815\\\\\n",
       "\t 용산구    & 110.29630\\\\\n",
       "\t 중구      & 110.11111\\\\\n",
       "\t 종로구    & 106.97222\\\\\n",
       "\t 은평구    & 104.32407\\\\\n",
       "\t 광진구    & 103.07407\\\\\n",
       "\t 강북구    & 101.78704\\\\\n",
       "\t 성동구    &  93.19444\\\\\n",
       "\t 서대문구  &  89.71296\\\\\n",
       "\t 금천구    &  78.69444\\\\\n",
       "\t 도봉구    &  76.40741\\\\\n",
       "\\end{tabular}\n"
      ],
      "text/markdown": [
       "\n",
       "| 자치구명 | 발생건수 |\n",
       "|---|---|\n",
       "| 강남구    | 306.36111 |\n",
       "| 송파구    | 224.75926 |\n",
       "| 영등포구  | 194.64815 |\n",
       "| 서초구    | 186.48148 |\n",
       "| 동대문구  | 153.64815 |\n",
       "| 강서구    | 145.47222 |\n",
       "| 마포구    | 141.51852 |\n",
       "| 중랑구    | 138.46296 |\n",
       "| 성북구    | 130.85185 |\n",
       "| 노원구    | 129.21296 |\n",
       "| 관악구    | 128.38889 |\n",
       "| 구로구    | 126.09259 |\n",
       "| 양천구    | 120.68519 |\n",
       "| 강동구    | 118.53704 |\n",
       "| 동작구    | 112.64815 |\n",
       "| 용산구    | 110.29630 |\n",
       "| 중구      | 110.11111 |\n",
       "| 종로구    | 106.97222 |\n",
       "| 은평구    | 104.32407 |\n",
       "| 광진구    | 103.07407 |\n",
       "| 강북구    | 101.78704 |\n",
       "| 성동구    |  93.19444 |\n",
       "| 서대문구  |  89.71296 |\n",
       "| 금천구    |  78.69444 |\n",
       "| 도봉구    |  76.40741 |\n",
       "\n"
      ],
      "text/plain": [
       "   자치구명 발생건수 \n",
       "1  강남구   306.36111\n",
       "2  송파구   224.75926\n",
       "3  영등포구 194.64815\n",
       "4  서초구   186.48148\n",
       "5  동대문구 153.64815\n",
       "6  강서구   145.47222\n",
       "7  마포구   141.51852\n",
       "8  중랑구   138.46296\n",
       "9  성북구   130.85185\n",
       "10 노원구   129.21296\n",
       "11 관악구   128.38889\n",
       "12 구로구   126.09259\n",
       "13 양천구   120.68519\n",
       "14 강동구   118.53704\n",
       "15 동작구   112.64815\n",
       "16 용산구   110.29630\n",
       "17 중구     110.11111\n",
       "18 종로구   106.97222\n",
       "19 은평구   104.32407\n",
       "20 광진구   103.07407\n",
       "21 강북구   101.78704\n",
       "22 성동구    93.19444\n",
       "23 서대문구  89.71296\n",
       "24 금천구    78.69444\n",
       "25 도봉구    76.40741"
      ]
     },
     "metadata": {},
     "output_type": "display_data"
    }
   ],
   "source": [
    "# regionAcc.mean을 발생건수 기준으로 내림차순 정렬하기\n",
    "arrange(regionAcc.mean,desc(발생건수))"
   ]
  },
  {
   "cell_type": "code",
   "execution_count": 339,
   "id": "89427820",
   "metadata": {},
   "outputs": [],
   "source": [
    "seoul자치구별_발생건수 <- arrange(aggregate(발생건수 ~ 자치구명, seoul, mean),desc(발생건수))"
   ]
  },
  {
   "cell_type": "code",
   "execution_count": 341,
   "id": "071c7c32",
   "metadata": {},
   "outputs": [],
   "source": [
    "seoul자치구별_발생건수$발생건수 <- round(seoul자치구별_발생건수$발생건수,2)"
   ]
  },
  {
   "cell_type": "code",
   "execution_count": 342,
   "id": "e963ef18",
   "metadata": {},
   "outputs": [
    {
     "data": {
      "text/html": [
       "<table>\n",
       "<thead><tr><th scope=col>자치구명</th><th scope=col>발생건수</th></tr></thead>\n",
       "<tbody>\n",
       "\t<tr><td>강남구  </td><td>306.36  </td></tr>\n",
       "\t<tr><td>송파구  </td><td>224.76  </td></tr>\n",
       "\t<tr><td>영등포구</td><td>194.65  </td></tr>\n",
       "\t<tr><td>서초구  </td><td>186.48  </td></tr>\n",
       "\t<tr><td>동대문구</td><td>153.65  </td></tr>\n",
       "\t<tr><td>강서구  </td><td>145.47  </td></tr>\n",
       "\t<tr><td>마포구  </td><td>141.52  </td></tr>\n",
       "\t<tr><td>중랑구  </td><td>138.46  </td></tr>\n",
       "\t<tr><td>성북구  </td><td>130.85  </td></tr>\n",
       "\t<tr><td>노원구  </td><td>129.21  </td></tr>\n",
       "\t<tr><td>관악구  </td><td>128.39  </td></tr>\n",
       "\t<tr><td>구로구  </td><td>126.09  </td></tr>\n",
       "\t<tr><td>양천구  </td><td>120.69  </td></tr>\n",
       "\t<tr><td>강동구  </td><td>118.54  </td></tr>\n",
       "\t<tr><td>동작구  </td><td>112.65  </td></tr>\n",
       "\t<tr><td>용산구  </td><td>110.30  </td></tr>\n",
       "\t<tr><td>중구    </td><td>110.11  </td></tr>\n",
       "\t<tr><td>종로구  </td><td>106.97  </td></tr>\n",
       "\t<tr><td>은평구  </td><td>104.32  </td></tr>\n",
       "\t<tr><td>광진구  </td><td>103.07  </td></tr>\n",
       "\t<tr><td>강북구  </td><td>101.79  </td></tr>\n",
       "\t<tr><td>성동구  </td><td> 93.19  </td></tr>\n",
       "\t<tr><td>서대문구</td><td> 89.71  </td></tr>\n",
       "\t<tr><td>금천구  </td><td> 78.69  </td></tr>\n",
       "\t<tr><td>도봉구  </td><td> 76.41  </td></tr>\n",
       "</tbody>\n",
       "</table>\n"
      ],
      "text/latex": [
       "\\begin{tabular}{r|ll}\n",
       " 자치구명 & 발생건수\\\\\n",
       "\\hline\n",
       "\t 강남구   & 306.36  \\\\\n",
       "\t 송파구   & 224.76  \\\\\n",
       "\t 영등포구 & 194.65  \\\\\n",
       "\t 서초구   & 186.48  \\\\\n",
       "\t 동대문구 & 153.65  \\\\\n",
       "\t 강서구   & 145.47  \\\\\n",
       "\t 마포구   & 141.52  \\\\\n",
       "\t 중랑구   & 138.46  \\\\\n",
       "\t 성북구   & 130.85  \\\\\n",
       "\t 노원구   & 129.21  \\\\\n",
       "\t 관악구   & 128.39  \\\\\n",
       "\t 구로구   & 126.09  \\\\\n",
       "\t 양천구   & 120.69  \\\\\n",
       "\t 강동구   & 118.54  \\\\\n",
       "\t 동작구   & 112.65  \\\\\n",
       "\t 용산구   & 110.30  \\\\\n",
       "\t 중구     & 110.11  \\\\\n",
       "\t 종로구   & 106.97  \\\\\n",
       "\t 은평구   & 104.32  \\\\\n",
       "\t 광진구   & 103.07  \\\\\n",
       "\t 강북구   & 101.79  \\\\\n",
       "\t 성동구   &  93.19  \\\\\n",
       "\t 서대문구 &  89.71  \\\\\n",
       "\t 금천구   &  78.69  \\\\\n",
       "\t 도봉구   &  76.41  \\\\\n",
       "\\end{tabular}\n"
      ],
      "text/markdown": [
       "\n",
       "| 자치구명 | 발생건수 |\n",
       "|---|---|\n",
       "| 강남구   | 306.36   |\n",
       "| 송파구   | 224.76   |\n",
       "| 영등포구 | 194.65   |\n",
       "| 서초구   | 186.48   |\n",
       "| 동대문구 | 153.65   |\n",
       "| 강서구   | 145.47   |\n",
       "| 마포구   | 141.52   |\n",
       "| 중랑구   | 138.46   |\n",
       "| 성북구   | 130.85   |\n",
       "| 노원구   | 129.21   |\n",
       "| 관악구   | 128.39   |\n",
       "| 구로구   | 126.09   |\n",
       "| 양천구   | 120.69   |\n",
       "| 강동구   | 118.54   |\n",
       "| 동작구   | 112.65   |\n",
       "| 용산구   | 110.30   |\n",
       "| 중구     | 110.11   |\n",
       "| 종로구   | 106.97   |\n",
       "| 은평구   | 104.32   |\n",
       "| 광진구   | 103.07   |\n",
       "| 강북구   | 101.79   |\n",
       "| 성동구   |  93.19   |\n",
       "| 서대문구 |  89.71   |\n",
       "| 금천구   |  78.69   |\n",
       "| 도봉구   |  76.41   |\n",
       "\n"
      ],
      "text/plain": [
       "   자치구명 발생건수\n",
       "1  강남구   306.36  \n",
       "2  송파구   224.76  \n",
       "3  영등포구 194.65  \n",
       "4  서초구   186.48  \n",
       "5  동대문구 153.65  \n",
       "6  강서구   145.47  \n",
       "7  마포구   141.52  \n",
       "8  중랑구   138.46  \n",
       "9  성북구   130.85  \n",
       "10 노원구   129.21  \n",
       "11 관악구   128.39  \n",
       "12 구로구   126.09  \n",
       "13 양천구   120.69  \n",
       "14 강동구   118.54  \n",
       "15 동작구   112.65  \n",
       "16 용산구   110.30  \n",
       "17 중구     110.11  \n",
       "18 종로구   106.97  \n",
       "19 은평구   104.32  \n",
       "20 광진구   103.07  \n",
       "21 강북구   101.79  \n",
       "22 성동구    93.19  \n",
       "23 서대문구  89.71  \n",
       "24 금천구    78.69  \n",
       "25 도봉구    76.41  "
      ]
     },
     "metadata": {},
     "output_type": "display_data"
    }
   ],
   "source": [
    "seoul자치구별_발생건수"
   ]
  },
  {
   "cell_type": "code",
   "execution_count": 350,
   "id": "dc144e1a",
   "metadata": {},
   "outputs": [
    {
     "data": {
      "image/png": "[encoded data removed]",
      "text/plain": [
       "Plot with title “서울 2011-2019 자치구별 교통사고 발생건수”"
      ]
     },
     "metadata": {},
     "output_type": "display_data"
    }
   ],
   "source": [
    "options(scipen = 100)\n",
    "options(warn = -1)\n",
    "par(family = \"AppleGothic\")\n",
    "barplot(seoul자치구별_발생건수$발생건수, # GDP상위 15개국 Data\n",
    "        main = \"서울 2011-2019 자치구별 교통사고 발생건수\",\n",
    "        xlab = \"자치구명\",\n",
    "        ylab = \"단위(명)\",\n",
    "        names = seoul자치구별_발생건수$자치구명,\n",
    "        \n",
    "        cex.names = 0.7,\n",
    "#         col = c('red','blue','green')\n",
    "\n",
    "         ylim = c(0, 350)\n",
    "       )"
   ]
  },
  {
   "cell_type": "code",
   "execution_count": null,
   "id": "f6a73c9c",
   "metadata": {},
   "outputs": [],
   "source": []
  },
  {
   "cell_type": "code",
   "execution_count": null,
   "id": "cc36fc73",
   "metadata": {},
   "outputs": [],
   "source": []
  },
  {
   "cell_type": "code",
   "execution_count": null,
   "id": "63af782e",
   "metadata": {},
   "outputs": [],
   "source": []
  },
  {
   "cell_type": "code",
   "execution_count": null,
   "id": "5ba771f6",
   "metadata": {},
   "outputs": [],
   "source": []
  },
  {
   "cell_type": "code",
   "execution_count": null,
   "id": "5395740d",
   "metadata": {},
   "outputs": [],
   "source": []
  },
  {
   "cell_type": "code",
   "execution_count": null,
   "id": "4324c4c5",
   "metadata": {},
   "outputs": [],
   "source": []
  },
  {
   "cell_type": "code",
   "execution_count": null,
   "id": "cc19583a",
   "metadata": {},
   "outputs": [],
   "source": []
  }
 ],
 "metadata": {
  "kernelspec": {
   "display_name": "R",
   "language": "R",
   "name": "ir"
  },
  "language_info": {
   "codemirror_mode": "r",
   "file_extension": ".r",
   "mimetype": "text/x-r-source",
   "name": "R",
   "pygments_lexer": "r",
   "version": "3.6.1"
  }
 },
 "nbformat": 4,
 "nbformat_minor": 5
}
