{
 "cells": [
  {
   "cell_type": "code",
   "execution_count": 1,
   "id": "345cabcb",
   "metadata": {},
   "outputs": [
    {
     "name": "stderr",
     "output_type": "stream",
     "text": [
      "Loading required package: lattice\n",
      "Loading required package: ggplot2\n",
      "Registered S3 methods overwritten by 'ggplot2':\n",
      "  method         from \n",
      "  [.quosures     rlang\n",
      "  c.quosures     rlang\n",
      "  print.quosures rlang\n"
     ]
    }
   ],
   "source": [
    "library(caret)"
   ]
  },
  {
   "cell_type": "code",
   "execution_count": 13,
   "id": "2672bfe1",
   "metadata": {},
   "outputs": [
    {
     "data": {
      "text/html": [
       "<table>\n",
       "<thead><tr><th></th><th scope=col>예측력</th></tr></thead>\n",
       "<tbody>\n",
       "\t<tr><th scope=row>인공신경망</th><td>0</td></tr>\n",
       "\t<tr><th scope=row>의사결정나무</th><td>0</td></tr>\n",
       "\t<tr><th scope=row>RandomForest</th><td>0</td></tr>\n",
       "\t<tr><th scope=row>SVM</th><td>0</td></tr>\n",
       "\t<tr><th scope=row>로지스틱회귀분석</th><td>0</td></tr>\n",
       "</tbody>\n",
       "</table>\n"
      ],
      "text/latex": [
       "\\begin{tabular}{r|l}\n",
       "  & 예측력\\\\\n",
       "\\hline\n",
       "\t인공신경망 & 0\\\\\n",
       "\t의사결정나무 & 0\\\\\n",
       "\tRandomForest & 0\\\\\n",
       "\tSVM & 0\\\\\n",
       "\t로지스틱회귀분석 & 0\\\\\n",
       "\\end{tabular}\n"
      ],
      "text/markdown": [
       "\n",
       "| <!--/--> | 예측력 |\n",
       "|---|---|\n",
       "| 인공신경망 | 0 |\n",
       "| 의사결정나무 | 0 |\n",
       "| RandomForest | 0 |\n",
       "| SVM | 0 |\n",
       "| 로지스틱회귀분석 | 0 |\n",
       "\n"
      ],
      "text/plain": [
       "                 예측력\n",
       "인공신경망       0     \n",
       "의사결정나무     0     \n",
       "RandomForest     0     \n",
       "SVM              0     \n",
       "로지스틱회귀분석 0     "
      ]
     },
     "metadata": {},
     "output_type": "display_data"
    }
   ],
   "source": [
    "\n",
    "ML_예측력 <- data.frame(예측력=c(0,0,0,0,0))\n",
    "rownames(ML_예측력) <- c('인공신경망', '의사결정나무', 'RandomForest', 'SVM', '로지스틱회귀분석')\n",
    "ML_예측력"
   ]
  },
  {
   "cell_type": "code",
   "execution_count": 80,
   "id": "a9f8dc33",
   "metadata": {},
   "outputs": [],
   "source": [
    "# Sampling\n",
    "set.seed(1234)\n",
    "samp <- createDataPartition(iris$Species, p=0.7, list = F)\n",
    "# 학습용 데이터 만들기\n",
    "data.tr <- iris[samp,]\n",
    "# 검증용 데이터 만들기\n",
    "data.test <- iris[-samp,]\n",
    "# 문제 및 정답 만들기\n",
    "x <- subset(data.test, select = -Species)\n",
    "y <- data.test$Species\n"
   ]
  },
  {
   "cell_type": "code",
   "execution_count": 39,
   "id": "45c0d65f",
   "metadata": {},
   "outputs": [],
   "source": [
    "# iris2 <- scale(iris[,-5])\n",
    "\n",
    "# iris2 <- as.data.frame(iris2)\n",
    "# iris2$Species <- iris$Species\n",
    "# head(iris2)\n",
    "# tail(iris2)"
   ]
  },
  {
   "cell_type": "code",
   "execution_count": 40,
   "id": "bc7002e2",
   "metadata": {},
   "outputs": [],
   "source": [
    "# set.seed(1234)\n",
    "# samp <- createDataPartition(iris2$Species, p=0.7, list = F)\n",
    "# # 학습용 데이터 만들기\n",
    "# data.tr <- iris2[samp,]\n",
    "# # 검증용 데이터 만들기\n",
    "# data.test <- iris2[-samp,]\n",
    "# # 문제 및 정답 만들기\n",
    "# x <- subset(data.test, select = -Species)\n",
    "# y <- data.test$Species"
   ]
  },
  {
   "cell_type": "code",
   "execution_count": 101,
   "id": "7daf587f",
   "metadata": {},
   "outputs": [],
   "source": [
    "인공신경망 <- function(){\n",
    "    result <- c()\n",
    "    for(i in 1:5){\n",
    "\n",
    "    # 인공 신경망\n",
    "    library(nnet)\n",
    "\n",
    "    # Model 만들기\n",
    "    model.nnet <- nnet(Species ~ ., data=data.tr, size=3)\n",
    "    # size:은닉층 갯수로 sample수보다 작아야 함. (Hyper Parameter)\n",
    "\n",
    "    # 검증\n",
    "\n",
    "    pred <- predict(model.nnet, x, type = \"class\") # class : 분류된것(객관식), raw : 주관식\n",
    "\n",
    "    # 예측력\n",
    "    result <- append(result,mean(pred == y))\n",
    "    \n",
    "    }\n",
    "    mean(result)\n",
    "\n",
    "#     ML_예측력[1,1] <- mean(pred == y)\n",
    "\n",
    "}\n"
   ]
  },
  {
   "cell_type": "code",
   "execution_count": 59,
   "id": "815ca1b0",
   "metadata": {},
   "outputs": [],
   "source": [
    "의사결정나무 <- function(){\n",
    "\n",
    "# 의사결정나무\n",
    "library(party)\n",
    "\n",
    "# 학습시키기\n",
    "model.ctree <- ctree(Species ~., data=data.tr)\n",
    "\n",
    "# 검증하기\n",
    "pred <- predict(model.ctree, x)\n",
    "\n",
    "# 예측율\n",
    "mean(pred == y)\n",
    "# ML_예측력[2,1] <- mean(pred == y)\n",
    "        \n",
    "}"
   ]
  },
  {
   "cell_type": "code",
   "execution_count": 60,
   "id": "512fbc23",
   "metadata": {},
   "outputs": [],
   "source": [
    "랜덤포레스트 <- function(){\n",
    "\n",
    "# 렌덤포레스트\n",
    "library(randomForest)\n",
    "\n",
    "\n",
    "# 학습시키기\n",
    "model.rf <- randomForest(Species ~ ., data = data.tr, ntree=100)\n",
    "\n",
    "# 검증하기\n",
    "pred <- predict(model.rf, x)\n",
    "\n",
    "# 예측율\n",
    "mean(pred == y)\n",
    "# ML_예측력[3,1] <- mean(pred == y)\n",
    "        \n",
    "}"
   ]
  },
  {
   "cell_type": "code",
   "execution_count": 61,
   "id": "e93ecda8",
   "metadata": {},
   "outputs": [],
   "source": [
    "SVM <- function(){\n",
    "# SVM\n",
    "library(e1071)\n",
    "\n",
    "# 학습시키기\n",
    "model.svm = svm(Species ~., data=data.tr)\n",
    "\n",
    "# 검증하기\n",
    "pred <- predict(model.svm, x, type=\"class\")\n",
    "\n",
    "# 예측율\n",
    "mean(pred == y)\n",
    "# ML_예측력[4,1] <- mean(pred == y)\n",
    "        \n",
    "}"
   ]
  },
  {
   "cell_type": "code",
   "execution_count": 62,
   "id": "e2243125",
   "metadata": {},
   "outputs": [],
   "source": [
    "로지스틱회귀분석 <- function(){\n",
    "\n",
    "#로지스틱회귀분석\n",
    "library(nnet)\n",
    "\n",
    "# 학습시키기\n",
    "model <- multinom(Species ~., data=data.tr)\n",
    "\n",
    "# 검증하기\n",
    "pred <- predict(model, x, type=\"class\")\n",
    "\n",
    "# 예측율\n",
    "mean(pred == y)\n",
    "# ML_예측력[5,1] <- mean(pred == y)\n",
    "        \n",
    "}"
   ]
  },
  {
   "cell_type": "code",
   "execution_count": 104,
   "id": "d059361c",
   "metadata": {},
   "outputs": [
    {
     "name": "stdout",
     "output_type": "stream",
     "text": [
      "# weights:  27\n",
      "initial  value 145.079888 \n",
      "iter  10 value 105.152657\n",
      "iter  20 value 18.283466\n",
      "iter  30 value 3.673857\n",
      "iter  40 value 0.058064\n",
      "iter  50 value 0.000897\n",
      "final  value 0.000036 \n",
      "converged\n",
      "# weights:  27\n",
      "initial  value 115.811095 \n",
      "iter  10 value 10.325307\n",
      "iter  20 value 0.267878\n",
      "iter  30 value 0.004408\n",
      "iter  40 value 0.000240\n",
      "final  value 0.000086 \n",
      "converged\n",
      "# weights:  27\n",
      "initial  value 121.823560 \n",
      "iter  10 value 45.754947\n",
      "iter  20 value 5.692852\n",
      "iter  30 value 0.031007\n",
      "iter  40 value 0.000390\n",
      "iter  50 value 0.000140\n",
      "iter  60 value 0.000102\n",
      "iter  60 value 0.000091\n",
      "iter  60 value 0.000090\n",
      "final  value 0.000090 \n",
      "converged\n",
      "# weights:  27\n",
      "initial  value 120.047242 \n",
      "iter  10 value 18.857832\n",
      "iter  20 value 0.276786\n",
      "iter  30 value 0.000465\n",
      "final  value 0.000058 \n",
      "converged\n",
      "# weights:  27\n",
      "initial  value 111.890868 \n",
      "iter  10 value 37.566161\n",
      "iter  20 value 0.032879\n",
      "final  value 0.000091 \n",
      "converged\n",
      "# weights:  18 (10 variable)\n",
      "initial  value 115.354290 \n",
      "iter  10 value 10.451001\n",
      "iter  20 value 0.395906\n",
      "iter  30 value 0.063643\n",
      "iter  40 value 0.032814\n",
      "iter  50 value 0.023376\n",
      "iter  60 value 0.021200\n",
      "iter  70 value 0.019040\n",
      "iter  80 value 0.017101\n",
      "iter  90 value 0.012218\n",
      "iter 100 value 0.011383\n",
      "final  value 0.011383 \n",
      "stopped after 100 iterations\n"
     ]
    },
    {
     "data": {
      "text/html": [
       "<table>\n",
       "<thead><tr><th></th><th scope=col>예측력</th></tr></thead>\n",
       "<tbody>\n",
       "\t<tr><th scope=row>인공신경망</th><td>0.9377778</td></tr>\n",
       "\t<tr><th scope=row>의사결정나무</th><td>0.8888889</td></tr>\n",
       "\t<tr><th scope=row>RandomForest</th><td>0.9333333</td></tr>\n",
       "\t<tr><th scope=row>SVM</th><td>0.9333333</td></tr>\n",
       "\t<tr><th scope=row>로지스틱회귀분석</th><td>0.9333333</td></tr>\n",
       "</tbody>\n",
       "</table>\n"
      ],
      "text/latex": [
       "\\begin{tabular}{r|l}\n",
       "  & 예측력\\\\\n",
       "\\hline\n",
       "\t인공신경망 & 0.9377778\\\\\n",
       "\t의사결정나무 & 0.8888889\\\\\n",
       "\tRandomForest & 0.9333333\\\\\n",
       "\tSVM & 0.9333333\\\\\n",
       "\t로지스틱회귀분석 & 0.9333333\\\\\n",
       "\\end{tabular}\n"
      ],
      "text/markdown": [
       "\n",
       "| <!--/--> | 예측력 |\n",
       "|---|---|\n",
       "| 인공신경망 | 0.9377778 |\n",
       "| 의사결정나무 | 0.8888889 |\n",
       "| RandomForest | 0.9333333 |\n",
       "| SVM | 0.9333333 |\n",
       "| 로지스틱회귀분석 | 0.9333333 |\n",
       "\n"
      ],
      "text/plain": [
       "                 예측력   \n",
       "인공신경망       0.9377778\n",
       "의사결정나무     0.8888889\n",
       "RandomForest     0.9333333\n",
       "SVM              0.9333333\n",
       "로지스틱회귀분석 0.9333333"
      ]
     },
     "metadata": {},
     "output_type": "display_data"
    }
   ],
   "source": [
    "ML_예측력 <- data.frame(예측력=c(인공신경망(),의사결정나무(),랜덤포레스트(),SVM(),로지스틱회귀분석()))\n",
    "rownames(ML_예측력) <- c('인공신경망', '의사결정나무', 'RandomForest', 'SVM', '로지스틱회귀분석')\n",
    "ML_예측력"
   ]
  },
  {
   "cell_type": "code",
   "execution_count": 73,
   "id": "087aa8d9",
   "metadata": {},
   "outputs": [],
   "source": [
    "# # function(){\n",
    "#     result<-c()\n",
    "#     for(i in 1:5){\n",
    "#         # Sampling\n",
    "#         samp <- createDataPartition(iris$Species, p=0.7, list = F)\n",
    "#         # 학습용 데이터 만들기\n",
    "#         data.tr <- iris[samp,]\n",
    "#         # 검증용 데이터 만들기\n",
    "#         data.test <- iris[-samp,]\n",
    "#         # 문제 및 정답 만들기\n",
    "#         x <- subset(data.test, select = -Species)\n",
    "#         y <- data.test$Species\n",
    "\n",
    "#         # Model 만들기\n",
    "#         model.nnet <- nnet(Species ~ ., data=data.tr, size=3)\n",
    "#         # size:은닉층 갯수로 sample수보다 작아야 함. (Hyper Parameter)\n",
    "\n",
    "#         # 검증\n",
    "#         pred <- predict(model.nnet, x, type = \"class\") # class : 분류된것(객관식), raw : 주관식\n",
    "\n",
    "#         # 예측력\n",
    "#         result <- append(result,mean(pred == y))\n",
    "\n",
    "#     }\n",
    "#     table(pred,y)\n",
    "#     mean(result)     \n",
    "# result\n",
    "# # }"
   ]
  },
  {
   "cell_type": "code",
   "execution_count": null,
   "id": "fdb083a6",
   "metadata": {},
   "outputs": [],
   "source": []
  },
  {
   "cell_type": "code",
   "execution_count": null,
   "id": "817082a6",
   "metadata": {},
   "outputs": [],
   "source": []
  },
  {
   "cell_type": "code",
   "execution_count": null,
   "id": "21b52257",
   "metadata": {},
   "outputs": [],
   "source": []
  },
  {
   "cell_type": "code",
   "execution_count": null,
   "id": "80347c34",
   "metadata": {},
   "outputs": [],
   "source": []
  },
  {
   "cell_type": "code",
   "execution_count": null,
   "id": "56b1a79e",
   "metadata": {},
   "outputs": [],
   "source": []
  },
  {
   "cell_type": "code",
   "execution_count": null,
   "id": "59730de5",
   "metadata": {},
   "outputs": [],
   "source": []
  },
  {
   "cell_type": "code",
   "execution_count": null,
   "id": "9212df90",
   "metadata": {},
   "outputs": [],
   "source": []
  },
  {
   "cell_type": "code",
   "execution_count": null,
   "id": "b1a52e75",
   "metadata": {},
   "outputs": [],
   "source": []
  }
 ],
 "metadata": {
  "kernelspec": {
   "display_name": "R",
   "language": "R",
   "name": "ir"
  },
  "language_info": {
   "codemirror_mode": "r",
   "file_extension": ".r",
   "mimetype": "text/x-r-source",
   "name": "R",
   "pygments_lexer": "r",
   "version": "3.6.1"
  }
 },
 "nbformat": 4,
 "nbformat_minor": 5
}
