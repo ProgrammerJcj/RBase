{
 "cells": [
  {
   "cell_type": "markdown",
   "id": "c51b01db",
   "metadata": {},
   "source": [
    "# 몬테카를로 시뮬레이션"
   ]
  },
  {
   "cell_type": "markdown",
   "id": "f036adfc",
   "metadata": {},
   "source": [
    "### 동전의 앞면과 뒷면 시뮬레이션"
   ]
  },
  {
   "cell_type": "code",
   "execution_count": 1,
   "id": "1a645802",
   "metadata": {},
   "outputs": [
    {
     "name": "stdout",
     "output_type": "stream",
     "text": [
      "[1] 1\n"
     ]
    }
   ],
   "source": [
    "x <- runif(1)\n",
    "if(x <= 1/2){\n",
    "    result = 0 # 앞면\n",
    "}else{\n",
    "    result = 1 # 뒷면\n",
    "}\n",
    "\n",
    "print(result)"
   ]
  },
  {
   "cell_type": "code",
   "execution_count": 2,
   "id": "0ba14d24",
   "metadata": {},
   "outputs": [],
   "source": [
    "coin <- function(n){\n",
    "    count1 = 0 # 앞면\n",
    "    count2 = 0 # 뒷면\n",
    "    \n",
    "    for(i in 1:n){\n",
    "        if(runif(1) <= 1/2){\n",
    "            count1 = count1 + 1 # 앞면\n",
    "        }else{\n",
    "            count2 = count2 + 1 # 뒷면\n",
    "        }\n",
    "    }\n",
    "    cat(\"앞면 :\", count1, \"\\n\")\n",
    "    cat(\"뒷면 :\", count2, \"\\n\")\n",
    "    cat(\"-----------------\\n\")\n",
    "}"
   ]
  },
  {
   "cell_type": "code",
   "execution_count": null,
   "id": "e878bdb4",
   "metadata": {},
   "outputs": [],
   "source": []
  },
  {
   "cell_type": "code",
   "execution_count": 3,
   "id": "5db6ace6",
   "metadata": {},
   "outputs": [
    {
     "name": "stdout",
     "output_type": "stream",
     "text": [
      "앞면 : 5 \n",
      "뒷면 : 5 \n",
      "-----------------\n",
      "앞면 : 58 \n",
      "뒷면 : 42 \n",
      "-----------------\n",
      "앞면 : 499 \n",
      "뒷면 : 501 \n",
      "-----------------\n",
      "앞면 : 5026 \n",
      "뒷면 : 4974 \n",
      "-----------------\n",
      "앞면 : 50067 \n",
      "뒷면 : 49933 \n",
      "-----------------\n",
      "앞면 : 500249 \n",
      "뒷면 : 499751 \n",
      "-----------------\n"
     ]
    }
   ],
   "source": [
    "coin(10)\n",
    "coin(100)\n",
    "coin(1000)\n",
    "coin(10000)\n",
    "coin(100000)\n",
    "coin(1000000)"
   ]
  },
  {
   "cell_type": "markdown",
   "id": "9947e4e6",
   "metadata": {},
   "source": [
    "### 가위, 바위, 보 시뮬레이션"
   ]
  },
  {
   "cell_type": "code",
   "execution_count": 10,
   "id": "271b5433",
   "metadata": {},
   "outputs": [],
   "source": [
    "# rock <- function(n){\n",
    "#     scissors = 0 # 가위\n",
    "#     rock = 0 # 바위\n",
    "#     paper = 0 # 보\n",
    "    \n",
    "#     for(i in 1:n){\n",
    "#         x <-runif(1)*3\n",
    "#         if(x <= 1){\n",
    "#             scissors = scissors + 1 # 가위\n",
    "#         }else if(x <=2){\n",
    "#             rock = rock + 1 # 바위\n",
    "#         }else{\n",
    "#             paper = paper + 1 # 보\n",
    "#         }\n",
    "#     }\n",
    "#     cat(\"가위 :\", scissors, \"\\n\")\n",
    "#     cat(\"바위 :\", rock, \"\\n\")\n",
    "#     cat(\"보 :\", paper, \"\\n\")\n",
    "#     cat(\"-----------------\\n\")\n",
    "# }\n",
    "\n",
    "\n",
    "\n",
    "\n",
    "rock <- function(n){\n",
    "    scissors = 0 # 가위\n",
    "    rock = 0 # 바위\n",
    "    paper = 0 # 보\n",
    "    \n",
    "        for(i in 1:n){\n",
    "        x <- trunc(runif(1)*3)+1\n",
    "        if(x == 1)scissors = scissors + 1 # 가위\n",
    "        if(x == 2)rock = rock + 1 # 바위\n",
    "        if(x == 3)paper = paper + 1 # 보\n",
    "        \n",
    "    }\n",
    "    cat(\"가위 :\", scissors, \"\\n\")\n",
    "    cat(\"바위 :\", rock, \"\\n\")\n",
    "    cat(\"보 :\", paper, \"\\n\")\n",
    "    cat(\"-----------------\\n\")\n",
    "\n",
    "}\n",
    "\n",
    "\n",
    "\n",
    "\n",
    "\n",
    "\n",
    "\n"
   ]
  },
  {
   "cell_type": "code",
   "execution_count": 11,
   "id": "a5c32eed",
   "metadata": {},
   "outputs": [
    {
     "name": "stdout",
     "output_type": "stream",
     "text": [
      "가위 : 3 \n",
      "바위 : 4 \n",
      "보 : 3 \n",
      "-----------------\n",
      "가위 : 37 \n",
      "바위 : 33 \n",
      "보 : 30 \n",
      "-----------------\n",
      "가위 : 313 \n",
      "바위 : 315 \n",
      "보 : 372 \n",
      "-----------------\n",
      "가위 : 3329 \n",
      "바위 : 3306 \n",
      "보 : 3365 \n",
      "-----------------\n",
      "가위 : 33292 \n",
      "바위 : 33190 \n",
      "보 : 33518 \n",
      "-----------------\n",
      "가위 : 333585 \n",
      "바위 : 333191 \n",
      "보 : 333224 \n",
      "-----------------\n"
     ]
    }
   ],
   "source": [
    "rock(10)\n",
    "rock(100)\n",
    "rock(1000)\n",
    "rock(10000)\n",
    "rock(100000)\n",
    "rock(1000000)"
   ]
  },
  {
   "cell_type": "code",
   "execution_count": null,
   "id": "7fe7ebd5",
   "metadata": {},
   "outputs": [],
   "source": [
    "### 주사위 시뮬레이션\n"
   ]
  },
  {
   "cell_type": "code",
   "execution_count": 48,
   "id": "51310a5f",
   "metadata": {},
   "outputs": [],
   "source": [
    "options(scipen=100)\n",
    "dice <- function(n){\n",
    "    d <- rep(0,6)\n",
    "    \n",
    "    \n",
    "    for(i in 1:n){\n",
    "        x <- trunc(runif(1)*6)+1\n",
    "        d[x]=d[x]+1\n",
    "    }\n",
    "    cat(\"Throw :\",n,\"\\n\")\n",
    "    for(i in 1:6){\n",
    "    cat(\"No\",i,\":\", d[i], \"\\n\")\n",
    "    }\n",
    "    cat(\"-----------------\\n\")   \n",
    "}"
   ]
  },
  {
   "cell_type": "code",
   "execution_count": 49,
   "id": "f897e9c0",
   "metadata": {},
   "outputs": [
    {
     "name": "stdout",
     "output_type": "stream",
     "text": [
      "Throw : 10 \n",
      "No 1 : 3 \n",
      "No 2 : 1 \n",
      "No 3 : 1 \n",
      "No 4 : 3 \n",
      "No 5 : 0 \n",
      "No 6 : 2 \n",
      "-----------------\n",
      "Throw : 100 \n",
      "No 1 : 15 \n",
      "No 2 : 18 \n",
      "No 3 : 20 \n",
      "No 4 : 16 \n",
      "No 5 : 18 \n",
      "No 6 : 13 \n",
      "-----------------\n",
      "Throw : 1000 \n",
      "No 1 : 171 \n",
      "No 2 : 156 \n",
      "No 3 : 168 \n",
      "No 4 : 189 \n",
      "No 5 : 165 \n",
      "No 6 : 151 \n",
      "-----------------\n",
      "Throw : 10000 \n",
      "No 1 : 1665 \n",
      "No 2 : 1655 \n",
      "No 3 : 1601 \n",
      "No 4 : 1584 \n",
      "No 5 : 1729 \n",
      "No 6 : 1766 \n",
      "-----------------\n",
      "Throw : 100000 \n",
      "No 1 : 16894 \n",
      "No 2 : 16463 \n",
      "No 3 : 16705 \n",
      "No 4 : 16700 \n",
      "No 5 : 16579 \n",
      "No 6 : 16659 \n",
      "-----------------\n",
      "Throw : 1000000 \n",
      "No 1 : 166361 \n",
      "No 2 : 166373 \n",
      "No 3 : 166834 \n",
      "No 4 : 166482 \n",
      "No 5 : 166987 \n",
      "No 6 : 166963 \n",
      "-----------------\n"
     ]
    }
   ],
   "source": [
    "dice(10)\n",
    "dice(100)\n",
    "dice(1000)\n",
    "dice(10000)\n",
    "dice(100000)\n",
    "dice(1000000)"
   ]
  },
  {
   "cell_type": "code",
   "execution_count": 27,
   "id": "cc01f657",
   "metadata": {},
   "outputs": [
    {
     "data": {
      "text/html": [
       "<ol class=list-inline>\n",
       "\t<li>0</li>\n",
       "\t<li>0</li>\n",
       "\t<li>0</li>\n",
       "\t<li>0</li>\n",
       "\t<li>0</li>\n",
       "\t<li>0</li>\n",
       "</ol>\n"
      ],
      "text/latex": [
       "\\begin{enumerate*}\n",
       "\\item 0\n",
       "\\item 0\n",
       "\\item 0\n",
       "\\item 0\n",
       "\\item 0\n",
       "\\item 0\n",
       "\\end{enumerate*}\n"
      ],
      "text/markdown": [
       "1. 0\n",
       "2. 0\n",
       "3. 0\n",
       "4. 0\n",
       "5. 0\n",
       "6. 0\n",
       "\n",
       "\n"
      ],
      "text/plain": [
       "[1] 0 0 0 0 0 0"
      ]
     },
     "metadata": {},
     "output_type": "display_data"
    }
   ],
   "source": []
  },
  {
   "cell_type": "code",
   "execution_count": null,
   "id": "b3634875",
   "metadata": {},
   "outputs": [],
   "source": []
  },
  {
   "cell_type": "code",
   "execution_count": null,
   "id": "9eaa2e03",
   "metadata": {},
   "outputs": [],
   "source": []
  },
  {
   "cell_type": "code",
   "execution_count": null,
   "id": "85d961d9",
   "metadata": {},
   "outputs": [],
   "source": []
  },
  {
   "cell_type": "code",
   "execution_count": null,
   "id": "0965cae1",
   "metadata": {},
   "outputs": [],
   "source": []
  },
  {
   "cell_type": "code",
   "execution_count": null,
   "id": "671453a6",
   "metadata": {},
   "outputs": [],
   "source": []
  },
  {
   "cell_type": "code",
   "execution_count": null,
   "id": "4c9e0f6f",
   "metadata": {},
   "outputs": [],
   "source": []
  }
 ],
 "metadata": {
  "kernelspec": {
   "display_name": "R",
   "language": "R",
   "name": "ir"
  },
  "language_info": {
   "codemirror_mode": "r",
   "file_extension": ".r",
   "mimetype": "text/x-r-source",
   "name": "R",
   "pygments_lexer": "r",
   "version": "3.6.1"
  }
 },
 "nbformat": 4,
 "nbformat_minor": 5
}
