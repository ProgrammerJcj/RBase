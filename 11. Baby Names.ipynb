{
 "cells": [
  {
   "cell_type": "markdown",
   "id": "f8818a73",
   "metadata": {},
   "source": [
    "# 1880년 부터 2014년 까지의 미국의 아기 이름을 정리해논 데이터셋"
   ]
  },
  {
   "cell_type": "code",
   "execution_count": 9,
   "id": "7540c19b",
   "metadata": {},
   "outputs": [
    {
     "data": {
      "text/html": [
       "<table>\n",
       "<thead><tr><th scope=col>Name</th><th scope=col>Gender</th><th scope=col>Count</th><th scope=col>Year</th><th scope=col>Year.Rank</th></tr></thead>\n",
       "<tbody>\n",
       "\t<tr><td>Mary                  </td><td>F                     </td><td>7065                  </td><td>01/01/1880 12:00:00 AM</td><td>1                     </td></tr>\n",
       "\t<tr><td>Anna                  </td><td>F                     </td><td>2604                  </td><td>01/01/1880 12:00:00 AM</td><td>2                     </td></tr>\n",
       "\t<tr><td>Emma                  </td><td>F                     </td><td>2003                  </td><td>01/01/1880 12:00:00 AM</td><td>3                     </td></tr>\n",
       "\t<tr><td>Elizabeth             </td><td>F                     </td><td>1939                  </td><td>01/01/1880 12:00:00 AM</td><td>4                     </td></tr>\n",
       "\t<tr><td>Minnie                </td><td>F                     </td><td>1746                  </td><td>01/01/1880 12:00:00 AM</td><td>5                     </td></tr>\n",
       "\t<tr><td>Margaret              </td><td>F                     </td><td>1578                  </td><td>01/01/1880 12:00:00 AM</td><td>6                     </td></tr>\n",
       "</tbody>\n",
       "</table>\n"
      ],
      "text/latex": [
       "\\begin{tabular}{r|lllll}\n",
       " Name & Gender & Count & Year & Year.Rank\\\\\n",
       "\\hline\n",
       "\t Mary                   & F                      & 7065                   & 01/01/1880 12:00:00 AM & 1                     \\\\\n",
       "\t Anna                   & F                      & 2604                   & 01/01/1880 12:00:00 AM & 2                     \\\\\n",
       "\t Emma                   & F                      & 2003                   & 01/01/1880 12:00:00 AM & 3                     \\\\\n",
       "\t Elizabeth              & F                      & 1939                   & 01/01/1880 12:00:00 AM & 4                     \\\\\n",
       "\t Minnie                 & F                      & 1746                   & 01/01/1880 12:00:00 AM & 5                     \\\\\n",
       "\t Margaret               & F                      & 1578                   & 01/01/1880 12:00:00 AM & 6                     \\\\\n",
       "\\end{tabular}\n"
      ],
      "text/markdown": [
       "\n",
       "| Name | Gender | Count | Year | Year.Rank |\n",
       "|---|---|---|---|---|\n",
       "| Mary                   | F                      | 7065                   | 01/01/1880 12:00:00 AM | 1                      |\n",
       "| Anna                   | F                      | 2604                   | 01/01/1880 12:00:00 AM | 2                      |\n",
       "| Emma                   | F                      | 2003                   | 01/01/1880 12:00:00 AM | 3                      |\n",
       "| Elizabeth              | F                      | 1939                   | 01/01/1880 12:00:00 AM | 4                      |\n",
       "| Minnie                 | F                      | 1746                   | 01/01/1880 12:00:00 AM | 5                      |\n",
       "| Margaret               | F                      | 1578                   | 01/01/1880 12:00:00 AM | 6                      |\n",
       "\n"
      ],
      "text/plain": [
       "  Name      Gender Count Year                   Year.Rank\n",
       "1 Mary      F      7065  01/01/1880 12:00:00 AM 1        \n",
       "2 Anna      F      2604  01/01/1880 12:00:00 AM 2        \n",
       "3 Emma      F      2003  01/01/1880 12:00:00 AM 3        \n",
       "4 Elizabeth F      1939  01/01/1880 12:00:00 AM 4        \n",
       "5 Minnie    F      1746  01/01/1880 12:00:00 AM 5        \n",
       "6 Margaret  F      1578  01/01/1880 12:00:00 AM 6        "
      ]
     },
     "metadata": {},
     "output_type": "display_data"
    }
   ],
   "source": [
    "baby <- read.csv(\"../RFile/R_Baby_Names_1880-2014.csv\", stringsAsFactors = F)\n",
    "head(baby)"
   ]
  },
  {
   "cell_type": "code",
   "execution_count": 10,
   "id": "bc307db5",
   "metadata": {},
   "outputs": [
    {
     "data": {
      "text/html": [
       "<table>\n",
       "<thead><tr><th></th><th scope=col>Name</th><th scope=col>Gender</th><th scope=col>Count</th><th scope=col>Year</th><th scope=col>Year.Rank</th></tr></thead>\n",
       "<tbody>\n",
       "\t<tr><th scope=row>1825383</th><td>Zyel                  </td><td>M                     </td><td>5                     </td><td>01/01/2014 12:00:00 AM</td><td>13972                 </td></tr>\n",
       "\t<tr><th scope=row>1825384</th><td>Zykeem                </td><td>M                     </td><td>5                     </td><td>01/01/2014 12:00:00 AM</td><td>13973                 </td></tr>\n",
       "\t<tr><th scope=row>1825385</th><td>Zymeer                </td><td>M                     </td><td>5                     </td><td>01/01/2014 12:00:00 AM</td><td>13974                 </td></tr>\n",
       "\t<tr><th scope=row>1825386</th><td>Zymiere               </td><td>M                     </td><td>5                     </td><td>01/01/2014 12:00:00 AM</td><td>13975                 </td></tr>\n",
       "\t<tr><th scope=row>1825387</th><td>Zyran                 </td><td>M                     </td><td>5                     </td><td>01/01/2014 12:00:00 AM</td><td>13976                 </td></tr>\n",
       "\t<tr><th scope=row>1825388</th><td>Zyrin                 </td><td>M                     </td><td>5                     </td><td>01/01/2014 12:00:00 AM</td><td>13977                 </td></tr>\n",
       "</tbody>\n",
       "</table>\n"
      ],
      "text/latex": [
       "\\begin{tabular}{r|lllll}\n",
       "  & Name & Gender & Count & Year & Year.Rank\\\\\n",
       "\\hline\n",
       "\t1825383 & Zyel                   & M                      & 5                      & 01/01/2014 12:00:00 AM & 13972                 \\\\\n",
       "\t1825384 & Zykeem                 & M                      & 5                      & 01/01/2014 12:00:00 AM & 13973                 \\\\\n",
       "\t1825385 & Zymeer                 & M                      & 5                      & 01/01/2014 12:00:00 AM & 13974                 \\\\\n",
       "\t1825386 & Zymiere                & M                      & 5                      & 01/01/2014 12:00:00 AM & 13975                 \\\\\n",
       "\t1825387 & Zyran                  & M                      & 5                      & 01/01/2014 12:00:00 AM & 13976                 \\\\\n",
       "\t1825388 & Zyrin                  & M                      & 5                      & 01/01/2014 12:00:00 AM & 13977                 \\\\\n",
       "\\end{tabular}\n"
      ],
      "text/markdown": [
       "\n",
       "| <!--/--> | Name | Gender | Count | Year | Year.Rank |\n",
       "|---|---|---|---|---|---|\n",
       "| 1825383 | Zyel                   | M                      | 5                      | 01/01/2014 12:00:00 AM | 13972                  |\n",
       "| 1825384 | Zykeem                 | M                      | 5                      | 01/01/2014 12:00:00 AM | 13973                  |\n",
       "| 1825385 | Zymeer                 | M                      | 5                      | 01/01/2014 12:00:00 AM | 13974                  |\n",
       "| 1825386 | Zymiere                | M                      | 5                      | 01/01/2014 12:00:00 AM | 13975                  |\n",
       "| 1825387 | Zyran                  | M                      | 5                      | 01/01/2014 12:00:00 AM | 13976                  |\n",
       "| 1825388 | Zyrin                  | M                      | 5                      | 01/01/2014 12:00:00 AM | 13977                  |\n",
       "\n"
      ],
      "text/plain": [
       "        Name    Gender Count Year                   Year.Rank\n",
       "1825383 Zyel    M      5     01/01/2014 12:00:00 AM 13972    \n",
       "1825384 Zykeem  M      5     01/01/2014 12:00:00 AM 13973    \n",
       "1825385 Zymeer  M      5     01/01/2014 12:00:00 AM 13974    \n",
       "1825386 Zymiere M      5     01/01/2014 12:00:00 AM 13975    \n",
       "1825387 Zyran   M      5     01/01/2014 12:00:00 AM 13976    \n",
       "1825388 Zyrin   M      5     01/01/2014 12:00:00 AM 13977    "
      ]
     },
     "metadata": {},
     "output_type": "display_data"
    }
   ],
   "source": [
    "tail(baby)"
   ]
  },
  {
   "cell_type": "code",
   "execution_count": 11,
   "id": "b0a49b7c",
   "metadata": {},
   "outputs": [
    {
     "data": {
      "text/html": [
       "0"
      ],
      "text/latex": [
       "0"
      ],
      "text/markdown": [
       "0"
      ],
      "text/plain": [
       "[1] 0"
      ]
     },
     "metadata": {},
     "output_type": "display_data"
    }
   ],
   "source": [
    "sum(is.na(baby))"
   ]
  },
  {
   "cell_type": "code",
   "execution_count": 12,
   "id": "9ecd6dd0",
   "metadata": {},
   "outputs": [
    {
     "name": "stdout",
     "output_type": "stream",
     "text": [
      "'data.frame':\t1825388 obs. of  5 variables:\n",
      " $ Name     : chr  \"Mary\" \"Anna\" \"Emma\" \"Elizabeth\" ...\n",
      " $ Gender   : chr  \"F\" \"F\" \"F\" \"F\" ...\n",
      " $ Count    : int  7065 2604 2003 1939 1746 1578 1472 1414 1320 1288 ...\n",
      " $ Year     : chr  \"01/01/1880 12:00:00 AM\" \"01/01/1880 12:00:00 AM\" \"01/01/1880 12:00:00 AM\" \"01/01/1880 12:00:00 AM\" ...\n",
      " $ Year.Rank: int  1 2 3 4 5 6 7 8 9 10 ...\n"
     ]
    }
   ],
   "source": [
    "str(baby)"
   ]
  },
  {
   "cell_type": "code",
   "execution_count": 13,
   "id": "4ca30c73",
   "metadata": {},
   "outputs": [
    {
     "data": {
      "text/plain": [
       "     Name              Gender              Count             Year          \n",
       " Length:1825388     Length:1825388     Min.   :    5.0   Length:1825388    \n",
       " Class :character   Class :character   1st Qu.:    7.0   Class :character  \n",
       " Mode  :character   Mode  :character   Median :   12.0   Mode  :character  \n",
       "                                       Mean   :  184.7                     \n",
       "                                       3rd Qu.:   32.0                     \n",
       "                                       Max.   :99680.0                     \n",
       "   Year.Rank    \n",
       " Min.   :    1  \n",
       " 1st Qu.: 1790  \n",
       " Median : 4009  \n",
       " Mean   : 5301  \n",
       " 3rd Qu.: 7820  \n",
       " Max.   :20548  "
      ]
     },
     "metadata": {},
     "output_type": "display_data"
    }
   ],
   "source": [
    "summary(baby)"
   ]
  },
  {
   "cell_type": "code",
   "execution_count": 14,
   "id": "542bc4ab",
   "metadata": {},
   "outputs": [
    {
     "name": "stdout",
     "output_type": "stream",
     "text": [
      "'data.frame':\t1825388 obs. of  5 variables:\n",
      " $ Name     : chr  \"Mary\" \"Anna\" \"Emma\" \"Elizabeth\" ...\n",
      " $ Gender   : Factor w/ 2 levels \"F\",\"M\": 1 1 1 1 1 1 1 1 1 1 ...\n",
      " $ Count    : int  7065 2604 2003 1939 1746 1578 1472 1414 1320 1288 ...\n",
      " $ Year     : chr  \"01/01/1880 12:00:00 AM\" \"01/01/1880 12:00:00 AM\" \"01/01/1880 12:00:00 AM\" \"01/01/1880 12:00:00 AM\" ...\n",
      " $ Year.Rank: int  1 2 3 4 5 6 7 8 9 10 ...\n"
     ]
    }
   ],
   "source": [
    "baby$Gender <- as.factor(baby$Gender)\n",
    "str(baby)"
   ]
  },
  {
   "cell_type": "code",
   "execution_count": 15,
   "id": "fd94d99c",
   "metadata": {},
   "outputs": [],
   "source": [
    "# baby의 Year부분 정리하기\n",
    "library(stringr)"
   ]
  },
  {
   "cell_type": "code",
   "execution_count": 19,
   "id": "f5a738e2",
   "metadata": {},
   "outputs": [],
   "source": [
    "baby$Year <- str_sub(baby$Year,7,10)"
   ]
  },
  {
   "cell_type": "code",
   "execution_count": 16,
   "id": "550a7c7e",
   "metadata": {},
   "outputs": [
    {
     "data": {
      "text/html": [
       "'01/01/1880 12:00:00 AM'"
      ],
      "text/latex": [
       "'01/01/1880 12:00:00 AM'"
      ],
      "text/markdown": [
       "'01/01/1880 12:00:00 AM'"
      ],
      "text/plain": [
       "[1] \"01/01/1880 12:00:00 AM\""
      ]
     },
     "metadata": {},
     "output_type": "display_data"
    }
   ],
   "source": [
    "baby$Year[1]"
   ]
  },
  {
   "cell_type": "code",
   "execution_count": 20,
   "id": "85f6fbd9",
   "metadata": {},
   "outputs": [
    {
     "data": {
      "text/html": [
       "<table>\n",
       "<thead><tr><th scope=col>Name</th><th scope=col>Gender</th><th scope=col>Count</th><th scope=col>Year</th><th scope=col>Year.Rank</th></tr></thead>\n",
       "<tbody>\n",
       "\t<tr><td>Mary     </td><td>F        </td><td>7065     </td><td>1880     </td><td>1        </td></tr>\n",
       "\t<tr><td>Anna     </td><td>F        </td><td>2604     </td><td>1880     </td><td>2        </td></tr>\n",
       "\t<tr><td>Emma     </td><td>F        </td><td>2003     </td><td>1880     </td><td>3        </td></tr>\n",
       "\t<tr><td>Elizabeth</td><td>F        </td><td>1939     </td><td>1880     </td><td>4        </td></tr>\n",
       "\t<tr><td>Minnie   </td><td>F        </td><td>1746     </td><td>1880     </td><td>5        </td></tr>\n",
       "\t<tr><td>Margaret </td><td>F        </td><td>1578     </td><td>1880     </td><td>6        </td></tr>\n",
       "</tbody>\n",
       "</table>\n"
      ],
      "text/latex": [
       "\\begin{tabular}{r|lllll}\n",
       " Name & Gender & Count & Year & Year.Rank\\\\\n",
       "\\hline\n",
       "\t Mary      & F         & 7065      & 1880      & 1        \\\\\n",
       "\t Anna      & F         & 2604      & 1880      & 2        \\\\\n",
       "\t Emma      & F         & 2003      & 1880      & 3        \\\\\n",
       "\t Elizabeth & F         & 1939      & 1880      & 4        \\\\\n",
       "\t Minnie    & F         & 1746      & 1880      & 5        \\\\\n",
       "\t Margaret  & F         & 1578      & 1880      & 6        \\\\\n",
       "\\end{tabular}\n"
      ],
      "text/markdown": [
       "\n",
       "| Name | Gender | Count | Year | Year.Rank |\n",
       "|---|---|---|---|---|\n",
       "| Mary      | F         | 7065      | 1880      | 1         |\n",
       "| Anna      | F         | 2604      | 1880      | 2         |\n",
       "| Emma      | F         | 2003      | 1880      | 3         |\n",
       "| Elizabeth | F         | 1939      | 1880      | 4         |\n",
       "| Minnie    | F         | 1746      | 1880      | 5         |\n",
       "| Margaret  | F         | 1578      | 1880      | 6         |\n",
       "\n"
      ],
      "text/plain": [
       "  Name      Gender Count Year Year.Rank\n",
       "1 Mary      F      7065  1880 1        \n",
       "2 Anna      F      2604  1880 2        \n",
       "3 Emma      F      2003  1880 3        \n",
       "4 Elizabeth F      1939  1880 4        \n",
       "5 Minnie    F      1746  1880 5        \n",
       "6 Margaret  F      1578  1880 6        "
      ]
     },
     "metadata": {},
     "output_type": "display_data"
    }
   ],
   "source": [
    "head(baby)"
   ]
  },
  {
   "cell_type": "code",
   "execution_count": 22,
   "id": "2fecaab8",
   "metadata": {},
   "outputs": [],
   "source": [
    "# 저장하기\n",
    "write.csv(baby, \"../RFile/baby.csv\", row.names = F)"
   ]
  },
  {
   "cell_type": "code",
   "execution_count": 23,
   "id": "99a33fa8",
   "metadata": {},
   "outputs": [
    {
     "data": {
      "text/plain": [
       "     Name           Gender          Count             Year          \n",
       " Length:1825388     F:1081660   Min.   :    5.0   Length:1825388    \n",
       " Class :character   M: 743728   1st Qu.:    7.0   Class :character  \n",
       " Mode  :character               Median :   12.0   Mode  :character  \n",
       "                                Mean   :  184.7                     \n",
       "                                3rd Qu.:   32.0                     \n",
       "                                Max.   :99680.0                     \n",
       "   Year.Rank    \n",
       " Min.   :    1  \n",
       " 1st Qu.: 1790  \n",
       " Median : 4009  \n",
       " Mean   : 5301  \n",
       " 3rd Qu.: 7820  \n",
       " Max.   :20548  "
      ]
     },
     "metadata": {},
     "output_type": "display_data"
    }
   ],
   "source": [
    "summary(baby)"
   ]
  },
  {
   "cell_type": "code",
   "execution_count": 24,
   "id": "01144351",
   "metadata": {},
   "outputs": [
    {
     "data": {
      "text/html": [
       "1081660"
      ],
      "text/latex": [
       "1081660"
      ],
      "text/markdown": [
       "1081660"
      ],
      "text/plain": [
       "[1] 1081660"
      ]
     },
     "metadata": {},
     "output_type": "display_data"
    }
   ],
   "source": [
    "# baby에서 여자 아이만 Female이라는 dataset를 만들고 row수 구하기\n",
    "Female <- subset(baby, Gender == 'F')\n",
    "nrow(Female)"
   ]
  },
  {
   "cell_type": "code",
   "execution_count": 28,
   "id": "ea9134b8",
   "metadata": {},
   "outputs": [
    {
     "data": {
      "text/html": [
       "64911"
      ],
      "text/latex": [
       "64911"
      ],
      "text/markdown": [
       "64911"
      ],
      "text/plain": [
       "[1] 64911"
      ]
     },
     "metadata": {},
     "output_type": "display_data"
    }
   ],
   "source": [
    "# 여자 아이 이름중 중복 제거하고 갯수 구하기\n",
    "length(unique(Female$Name))"
   ]
  },
  {
   "cell_type": "code",
   "execution_count": 29,
   "id": "b3a67693",
   "metadata": {},
   "outputs": [
    {
     "data": {
      "text/html": [
       "<ol class=list-inline>\n",
       "\t<li>'Mary'</li>\n",
       "\t<li>'Anna'</li>\n",
       "\t<li>'Emma'</li>\n",
       "\t<li>'Elizabeth'</li>\n",
       "\t<li>'Minnie'</li>\n",
       "\t<li>'Margaret'</li>\n",
       "\t<li>'Ida'</li>\n",
       "\t<li>'Alice'</li>\n",
       "\t<li>'Bertha'</li>\n",
       "\t<li>'Sarah'</li>\n",
       "\t<li>'Annie'</li>\n",
       "\t<li>'Clara'</li>\n",
       "\t<li>'Ella'</li>\n",
       "\t<li>'Florence'</li>\n",
       "\t<li>'Cora'</li>\n",
       "\t<li>'Martha'</li>\n",
       "\t<li>'Laura'</li>\n",
       "\t<li>'Nellie'</li>\n",
       "\t<li>'Grace'</li>\n",
       "\t<li>'Carrie'</li>\n",
       "</ol>\n"
      ],
      "text/latex": [
       "\\begin{enumerate*}\n",
       "\\item 'Mary'\n",
       "\\item 'Anna'\n",
       "\\item 'Emma'\n",
       "\\item 'Elizabeth'\n",
       "\\item 'Minnie'\n",
       "\\item 'Margaret'\n",
       "\\item 'Ida'\n",
       "\\item 'Alice'\n",
       "\\item 'Bertha'\n",
       "\\item 'Sarah'\n",
       "\\item 'Annie'\n",
       "\\item 'Clara'\n",
       "\\item 'Ella'\n",
       "\\item 'Florence'\n",
       "\\item 'Cora'\n",
       "\\item 'Martha'\n",
       "\\item 'Laura'\n",
       "\\item 'Nellie'\n",
       "\\item 'Grace'\n",
       "\\item 'Carrie'\n",
       "\\end{enumerate*}\n"
      ],
      "text/markdown": [
       "1. 'Mary'\n",
       "2. 'Anna'\n",
       "3. 'Emma'\n",
       "4. 'Elizabeth'\n",
       "5. 'Minnie'\n",
       "6. 'Margaret'\n",
       "7. 'Ida'\n",
       "8. 'Alice'\n",
       "9. 'Bertha'\n",
       "10. 'Sarah'\n",
       "11. 'Annie'\n",
       "12. 'Clara'\n",
       "13. 'Ella'\n",
       "14. 'Florence'\n",
       "15. 'Cora'\n",
       "16. 'Martha'\n",
       "17. 'Laura'\n",
       "18. 'Nellie'\n",
       "19. 'Grace'\n",
       "20. 'Carrie'\n",
       "\n",
       "\n"
      ],
      "text/plain": [
       " [1] \"Mary\"      \"Anna\"      \"Emma\"      \"Elizabeth\" \"Minnie\"    \"Margaret\" \n",
       " [7] \"Ida\"       \"Alice\"     \"Bertha\"    \"Sarah\"     \"Annie\"     \"Clara\"    \n",
       "[13] \"Ella\"      \"Florence\"  \"Cora\"      \"Martha\"    \"Laura\"     \"Nellie\"   \n",
       "[19] \"Grace\"     \"Carrie\"   "
      ]
     },
     "metadata": {},
     "output_type": "display_data"
    }
   ],
   "source": [
    "# 유일한 여자 아이 이름 20개만 출력하기\n",
    "head(unique(Female$Name), 20)"
   ]
  },
  {
   "cell_type": "markdown",
   "id": "97262ca5",
   "metadata": {},
   "source": [
    "---\n",
    "### 가장 많이 사용된 여자아이 이름 10개 보여주기"
   ]
  },
  {
   "cell_type": "code",
   "execution_count": 31,
   "id": "42aba405",
   "metadata": {},
   "outputs": [
    {
     "name": "stderr",
     "output_type": "stream",
     "text": [
      "\n",
      "Attaching package: ‘dplyr’\n",
      "\n",
      "The following objects are masked from ‘package:stats’:\n",
      "\n",
      "    filter, lag\n",
      "\n",
      "The following objects are masked from ‘package:base’:\n",
      "\n",
      "    intersect, setdiff, setequal, union\n",
      "\n"
     ]
    }
   ],
   "source": [
    "library(dplyr)"
   ]
  },
  {
   "cell_type": "code",
   "execution_count": 39,
   "id": "92cb7af0",
   "metadata": {},
   "outputs": [
    {
     "data": {
      "text/html": [
       "<ol class=list-inline>\n",
       "\t<li>'Mary'</li>\n",
       "\t<li>'Elizabeth'</li>\n",
       "\t<li>'Patricia'</li>\n",
       "\t<li>'Jennifer'</li>\n",
       "\t<li>'Linda'</li>\n",
       "\t<li>'Barbara'</li>\n",
       "\t<li>'Margaret'</li>\n",
       "\t<li>'Susan'</li>\n",
       "\t<li>'Dorothy'</li>\n",
       "\t<li>'Sarah'</li>\n",
       "</ol>\n"
      ],
      "text/latex": [
       "\\begin{enumerate*}\n",
       "\\item 'Mary'\n",
       "\\item 'Elizabeth'\n",
       "\\item 'Patricia'\n",
       "\\item 'Jennifer'\n",
       "\\item 'Linda'\n",
       "\\item 'Barbara'\n",
       "\\item 'Margaret'\n",
       "\\item 'Susan'\n",
       "\\item 'Dorothy'\n",
       "\\item 'Sarah'\n",
       "\\end{enumerate*}\n"
      ],
      "text/markdown": [
       "1. 'Mary'\n",
       "2. 'Elizabeth'\n",
       "3. 'Patricia'\n",
       "4. 'Jennifer'\n",
       "5. 'Linda'\n",
       "6. 'Barbara'\n",
       "7. 'Margaret'\n",
       "8. 'Susan'\n",
       "9. 'Dorothy'\n",
       "10. 'Sarah'\n",
       "\n",
       "\n"
      ],
      "text/plain": [
       " [1] \"Mary\"      \"Elizabeth\" \"Patricia\"  \"Jennifer\"  \"Linda\"     \"Barbara\"  \n",
       " [7] \"Margaret\"  \"Susan\"     \"Dorothy\"   \"Sarah\"    "
      ]
     },
     "metadata": {},
     "output_type": "display_data"
    },
    {
     "data": {
      "text/html": [
       "64911"
      ],
      "text/latex": [
       "64911"
      ],
      "text/markdown": [
       "64911"
      ],
      "text/plain": [
       "[1] 64911"
      ]
     },
     "metadata": {},
     "output_type": "display_data"
    }
   ],
   "source": [
    "Name_count <- aggregate(Count ~ Name,Female,sum)\n",
    "Name_count <- arrange(Name_count,desc(Name_count$Count))\n",
    "head(Name_count$Name,10)\n",
    "nrow(Name_count)"
   ]
  },
  {
   "cell_type": "code",
   "execution_count": 41,
   "id": "bd0eb6b9",
   "metadata": {},
   "outputs": [
    {
     "data": {
      "text/html": [
       "743728"
      ],
      "text/latex": [
       "743728"
      ],
      "text/markdown": [
       "743728"
      ],
      "text/plain": [
       "[1] 743728"
      ]
     },
     "metadata": {},
     "output_type": "display_data"
    }
   ],
   "source": [
    "# baby에서 남자 아이만 Male이라는 데이터셋을 만들고 row수 구하기\n",
    "\n",
    "Male <- subset(baby, Gender == 'M')\n",
    "nrow(Male)"
   ]
  },
  {
   "cell_type": "code",
   "execution_count": 63,
   "id": "4c67ce1e",
   "metadata": {},
   "outputs": [
    {
     "data": {
      "text/html": [
       "<ol class=list-inline>\n",
       "\t<li>110491</li>\n",
       "\t<li>100745</li>\n",
       "\t<li>113683</li>\n",
       "\t<li>104629</li>\n",
       "\t<li>114445</li>\n",
       "\t<li>107800</li>\n",
       "\t<li>110784</li>\n",
       "\t<li>101414</li>\n",
       "\t<li>120853</li>\n",
       "\t<li>110584</li>\n",
       "</ol>\n"
      ],
      "text/latex": [
       "\\begin{enumerate*}\n",
       "\\item 110491\n",
       "\\item 100745\n",
       "\\item 113683\n",
       "\\item 104629\n",
       "\\item 114445\n",
       "\\item 107800\n",
       "\\item 110784\n",
       "\\item 101414\n",
       "\\item 120853\n",
       "\\item 110584\n",
       "\\end{enumerate*}\n"
      ],
      "text/markdown": [
       "1. 110491\n",
       "2. 100745\n",
       "3. 113683\n",
       "4. 104629\n",
       "5. 114445\n",
       "6. 107800\n",
       "7. 110784\n",
       "8. 101414\n",
       "9. 120853\n",
       "10. 110584\n",
       "\n",
       "\n"
      ],
      "text/plain": [
       " [1] 110491 100745 113683 104629 114445 107800 110784 101414 120853 110584"
      ]
     },
     "metadata": {},
     "output_type": "display_data"
    },
    {
     "data": {
      "text/html": [
       "135"
      ],
      "text/latex": [
       "135"
      ],
      "text/markdown": [
       "135"
      ],
      "text/plain": [
       "[1] 135"
      ]
     },
     "metadata": {},
     "output_type": "display_data"
    }
   ],
   "source": [
    "년도별출생_Male <- aggregate(Count~Year,Male,sum)\n",
    "년도별출생_Male[1:10,2]\n",
    "nrow(년도별출생_Male)"
   ]
  },
  {
   "cell_type": "code",
   "execution_count": 61,
   "id": "3d0ad7e7",
   "metadata": {},
   "outputs": [
    {
     "data": {
      "text/html": [
       "<ol class=list-inline>\n",
       "\t<li>90993</li>\n",
       "\t<li>91954</li>\n",
       "\t<li>107850</li>\n",
       "\t<li>112321</li>\n",
       "\t<li>129022</li>\n",
       "\t<li>133055</li>\n",
       "\t<li>144535</li>\n",
       "\t<li>145982</li>\n",
       "\t<li>178627</li>\n",
       "\t<li>178366</li>\n",
       "</ol>\n"
      ],
      "text/latex": [
       "\\begin{enumerate*}\n",
       "\\item 90993\n",
       "\\item 91954\n",
       "\\item 107850\n",
       "\\item 112321\n",
       "\\item 129022\n",
       "\\item 133055\n",
       "\\item 144535\n",
       "\\item 145982\n",
       "\\item 178627\n",
       "\\item 178366\n",
       "\\end{enumerate*}\n"
      ],
      "text/markdown": [
       "1. 90993\n",
       "2. 91954\n",
       "3. 107850\n",
       "4. 112321\n",
       "5. 129022\n",
       "6. 133055\n",
       "7. 144535\n",
       "8. 145982\n",
       "9. 178627\n",
       "10. 178366\n",
       "\n",
       "\n"
      ],
      "text/plain": [
       " [1]  90993  91954 107850 112321 129022 133055 144535 145982 178627 178366"
      ]
     },
     "metadata": {},
     "output_type": "display_data"
    }
   ],
   "source": [
    "년도별출생_Female <- aggregate(Count~Year,Female,sum)\n",
    "년도별출생_Female[1:10,2]"
   ]
  },
  {
   "cell_type": "code",
   "execution_count": 115,
   "id": "986ea060",
   "metadata": {},
   "outputs": [
    {
     "data": {
      "image/png": "[encoded data removed]",
      "text/plain": [
       "Plot with title “1880~2014년 인구분포 현황”"
      ]
     },
     "metadata": {},
     "output_type": "display_data"
    }
   ],
   "source": [
    "options(warn = -1)\n",
    "par(family = 'AppleGothic')\n",
    "plot(년도별출생_Male,\n",
    "     type = \"l\",\n",
    "     col =\"blue\",\n",
    "     ylim = c(0, 2500000),\n",
    "\n",
    "    )\n",
    "\n",
    "# main title 지정\n",
    "title(main=\"1880~2014년 인구분포 현황\")\n",
    "\n",
    "# 선그리기 함수로 def 그리기\n",
    "lines(년도별출생_Female,\n",
    "      type = \"l\",\n",
    "      col = \"orange\",\n",
    "      lty = 1\n",
    "     )\n",
    "\n",
    "# 범례\n",
    "legend(1980, 1000000, # x,y 좌표\n",
    "       c(\"Female\", \"Male\"),\n",
    "       col = c(\"orange\", \"blue\"),\n",
    "       lty = 1,\n",
    "       cex = 1\n",
    "      )"
   ]
  },
  {
   "cell_type": "code",
   "execution_count": null,
   "id": "49abf712",
   "metadata": {},
   "outputs": [],
   "source": []
  },
  {
   "cell_type": "code",
   "execution_count": null,
   "id": "e7e74ec0",
   "metadata": {},
   "outputs": [],
   "source": []
  },
  {
   "cell_type": "code",
   "execution_count": null,
   "id": "6920d110",
   "metadata": {},
   "outputs": [],
   "source": []
  },
  {
   "cell_type": "code",
   "execution_count": null,
   "id": "e7ac22de",
   "metadata": {},
   "outputs": [],
   "source": []
  },
  {
   "cell_type": "code",
   "execution_count": null,
   "id": "4b500df5",
   "metadata": {},
   "outputs": [],
   "source": []
  },
  {
   "cell_type": "code",
   "execution_count": null,
   "id": "4d8c6bdb",
   "metadata": {},
   "outputs": [],
   "source": []
  }
 ],
 "metadata": {
  "kernelspec": {
   "display_name": "R",
   "language": "R",
   "name": "ir"
  },
  "language_info": {
   "codemirror_mode": "r",
   "file_extension": ".r",
   "mimetype": "text/x-r-source",
   "name": "R",
   "pygments_lexer": "r",
   "version": "3.6.1"
  }
 },
 "nbformat": 4,
 "nbformat_minor": 5
}
